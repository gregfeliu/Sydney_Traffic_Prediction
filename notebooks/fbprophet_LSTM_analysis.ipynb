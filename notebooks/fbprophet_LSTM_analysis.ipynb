{
 "cells": [
  {
   "cell_type": "markdown",
   "metadata": {},
   "source": [
    "# Imports"
   ]
  },
  {
   "cell_type": "markdown",
   "metadata": {},
   "source": [
    "## Packages"
   ]
  },
  {
   "cell_type": "code",
   "execution_count": 6,
   "metadata": {},
   "outputs": [
    {
     "data": {
      "application/javascript": [
       "\n",
       "            setTimeout(function() {\n",
       "                var nbb_cell_id = 6;\n",
       "                var nbb_unformatted_code = \"import pandas as pd\\nimport fbprophet\\nfrom fbprophet import Prophet\\nfrom dateutil.easter import easter\\n%matplotlib inline\\nimport matplotlib\\nimport numpy as np\\nimport matplotlib.pylab as plt\\nimport datetime\\nimport seaborn as sns\\nimport glob\\n# Load specific forecasting tools\\nfrom sklearn.metrics import mean_squared_error, mean_squared_log_error\\nfrom sklearn.metrics import median_absolute_error, r2_score, mean_absolute_error\\nfrom sklearn.preprocessing import MinMaxScaler, StandardScaler, QuantileTransformer\\n# Ignore harmless warnings\\nimport warnings\\nwarnings.filterwarnings(\\\"ignore\\\")\\nimport math\\nfrom scipy.stats import normaltest\\nimport holidays\\nfrom keras.models import Sequential\\nfrom keras.layers import Dense, LSTM\\nfrom tabulate import tabulate\\nimport mpl_axes_aligner\\nfrom matplotlib.dates import DateFormatter, WeekdayLocator, DayLocator, MONDAY\";\n",
       "                var nbb_formatted_code = \"import pandas as pd\\nimport fbprophet\\nfrom fbprophet import Prophet\\nfrom dateutil.easter import easter\\n\\n%matplotlib inline\\nimport matplotlib\\nimport numpy as np\\nimport matplotlib.pylab as plt\\nimport datetime\\nimport seaborn as sns\\nimport glob\\n\\n# Load specific forecasting tools\\nfrom sklearn.metrics import mean_squared_error, mean_squared_log_error\\nfrom sklearn.metrics import median_absolute_error, r2_score, mean_absolute_error\\nfrom sklearn.preprocessing import MinMaxScaler, StandardScaler, QuantileTransformer\\n\\n# Ignore harmless warnings\\nimport warnings\\n\\nwarnings.filterwarnings(\\\"ignore\\\")\\nimport math\\nfrom scipy.stats import normaltest\\nimport holidays\\nfrom keras.models import Sequential\\nfrom keras.layers import Dense, LSTM\\nfrom tabulate import tabulate\\nimport mpl_axes_aligner\\nfrom matplotlib.dates import DateFormatter, WeekdayLocator, DayLocator, MONDAY\";\n",
       "                var nbb_cells = Jupyter.notebook.get_cells();\n",
       "                for (var i = 0; i < nbb_cells.length; ++i) {\n",
       "                    if (nbb_cells[i].input_prompt_number == nbb_cell_id) {\n",
       "                        if (nbb_cells[i].get_text() == nbb_unformatted_code) {\n",
       "                             nbb_cells[i].set_text(nbb_formatted_code);\n",
       "                        }\n",
       "                        break;\n",
       "                    }\n",
       "                }\n",
       "            }, 500);\n",
       "            "
      ],
      "text/plain": [
       "<IPython.core.display.Javascript object>"
      ]
     },
     "metadata": {},
     "output_type": "display_data"
    }
   ],
   "source": [
    "import pandas as pd\n",
    "import fbprophet\n",
    "from fbprophet import Prophet\n",
    "from dateutil.easter import easter\n",
    "\n",
    "%matplotlib inline\n",
    "import matplotlib\n",
    "import numpy as np\n",
    "import matplotlib.pylab as plt\n",
    "import datetime\n",
    "import seaborn as sns\n",
    "import glob\n",
    "\n",
    "# Load specific forecasting tools\n",
    "from sklearn.metrics import mean_squared_error, mean_squared_log_error\n",
    "from sklearn.metrics import median_absolute_error, r2_score, mean_absolute_error\n",
    "from sklearn.preprocessing import MinMaxScaler, StandardScaler, QuantileTransformer\n",
    "\n",
    "# Ignore harmless warnings\n",
    "import warnings\n",
    "\n",
    "warnings.filterwarnings(\"ignore\")\n",
    "import math\n",
    "from scipy.stats import normaltest\n",
    "import holidays\n",
    "from keras.models import Sequential\n",
    "from keras.layers import Dense, LSTM\n",
    "from tabulate import tabulate\n",
    "import mpl_axes_aligner\n",
    "from matplotlib.dates import DateFormatter, WeekdayLocator, DayLocator, MONDAY"
   ]
  },
  {
   "cell_type": "markdown",
   "metadata": {},
   "source": [
    "## File Imports"
   ]
  },
  {
   "cell_type": "markdown",
   "metadata": {},
   "source": [
    "To use this notebook, download the files from https://nswtollroaddata.com under \"Data Downloads\" for \"M1 Eastern Distibutor (ED).\" Select the years 2016, 2017, 2018, 2019, 2020 separately and download each of the CSVs separately. Put them all in a folder and DO NOT include this folder name in user_directory."
   ]
  },
  {
   "cell_type": "code",
   "execution_count": 3,
   "metadata": {},
   "outputs": [
    {
     "data": {
      "application/javascript": [
       "\n",
       "            setTimeout(function() {\n",
       "                var nbb_cell_id = 3;\n",
       "                var nbb_unformatted_code = \"#get user directory\\nuser_directory = None\";\n",
       "                var nbb_formatted_code = \"# get user directory\\nuser_directory = None\";\n",
       "                var nbb_cells = Jupyter.notebook.get_cells();\n",
       "                for (var i = 0; i < nbb_cells.length; ++i) {\n",
       "                    if (nbb_cells[i].input_prompt_number == nbb_cell_id) {\n",
       "                        if (nbb_cells[i].get_text() == nbb_unformatted_code) {\n",
       "                             nbb_cells[i].set_text(nbb_formatted_code);\n",
       "                        }\n",
       "                        break;\n",
       "                    }\n",
       "                }\n",
       "            }, 500);\n",
       "            "
      ],
      "text/plain": [
       "<IPython.core.display.Javascript object>"
      ]
     },
     "metadata": {},
     "output_type": "display_data"
    }
   ],
   "source": [
    "# get user directory\n",
    "user_directory = None"
   ]
  },
  {
   "cell_type": "code",
   "execution_count": 4,
   "metadata": {
    "code_folding": []
   },
   "outputs": [
    {
     "data": {
      "application/javascript": [
       "\n",
       "            setTimeout(function() {\n",
       "                var nbb_cell_id = 4;\n",
       "                var nbb_unformatted_code = \"# function to get all of the files\\ndef get_all_dataframes(path_to_data_folder):\\n    # give the path and this function will return all of the dataframes in a sorted list \\n    original_data = glob.glob(path_to_data_folder + \\\"/*/*/*csv\\\",recursive=True)\\n    test_dataframe_list = []\\n    training_dataframe_list = []\\n    for item in original_data:\\n        with open(item) as f:\\n            df = pd.read_csv(f, parse_dates=[['Date', 'IntervalStart']], \\n                             index_col='Date_IntervalStart')\\n            if \\\"2020\\\" in str(f):\\n                test_dataframe_list.append(df)\\n            else:\\n                training_dataframe_list.append(df)\\n    return test_dataframe_list, training_dataframe_list\";\n",
       "                var nbb_formatted_code = \"# function to get all of the files\\ndef get_all_dataframes(path_to_data_folder):\\n    # give the path and this function will return all of the dataframes in a sorted list\\n    original_data = glob.glob(path_to_data_folder + \\\"/*/*/*csv\\\", recursive=True)\\n    test_dataframe_list = []\\n    training_dataframe_list = []\\n    for item in original_data:\\n        with open(item) as f:\\n            df = pd.read_csv(\\n                f,\\n                parse_dates=[[\\\"Date\\\", \\\"IntervalStart\\\"]],\\n                index_col=\\\"Date_IntervalStart\\\",\\n            )\\n            if \\\"2020\\\" in str(f):\\n                test_dataframe_list.append(df)\\n            else:\\n                training_dataframe_list.append(df)\\n    return test_dataframe_list, training_dataframe_list\";\n",
       "                var nbb_cells = Jupyter.notebook.get_cells();\n",
       "                for (var i = 0; i < nbb_cells.length; ++i) {\n",
       "                    if (nbb_cells[i].input_prompt_number == nbb_cell_id) {\n",
       "                        if (nbb_cells[i].get_text() == nbb_unformatted_code) {\n",
       "                             nbb_cells[i].set_text(nbb_formatted_code);\n",
       "                        }\n",
       "                        break;\n",
       "                    }\n",
       "                }\n",
       "            }, 500);\n",
       "            "
      ],
      "text/plain": [
       "<IPython.core.display.Javascript object>"
      ]
     },
     "metadata": {},
     "output_type": "display_data"
    }
   ],
   "source": [
    "# function to get all of the files\n",
    "def get_all_dataframes(path_to_data_folder):\n",
    "    # give the path and this function will return all of the dataframes in a sorted list\n",
    "    original_data = glob.glob(path_to_data_folder + \"/*/*/*csv\",\n",
    "                              recursive=True)\n",
    "    test_dataframe_list = []\n",
    "    training_dataframe_list = []\n",
    "    for item in original_data:\n",
    "        with open(item) as f:\n",
    "            df = pd.read_csv(\n",
    "                f,\n",
    "                parse_dates=[[\"Date\", \"IntervalStart\"]],\n",
    "                index_col=\"Date_IntervalStart\",\n",
    "            )\n",
    "            if \"2020\" in str(f):\n",
    "                test_dataframe_list.append(df)\n",
    "            else:\n",
    "                training_dataframe_list.append(df)\n",
    "    return test_dataframe_list, training_dataframe_list"
   ]
  },
  {
   "cell_type": "code",
   "execution_count": 5,
   "metadata": {},
   "outputs": [
    {
     "data": {
      "application/javascript": [
       "\n",
       "            setTimeout(function() {\n",
       "                var nbb_cell_id = 5;\n",
       "                var nbb_unformatted_code = \"# import files \\nif user_directory is not None:    #i.e.: use the directory given\\n    test_df_list, train_df_list = get_all_dataframes(user_directory)\\nelse:    # point to my directory\\n    test_df_list, train_df_list = get_all_dataframes(\\\"./eastern_distrib\\\")\";\n",
       "                var nbb_formatted_code = \"# import files\\nif user_directory is not None:  # i.e.: use the directory given\\n    test_df_list, train_df_list = get_all_dataframes(user_directory)\\nelse:  # point to my directory\\n    test_df_list, train_df_list = get_all_dataframes(\\\"./eastern_distrib\\\")\";\n",
       "                var nbb_cells = Jupyter.notebook.get_cells();\n",
       "                for (var i = 0; i < nbb_cells.length; ++i) {\n",
       "                    if (nbb_cells[i].input_prompt_number == nbb_cell_id) {\n",
       "                        if (nbb_cells[i].get_text() == nbb_unformatted_code) {\n",
       "                             nbb_cells[i].set_text(nbb_formatted_code);\n",
       "                        }\n",
       "                        break;\n",
       "                    }\n",
       "                }\n",
       "            }, 500);\n",
       "            "
      ],
      "text/plain": [
       "<IPython.core.display.Javascript object>"
      ]
     },
     "metadata": {},
     "output_type": "display_data"
    }
   ],
   "source": [
    "# import files\n",
    "if user_directory is not None:  # i.e.: use the directory given\n",
    "    test_df_list, train_df_list = get_all_dataframes(user_directory)\n",
    "else:  # point to my directory\n",
    "    test_df_list, train_df_list = get_all_dataframes(\"./eastern_distrib\")"
   ]
  },
  {
   "cell_type": "code",
   "execution_count": 6,
   "metadata": {},
   "outputs": [
    {
     "data": {
      "text/plain": [
       "48"
      ]
     },
     "execution_count": 6,
     "metadata": {},
     "output_type": "execute_result"
    },
    {
     "data": {
      "application/javascript": [
       "\n",
       "            setTimeout(function() {\n",
       "                var nbb_cell_id = 6;\n",
       "                var nbb_unformatted_code = \"len(train_df_list)\";\n",
       "                var nbb_formatted_code = \"len(train_df_list)\";\n",
       "                var nbb_cells = Jupyter.notebook.get_cells();\n",
       "                for (var i = 0; i < nbb_cells.length; ++i) {\n",
       "                    if (nbb_cells[i].input_prompt_number == nbb_cell_id) {\n",
       "                        if (nbb_cells[i].get_text() == nbb_unformatted_code) {\n",
       "                             nbb_cells[i].set_text(nbb_formatted_code);\n",
       "                        }\n",
       "                        break;\n",
       "                    }\n",
       "                }\n",
       "            }, 500);\n",
       "            "
      ],
      "text/plain": [
       "<IPython.core.display.Javascript object>"
      ]
     },
     "metadata": {},
     "output_type": "display_data"
    }
   ],
   "source": [
    "len(train_df_list)"
   ]
  },
  {
   "cell_type": "code",
   "execution_count": 7,
   "metadata": {},
   "outputs": [
    {
     "data": {
      "text/plain": [
       "6"
      ]
     },
     "execution_count": 7,
     "metadata": {},
     "output_type": "execute_result"
    },
    {
     "data": {
      "application/javascript": [
       "\n",
       "            setTimeout(function() {\n",
       "                var nbb_cell_id = 7;\n",
       "                var nbb_unformatted_code = \"len(test_df_list)\";\n",
       "                var nbb_formatted_code = \"len(test_df_list)\";\n",
       "                var nbb_cells = Jupyter.notebook.get_cells();\n",
       "                for (var i = 0; i < nbb_cells.length; ++i) {\n",
       "                    if (nbb_cells[i].input_prompt_number == nbb_cell_id) {\n",
       "                        if (nbb_cells[i].get_text() == nbb_unformatted_code) {\n",
       "                             nbb_cells[i].set_text(nbb_formatted_code);\n",
       "                        }\n",
       "                        break;\n",
       "                    }\n",
       "                }\n",
       "            }, 500);\n",
       "            "
      ],
      "text/plain": [
       "<IPython.core.display.Javascript object>"
      ]
     },
     "metadata": {},
     "output_type": "display_data"
    }
   ],
   "source": [
    "len(test_df_list)"
   ]
  },
  {
   "cell_type": "code",
   "execution_count": 8,
   "metadata": {},
   "outputs": [
    {
     "data": {
      "text/html": [
       "<div>\n",
       "<style scoped>\n",
       "    .dataframe tbody tr th:only-of-type {\n",
       "        vertical-align: middle;\n",
       "    }\n",
       "\n",
       "    .dataframe tbody tr th {\n",
       "        vertical-align: top;\n",
       "    }\n",
       "\n",
       "    .dataframe thead th {\n",
       "        text-align: right;\n",
       "    }\n",
       "</style>\n",
       "<table border=\"1\" class=\"dataframe\">\n",
       "  <thead>\n",
       "    <tr style=\"text-align: right;\">\n",
       "      <th></th>\n",
       "      <th>AssetID</th>\n",
       "      <th>FinancialQtrID</th>\n",
       "      <th>IntervalEnd</th>\n",
       "      <th>Version</th>\n",
       "      <th>VehicleClass</th>\n",
       "      <th>TollPointID</th>\n",
       "      <th>GantryDirection</th>\n",
       "      <th>GantryLocation</th>\n",
       "      <th>GantryGPSLatitude</th>\n",
       "      <th>GantryGPSLongitude</th>\n",
       "      <th>GantryType</th>\n",
       "      <th>TotalVolume</th>\n",
       "    </tr>\n",
       "    <tr>\n",
       "      <th>Date_IntervalStart</th>\n",
       "      <th></th>\n",
       "      <th></th>\n",
       "      <th></th>\n",
       "      <th></th>\n",
       "      <th></th>\n",
       "      <th></th>\n",
       "      <th></th>\n",
       "      <th></th>\n",
       "      <th></th>\n",
       "      <th></th>\n",
       "      <th></th>\n",
       "      <th></th>\n",
       "    </tr>\n",
       "  </thead>\n",
       "  <tbody>\n",
       "    <tr>\n",
       "      <th>2015-12-01</th>\n",
       "      <td>ED</td>\n",
       "      <td>201602</td>\n",
       "      <td>00:14</td>\n",
       "      <td>1</td>\n",
       "      <td>Car</td>\n",
       "      <td>C</td>\n",
       "      <td>N</td>\n",
       "      <td>William Street North-bound exit ramp</td>\n",
       "      <td>-33.875924</td>\n",
       "      <td>151.217253</td>\n",
       "      <td>Ramp Gantry</td>\n",
       "      <td>6</td>\n",
       "    </tr>\n",
       "    <tr>\n",
       "      <th>2015-12-01</th>\n",
       "      <td>ED</td>\n",
       "      <td>201602</td>\n",
       "      <td>00:14</td>\n",
       "      <td>1</td>\n",
       "      <td>Car</td>\n",
       "      <td>AB</td>\n",
       "      <td>N</td>\n",
       "      <td>Woolloomooloo Toll Plaza North-bound</td>\n",
       "      <td>-33.869714</td>\n",
       "      <td>151.218398</td>\n",
       "      <td>Mainline Gantry</td>\n",
       "      <td>19</td>\n",
       "    </tr>\n",
       "  </tbody>\n",
       "</table>\n",
       "</div>"
      ],
      "text/plain": [
       "                   AssetID  FinancialQtrID IntervalEnd  Version VehicleClass  \\\n",
       "Date_IntervalStart                                                             \n",
       "2015-12-01              ED          201602       00:14        1          Car   \n",
       "2015-12-01              ED          201602       00:14        1          Car   \n",
       "\n",
       "                   TollPointID GantryDirection  \\\n",
       "Date_IntervalStart                               \n",
       "2015-12-01                   C               N   \n",
       "2015-12-01                  AB               N   \n",
       "\n",
       "                                          GantryLocation  GantryGPSLatitude  \\\n",
       "Date_IntervalStart                                                            \n",
       "2015-12-01          William Street North-bound exit ramp         -33.875924   \n",
       "2015-12-01          Woolloomooloo Toll Plaza North-bound         -33.869714   \n",
       "\n",
       "                    GantryGPSLongitude       GantryType  TotalVolume  \n",
       "Date_IntervalStart                                                    \n",
       "2015-12-01                  151.217253      Ramp Gantry            6  \n",
       "2015-12-01                  151.218398  Mainline Gantry           19  "
      ]
     },
     "execution_count": 8,
     "metadata": {},
     "output_type": "execute_result"
    },
    {
     "data": {
      "application/javascript": [
       "\n",
       "            setTimeout(function() {\n",
       "                var nbb_cell_id = 8;\n",
       "                var nbb_unformatted_code = \"train_df_list[0].head(2)\";\n",
       "                var nbb_formatted_code = \"train_df_list[0].head(2)\";\n",
       "                var nbb_cells = Jupyter.notebook.get_cells();\n",
       "                for (var i = 0; i < nbb_cells.length; ++i) {\n",
       "                    if (nbb_cells[i].input_prompt_number == nbb_cell_id) {\n",
       "                        if (nbb_cells[i].get_text() == nbb_unformatted_code) {\n",
       "                             nbb_cells[i].set_text(nbb_formatted_code);\n",
       "                        }\n",
       "                        break;\n",
       "                    }\n",
       "                }\n",
       "            }, 500);\n",
       "            "
      ],
      "text/plain": [
       "<IPython.core.display.Javascript object>"
      ]
     },
     "metadata": {},
     "output_type": "display_data"
    }
   ],
   "source": [
    "train_df_list[0].head(2)"
   ]
  },
  {
   "cell_type": "code",
   "execution_count": 9,
   "metadata": {},
   "outputs": [
    {
     "data": {
      "text/html": [
       "<div>\n",
       "<style scoped>\n",
       "    .dataframe tbody tr th:only-of-type {\n",
       "        vertical-align: middle;\n",
       "    }\n",
       "\n",
       "    .dataframe tbody tr th {\n",
       "        vertical-align: top;\n",
       "    }\n",
       "\n",
       "    .dataframe thead th {\n",
       "        text-align: right;\n",
       "    }\n",
       "</style>\n",
       "<table border=\"1\" class=\"dataframe\">\n",
       "  <thead>\n",
       "    <tr style=\"text-align: right;\">\n",
       "      <th></th>\n",
       "      <th>AssetID</th>\n",
       "      <th>FinancialQtrID</th>\n",
       "      <th>IntervalEnd</th>\n",
       "      <th>Version</th>\n",
       "      <th>VehicleClass</th>\n",
       "      <th>TollPointID</th>\n",
       "      <th>GantryDirection</th>\n",
       "      <th>GantryLocation</th>\n",
       "      <th>GantryGPSLatitude</th>\n",
       "      <th>GantryGPSLongitude</th>\n",
       "      <th>GantryType</th>\n",
       "      <th>TotalVolume</th>\n",
       "    </tr>\n",
       "    <tr>\n",
       "      <th>Date_IntervalStart</th>\n",
       "      <th></th>\n",
       "      <th></th>\n",
       "      <th></th>\n",
       "      <th></th>\n",
       "      <th></th>\n",
       "      <th></th>\n",
       "      <th></th>\n",
       "      <th></th>\n",
       "      <th></th>\n",
       "      <th></th>\n",
       "      <th></th>\n",
       "      <th></th>\n",
       "    </tr>\n",
       "  </thead>\n",
       "  <tbody>\n",
       "    <tr>\n",
       "      <th>2019-12-01</th>\n",
       "      <td>ED</td>\n",
       "      <td>202002</td>\n",
       "      <td>00:14</td>\n",
       "      <td>1</td>\n",
       "      <td>Car</td>\n",
       "      <td>AB</td>\n",
       "      <td>N</td>\n",
       "      <td>Woolloomooloo Toll Plaza North-bound</td>\n",
       "      <td>-33.869714</td>\n",
       "      <td>151.218398</td>\n",
       "      <td>Mainline Gantry</td>\n",
       "      <td>161</td>\n",
       "    </tr>\n",
       "    <tr>\n",
       "      <th>2019-12-01</th>\n",
       "      <td>ED</td>\n",
       "      <td>202002</td>\n",
       "      <td>00:14</td>\n",
       "      <td>1</td>\n",
       "      <td>Truck</td>\n",
       "      <td>AB</td>\n",
       "      <td>N</td>\n",
       "      <td>Woolloomooloo Toll Plaza North-bound</td>\n",
       "      <td>-33.869714</td>\n",
       "      <td>151.218398</td>\n",
       "      <td>Mainline Gantry</td>\n",
       "      <td>2</td>\n",
       "    </tr>\n",
       "  </tbody>\n",
       "</table>\n",
       "</div>"
      ],
      "text/plain": [
       "                   AssetID  FinancialQtrID IntervalEnd  Version VehicleClass  \\\n",
       "Date_IntervalStart                                                             \n",
       "2019-12-01              ED          202002       00:14        1          Car   \n",
       "2019-12-01              ED          202002       00:14        1        Truck   \n",
       "\n",
       "                   TollPointID GantryDirection  \\\n",
       "Date_IntervalStart                               \n",
       "2019-12-01                  AB               N   \n",
       "2019-12-01                  AB               N   \n",
       "\n",
       "                                          GantryLocation  GantryGPSLatitude  \\\n",
       "Date_IntervalStart                                                            \n",
       "2019-12-01          Woolloomooloo Toll Plaza North-bound         -33.869714   \n",
       "2019-12-01          Woolloomooloo Toll Plaza North-bound         -33.869714   \n",
       "\n",
       "                    GantryGPSLongitude       GantryType  TotalVolume  \n",
       "Date_IntervalStart                                                    \n",
       "2019-12-01                  151.218398  Mainline Gantry          161  \n",
       "2019-12-01                  151.218398  Mainline Gantry            2  "
      ]
     },
     "execution_count": 9,
     "metadata": {},
     "output_type": "execute_result"
    },
    {
     "data": {
      "application/javascript": [
       "\n",
       "            setTimeout(function() {\n",
       "                var nbb_cell_id = 9;\n",
       "                var nbb_unformatted_code = \"test_df_list[0].head(2)\";\n",
       "                var nbb_formatted_code = \"test_df_list[0].head(2)\";\n",
       "                var nbb_cells = Jupyter.notebook.get_cells();\n",
       "                for (var i = 0; i < nbb_cells.length; ++i) {\n",
       "                    if (nbb_cells[i].input_prompt_number == nbb_cell_id) {\n",
       "                        if (nbb_cells[i].get_text() == nbb_unformatted_code) {\n",
       "                             nbb_cells[i].set_text(nbb_formatted_code);\n",
       "                        }\n",
       "                        break;\n",
       "                    }\n",
       "                }\n",
       "            }, 500);\n",
       "            "
      ],
      "text/plain": [
       "<IPython.core.display.Javascript object>"
      ]
     },
     "metadata": {},
     "output_type": "display_data"
    }
   ],
   "source": [
    "test_df_list[0].head(2)"
   ]
  },
  {
   "cell_type": "markdown",
   "metadata": {},
   "source": [
    "# Cleaning the Dataframe"
   ]
  },
  {
   "cell_type": "code",
   "execution_count": 10,
   "metadata": {},
   "outputs": [
    {
     "data": {
      "application/javascript": [
       "\n",
       "            setTimeout(function() {\n",
       "                var nbb_cell_id = 10;\n",
       "                var nbb_unformatted_code = \"# function to clean the dataframe list \\ndef clean_dfs(dataframe_list):\\n    clean_dataframe_list = []\\n    for df in dataframe_list:\\n        df_C = df[df['TollPointID'] == 'C']\\n        df_grouped = pd.DataFrame(df_C.groupby('Date_IntervalStart').TotalVolume.sum())\\n        clean_dataframe_list.append(df_grouped)\\n    return clean_dataframe_list\";\n",
       "                var nbb_formatted_code = \"# function to clean the dataframe list\\ndef clean_dfs(dataframe_list):\\n    clean_dataframe_list = []\\n    for df in dataframe_list:\\n        df_C = df[df[\\\"TollPointID\\\"] == \\\"C\\\"]\\n        df_grouped = pd.DataFrame(df_C.groupby(\\\"Date_IntervalStart\\\").TotalVolume.sum())\\n        clean_dataframe_list.append(df_grouped)\\n    return clean_dataframe_list\";\n",
       "                var nbb_cells = Jupyter.notebook.get_cells();\n",
       "                for (var i = 0; i < nbb_cells.length; ++i) {\n",
       "                    if (nbb_cells[i].input_prompt_number == nbb_cell_id) {\n",
       "                        if (nbb_cells[i].get_text() == nbb_unformatted_code) {\n",
       "                             nbb_cells[i].set_text(nbb_formatted_code);\n",
       "                        }\n",
       "                        break;\n",
       "                    }\n",
       "                }\n",
       "            }, 500);\n",
       "            "
      ],
      "text/plain": [
       "<IPython.core.display.Javascript object>"
      ]
     },
     "metadata": {},
     "output_type": "display_data"
    }
   ],
   "source": [
    "# function to clean the dataframe list\n",
    "def clean_dfs(dataframe_list):\n",
    "    clean_dataframe_list = []\n",
    "    for df in dataframe_list:\n",
    "        df_C = df[df[\"TollPointID\"] == \"C\"]\n",
    "        df_grouped = pd.DataFrame(\n",
    "            df_C.groupby(\"Date_IntervalStart\").TotalVolume.sum())\n",
    "        clean_dataframe_list.append(df_grouped)\n",
    "    return clean_dataframe_list"
   ]
  },
  {
   "cell_type": "code",
   "execution_count": 11,
   "metadata": {},
   "outputs": [
    {
     "data": {
      "application/javascript": [
       "\n",
       "            setTimeout(function() {\n",
       "                var nbb_cell_id = 11;\n",
       "                var nbb_unformatted_code = \"# training dataframes\\nclean_train_df_list = clean_dfs(train_df_list)\\n# test dataframes\\nclean_test_df_list = clean_dfs(test_df_list)\";\n",
       "                var nbb_formatted_code = \"# training dataframes\\nclean_train_df_list = clean_dfs(train_df_list)\\n# test dataframes\\nclean_test_df_list = clean_dfs(test_df_list)\";\n",
       "                var nbb_cells = Jupyter.notebook.get_cells();\n",
       "                for (var i = 0; i < nbb_cells.length; ++i) {\n",
       "                    if (nbb_cells[i].input_prompt_number == nbb_cell_id) {\n",
       "                        if (nbb_cells[i].get_text() == nbb_unformatted_code) {\n",
       "                             nbb_cells[i].set_text(nbb_formatted_code);\n",
       "                        }\n",
       "                        break;\n",
       "                    }\n",
       "                }\n",
       "            }, 500);\n",
       "            "
      ],
      "text/plain": [
       "<IPython.core.display.Javascript object>"
      ]
     },
     "metadata": {},
     "output_type": "display_data"
    }
   ],
   "source": [
    "# training dataframes\n",
    "clean_train_df_list = clean_dfs(train_df_list)\n",
    "# test dataframes\n",
    "clean_test_df_list = clean_dfs(test_df_list)"
   ]
  },
  {
   "cell_type": "code",
   "execution_count": 12,
   "metadata": {},
   "outputs": [
    {
     "data": {
      "text/html": [
       "<div>\n",
       "<style scoped>\n",
       "    .dataframe tbody tr th:only-of-type {\n",
       "        vertical-align: middle;\n",
       "    }\n",
       "\n",
       "    .dataframe tbody tr th {\n",
       "        vertical-align: top;\n",
       "    }\n",
       "\n",
       "    .dataframe thead th {\n",
       "        text-align: right;\n",
       "    }\n",
       "</style>\n",
       "<table border=\"1\" class=\"dataframe\">\n",
       "  <thead>\n",
       "    <tr style=\"text-align: right;\">\n",
       "      <th></th>\n",
       "      <th>TotalVolume</th>\n",
       "    </tr>\n",
       "    <tr>\n",
       "      <th>Date_IntervalStart</th>\n",
       "      <th></th>\n",
       "    </tr>\n",
       "  </thead>\n",
       "  <tbody>\n",
       "    <tr>\n",
       "      <th>2015-12-01 00:00:00</th>\n",
       "      <td>6</td>\n",
       "    </tr>\n",
       "    <tr>\n",
       "      <th>2015-12-01 00:15:00</th>\n",
       "      <td>5</td>\n",
       "    </tr>\n",
       "  </tbody>\n",
       "</table>\n",
       "</div>"
      ],
      "text/plain": [
       "                     TotalVolume\n",
       "Date_IntervalStart              \n",
       "2015-12-01 00:00:00            6\n",
       "2015-12-01 00:15:00            5"
      ]
     },
     "execution_count": 12,
     "metadata": {},
     "output_type": "execute_result"
    },
    {
     "data": {
      "application/javascript": [
       "\n",
       "            setTimeout(function() {\n",
       "                var nbb_cell_id = 12;\n",
       "                var nbb_unformatted_code = \"clean_train_df_list[0].head(2)\";\n",
       "                var nbb_formatted_code = \"clean_train_df_list[0].head(2)\";\n",
       "                var nbb_cells = Jupyter.notebook.get_cells();\n",
       "                for (var i = 0; i < nbb_cells.length; ++i) {\n",
       "                    if (nbb_cells[i].input_prompt_number == nbb_cell_id) {\n",
       "                        if (nbb_cells[i].get_text() == nbb_unformatted_code) {\n",
       "                             nbb_cells[i].set_text(nbb_formatted_code);\n",
       "                        }\n",
       "                        break;\n",
       "                    }\n",
       "                }\n",
       "            }, 500);\n",
       "            "
      ],
      "text/plain": [
       "<IPython.core.display.Javascript object>"
      ]
     },
     "metadata": {},
     "output_type": "display_data"
    }
   ],
   "source": [
    "clean_train_df_list[0].head(2)"
   ]
  },
  {
   "cell_type": "markdown",
   "metadata": {},
   "source": [
    "## Combing the list dataframes into one dataframe "
   ]
  },
  {
   "cell_type": "code",
   "execution_count": 13,
   "metadata": {},
   "outputs": [
    {
     "data": {
      "application/javascript": [
       "\n",
       "            setTimeout(function() {\n",
       "                var nbb_cell_id = 13;\n",
       "                var nbb_unformatted_code = \"train_df = pd.concat(clean_train_df_list)\\ntest_df = pd.concat(clean_test_df_list)\";\n",
       "                var nbb_formatted_code = \"train_df = pd.concat(clean_train_df_list)\\ntest_df = pd.concat(clean_test_df_list)\";\n",
       "                var nbb_cells = Jupyter.notebook.get_cells();\n",
       "                for (var i = 0; i < nbb_cells.length; ++i) {\n",
       "                    if (nbb_cells[i].input_prompt_number == nbb_cell_id) {\n",
       "                        if (nbb_cells[i].get_text() == nbb_unformatted_code) {\n",
       "                             nbb_cells[i].set_text(nbb_formatted_code);\n",
       "                        }\n",
       "                        break;\n",
       "                    }\n",
       "                }\n",
       "            }, 500);\n",
       "            "
      ],
      "text/plain": [
       "<IPython.core.display.Javascript object>"
      ]
     },
     "metadata": {},
     "output_type": "display_data"
    }
   ],
   "source": [
    "train_df = pd.concat(clean_train_df_list)\n",
    "test_df = pd.concat(clean_test_df_list)"
   ]
  },
  {
   "cell_type": "code",
   "execution_count": 14,
   "metadata": {},
   "outputs": [
    {
     "data": {
      "text/html": [
       "<div>\n",
       "<style scoped>\n",
       "    .dataframe tbody tr th:only-of-type {\n",
       "        vertical-align: middle;\n",
       "    }\n",
       "\n",
       "    .dataframe tbody tr th {\n",
       "        vertical-align: top;\n",
       "    }\n",
       "\n",
       "    .dataframe thead th {\n",
       "        text-align: right;\n",
       "    }\n",
       "</style>\n",
       "<table border=\"1\" class=\"dataframe\">\n",
       "  <thead>\n",
       "    <tr style=\"text-align: right;\">\n",
       "      <th></th>\n",
       "      <th>TotalVolume</th>\n",
       "    </tr>\n",
       "    <tr>\n",
       "      <th>Date_IntervalStart</th>\n",
       "      <th></th>\n",
       "    </tr>\n",
       "  </thead>\n",
       "  <tbody>\n",
       "    <tr>\n",
       "      <th>2015-12-01 00:00:00</th>\n",
       "      <td>6</td>\n",
       "    </tr>\n",
       "    <tr>\n",
       "      <th>2015-12-01 00:15:00</th>\n",
       "      <td>5</td>\n",
       "    </tr>\n",
       "  </tbody>\n",
       "</table>\n",
       "</div>"
      ],
      "text/plain": [
       "                     TotalVolume\n",
       "Date_IntervalStart              \n",
       "2015-12-01 00:00:00            6\n",
       "2015-12-01 00:15:00            5"
      ]
     },
     "execution_count": 14,
     "metadata": {},
     "output_type": "execute_result"
    },
    {
     "data": {
      "application/javascript": [
       "\n",
       "            setTimeout(function() {\n",
       "                var nbb_cell_id = 14;\n",
       "                var nbb_unformatted_code = \"train_df.head(2)\";\n",
       "                var nbb_formatted_code = \"train_df.head(2)\";\n",
       "                var nbb_cells = Jupyter.notebook.get_cells();\n",
       "                for (var i = 0; i < nbb_cells.length; ++i) {\n",
       "                    if (nbb_cells[i].input_prompt_number == nbb_cell_id) {\n",
       "                        if (nbb_cells[i].get_text() == nbb_unformatted_code) {\n",
       "                             nbb_cells[i].set_text(nbb_formatted_code);\n",
       "                        }\n",
       "                        break;\n",
       "                    }\n",
       "                }\n",
       "            }, 500);\n",
       "            "
      ],
      "text/plain": [
       "<IPython.core.display.Javascript object>"
      ]
     },
     "metadata": {},
     "output_type": "display_data"
    }
   ],
   "source": [
    "train_df.head(2)"
   ]
  },
  {
   "cell_type": "markdown",
   "metadata": {},
   "source": [
    "### Making test_df hourly"
   ]
  },
  {
   "cell_type": "code",
   "execution_count": 15,
   "metadata": {},
   "outputs": [
    {
     "data": {
      "application/javascript": [
       "\n",
       "            setTimeout(function() {\n",
       "                var nbb_cell_id = 15;\n",
       "                var nbb_unformatted_code = \"test_df_hourly = test_df.resample('h').sum()\";\n",
       "                var nbb_formatted_code = \"test_df_hourly = test_df.resample(\\\"h\\\").sum()\";\n",
       "                var nbb_cells = Jupyter.notebook.get_cells();\n",
       "                for (var i = 0; i < nbb_cells.length; ++i) {\n",
       "                    if (nbb_cells[i].input_prompt_number == nbb_cell_id) {\n",
       "                        if (nbb_cells[i].get_text() == nbb_unformatted_code) {\n",
       "                             nbb_cells[i].set_text(nbb_formatted_code);\n",
       "                        }\n",
       "                        break;\n",
       "                    }\n",
       "                }\n",
       "            }, 500);\n",
       "            "
      ],
      "text/plain": [
       "<IPython.core.display.Javascript object>"
      ]
     },
     "metadata": {},
     "output_type": "display_data"
    }
   ],
   "source": [
    "test_df_hourly = test_df.resample(\"h\").sum()"
   ]
  },
  {
   "cell_type": "code",
   "execution_count": 16,
   "metadata": {},
   "outputs": [
    {
     "data": {
      "text/html": [
       "<div>\n",
       "<style scoped>\n",
       "    .dataframe tbody tr th:only-of-type {\n",
       "        vertical-align: middle;\n",
       "    }\n",
       "\n",
       "    .dataframe tbody tr th {\n",
       "        vertical-align: top;\n",
       "    }\n",
       "\n",
       "    .dataframe thead th {\n",
       "        text-align: right;\n",
       "    }\n",
       "</style>\n",
       "<table border=\"1\" class=\"dataframe\">\n",
       "  <thead>\n",
       "    <tr style=\"text-align: right;\">\n",
       "      <th></th>\n",
       "      <th>TotalVolume</th>\n",
       "    </tr>\n",
       "    <tr>\n",
       "      <th>Date_IntervalStart</th>\n",
       "      <th></th>\n",
       "    </tr>\n",
       "  </thead>\n",
       "  <tbody>\n",
       "    <tr>\n",
       "      <th>2019-07-01 00:00:00</th>\n",
       "      <td>29</td>\n",
       "    </tr>\n",
       "    <tr>\n",
       "      <th>2019-07-01 01:00:00</th>\n",
       "      <td>15</td>\n",
       "    </tr>\n",
       "  </tbody>\n",
       "</table>\n",
       "</div>"
      ],
      "text/plain": [
       "                     TotalVolume\n",
       "Date_IntervalStart              \n",
       "2019-07-01 00:00:00           29\n",
       "2019-07-01 01:00:00           15"
      ]
     },
     "execution_count": 16,
     "metadata": {},
     "output_type": "execute_result"
    },
    {
     "data": {
      "application/javascript": [
       "\n",
       "            setTimeout(function() {\n",
       "                var nbb_cell_id = 16;\n",
       "                var nbb_unformatted_code = \"test_df_hourly.head(2)\";\n",
       "                var nbb_formatted_code = \"test_df_hourly.head(2)\";\n",
       "                var nbb_cells = Jupyter.notebook.get_cells();\n",
       "                for (var i = 0; i < nbb_cells.length; ++i) {\n",
       "                    if (nbb_cells[i].input_prompt_number == nbb_cell_id) {\n",
       "                        if (nbb_cells[i].get_text() == nbb_unformatted_code) {\n",
       "                             nbb_cells[i].set_text(nbb_formatted_code);\n",
       "                        }\n",
       "                        break;\n",
       "                    }\n",
       "                }\n",
       "            }, 500);\n",
       "            "
      ],
      "text/plain": [
       "<IPython.core.display.Javascript object>"
      ]
     },
     "metadata": {},
     "output_type": "display_data"
    }
   ],
   "source": [
    "test_df_hourly.head(2)"
   ]
  },
  {
   "cell_type": "code",
   "execution_count": 17,
   "metadata": {},
   "outputs": [
    {
     "data": {
      "application/javascript": [
       "\n",
       "            setTimeout(function() {\n",
       "                var nbb_cell_id = 17;\n",
       "                var nbb_unformatted_code = \"test_df_hourly.reset_index(inplace=True)\";\n",
       "                var nbb_formatted_code = \"test_df_hourly.reset_index(inplace=True)\";\n",
       "                var nbb_cells = Jupyter.notebook.get_cells();\n",
       "                for (var i = 0; i < nbb_cells.length; ++i) {\n",
       "                    if (nbb_cells[i].input_prompt_number == nbb_cell_id) {\n",
       "                        if (nbb_cells[i].get_text() == nbb_unformatted_code) {\n",
       "                             nbb_cells[i].set_text(nbb_formatted_code);\n",
       "                        }\n",
       "                        break;\n",
       "                    }\n",
       "                }\n",
       "            }, 500);\n",
       "            "
      ],
      "text/plain": [
       "<IPython.core.display.Javascript object>"
      ]
     },
     "metadata": {},
     "output_type": "display_data"
    }
   ],
   "source": [
    "test_df_hourly.reset_index(inplace=True)"
   ]
  },
  {
   "cell_type": "code",
   "execution_count": 18,
   "metadata": {},
   "outputs": [
    {
     "data": {
      "text/plain": [
       "(4416, 2)"
      ]
     },
     "execution_count": 18,
     "metadata": {},
     "output_type": "execute_result"
    },
    {
     "data": {
      "application/javascript": [
       "\n",
       "            setTimeout(function() {\n",
       "                var nbb_cell_id = 18;\n",
       "                var nbb_unformatted_code = \"test_df_hourly.shape\";\n",
       "                var nbb_formatted_code = \"test_df_hourly.shape\";\n",
       "                var nbb_cells = Jupyter.notebook.get_cells();\n",
       "                for (var i = 0; i < nbb_cells.length; ++i) {\n",
       "                    if (nbb_cells[i].input_prompt_number == nbb_cell_id) {\n",
       "                        if (nbb_cells[i].get_text() == nbb_unformatted_code) {\n",
       "                             nbb_cells[i].set_text(nbb_formatted_code);\n",
       "                        }\n",
       "                        break;\n",
       "                    }\n",
       "                }\n",
       "            }, 500);\n",
       "            "
      ],
      "text/plain": [
       "<IPython.core.display.Javascript object>"
      ]
     },
     "metadata": {},
     "output_type": "display_data"
    }
   ],
   "source": [
    "test_df_hourly.shape"
   ]
  },
  {
   "cell_type": "markdown",
   "metadata": {},
   "source": [
    "# Making fbprophet Models\n",
    "stationarity isn't necessary: https://github.com/facebook/prophet/issues/1029"
   ]
  },
  {
   "cell_type": "markdown",
   "metadata": {},
   "source": [
    "## Putting df in the format it requires"
   ]
  },
  {
   "cell_type": "code",
   "execution_count": 19,
   "metadata": {},
   "outputs": [
    {
     "data": {
      "application/javascript": [
       "\n",
       "            setTimeout(function() {\n",
       "                var nbb_cell_id = 19;\n",
       "                var nbb_unformatted_code = \"fb_prophet_train_df = train_df.resample('h').sum()\";\n",
       "                var nbb_formatted_code = \"fb_prophet_train_df = train_df.resample(\\\"h\\\").sum()\";\n",
       "                var nbb_cells = Jupyter.notebook.get_cells();\n",
       "                for (var i = 0; i < nbb_cells.length; ++i) {\n",
       "                    if (nbb_cells[i].input_prompt_number == nbb_cell_id) {\n",
       "                        if (nbb_cells[i].get_text() == nbb_unformatted_code) {\n",
       "                             nbb_cells[i].set_text(nbb_formatted_code);\n",
       "                        }\n",
       "                        break;\n",
       "                    }\n",
       "                }\n",
       "            }, 500);\n",
       "            "
      ],
      "text/plain": [
       "<IPython.core.display.Javascript object>"
      ]
     },
     "metadata": {},
     "output_type": "display_data"
    }
   ],
   "source": [
    "fb_prophet_train_df = train_df.resample(\"h\").sum()"
   ]
  },
  {
   "cell_type": "code",
   "execution_count": 20,
   "metadata": {},
   "outputs": [
    {
     "data": {
      "text/plain": [
       "(35064, 1)"
      ]
     },
     "execution_count": 20,
     "metadata": {},
     "output_type": "execute_result"
    },
    {
     "data": {
      "application/javascript": [
       "\n",
       "            setTimeout(function() {\n",
       "                var nbb_cell_id = 20;\n",
       "                var nbb_unformatted_code = \"fb_prophet_train_df.shape\";\n",
       "                var nbb_formatted_code = \"fb_prophet_train_df.shape\";\n",
       "                var nbb_cells = Jupyter.notebook.get_cells();\n",
       "                for (var i = 0; i < nbb_cells.length; ++i) {\n",
       "                    if (nbb_cells[i].input_prompt_number == nbb_cell_id) {\n",
       "                        if (nbb_cells[i].get_text() == nbb_unformatted_code) {\n",
       "                             nbb_cells[i].set_text(nbb_formatted_code);\n",
       "                        }\n",
       "                        break;\n",
       "                    }\n",
       "                }\n",
       "            }, 500);\n",
       "            "
      ],
      "text/plain": [
       "<IPython.core.display.Javascript object>"
      ]
     },
     "metadata": {},
     "output_type": "display_data"
    }
   ],
   "source": [
    "fb_prophet_train_df.shape"
   ]
  },
  {
   "cell_type": "code",
   "execution_count": 21,
   "metadata": {},
   "outputs": [
    {
     "data": {
      "text/html": [
       "<div>\n",
       "<style scoped>\n",
       "    .dataframe tbody tr th:only-of-type {\n",
       "        vertical-align: middle;\n",
       "    }\n",
       "\n",
       "    .dataframe tbody tr th {\n",
       "        vertical-align: top;\n",
       "    }\n",
       "\n",
       "    .dataframe thead th {\n",
       "        text-align: right;\n",
       "    }\n",
       "</style>\n",
       "<table border=\"1\" class=\"dataframe\">\n",
       "  <thead>\n",
       "    <tr style=\"text-align: right;\">\n",
       "      <th></th>\n",
       "      <th>TotalVolume</th>\n",
       "    </tr>\n",
       "    <tr>\n",
       "      <th>Date_IntervalStart</th>\n",
       "      <th></th>\n",
       "    </tr>\n",
       "  </thead>\n",
       "  <tbody>\n",
       "    <tr>\n",
       "      <th>2015-07-01 00:00:00</th>\n",
       "      <td>19</td>\n",
       "    </tr>\n",
       "    <tr>\n",
       "      <th>2015-07-01 01:00:00</th>\n",
       "      <td>16</td>\n",
       "    </tr>\n",
       "  </tbody>\n",
       "</table>\n",
       "</div>"
      ],
      "text/plain": [
       "                     TotalVolume\n",
       "Date_IntervalStart              \n",
       "2015-07-01 00:00:00           19\n",
       "2015-07-01 01:00:00           16"
      ]
     },
     "execution_count": 21,
     "metadata": {},
     "output_type": "execute_result"
    },
    {
     "data": {
      "application/javascript": [
       "\n",
       "            setTimeout(function() {\n",
       "                var nbb_cell_id = 21;\n",
       "                var nbb_unformatted_code = \"fb_prophet_train_df.head(2)\";\n",
       "                var nbb_formatted_code = \"fb_prophet_train_df.head(2)\";\n",
       "                var nbb_cells = Jupyter.notebook.get_cells();\n",
       "                for (var i = 0; i < nbb_cells.length; ++i) {\n",
       "                    if (nbb_cells[i].input_prompt_number == nbb_cell_id) {\n",
       "                        if (nbb_cells[i].get_text() == nbb_unformatted_code) {\n",
       "                             nbb_cells[i].set_text(nbb_formatted_code);\n",
       "                        }\n",
       "                        break;\n",
       "                    }\n",
       "                }\n",
       "            }, 500);\n",
       "            "
      ],
      "text/plain": [
       "<IPython.core.display.Javascript object>"
      ]
     },
     "metadata": {},
     "output_type": "display_data"
    }
   ],
   "source": [
    "fb_prophet_train_df.head(2)"
   ]
  },
  {
   "cell_type": "code",
   "execution_count": 22,
   "metadata": {},
   "outputs": [
    {
     "data": {
      "application/javascript": [
       "\n",
       "            setTimeout(function() {\n",
       "                var nbb_cell_id = 22;\n",
       "                var nbb_unformatted_code = \"fb_prophet_train_df.reset_index(inplace=True)\";\n",
       "                var nbb_formatted_code = \"fb_prophet_train_df.reset_index(inplace=True)\";\n",
       "                var nbb_cells = Jupyter.notebook.get_cells();\n",
       "                for (var i = 0; i < nbb_cells.length; ++i) {\n",
       "                    if (nbb_cells[i].input_prompt_number == nbb_cell_id) {\n",
       "                        if (nbb_cells[i].get_text() == nbb_unformatted_code) {\n",
       "                             nbb_cells[i].set_text(nbb_formatted_code);\n",
       "                        }\n",
       "                        break;\n",
       "                    }\n",
       "                }\n",
       "            }, 500);\n",
       "            "
      ],
      "text/plain": [
       "<IPython.core.display.Javascript object>"
      ]
     },
     "metadata": {},
     "output_type": "display_data"
    }
   ],
   "source": [
    "fb_prophet_train_df.reset_index(inplace=True)"
   ]
  },
  {
   "cell_type": "code",
   "execution_count": 23,
   "metadata": {},
   "outputs": [
    {
     "data": {
      "application/javascript": [
       "\n",
       "            setTimeout(function() {\n",
       "                var nbb_cell_id = 23;\n",
       "                var nbb_unformatted_code = \"fb_prophet_train_df.columns = ['ds', 'y']\";\n",
       "                var nbb_formatted_code = \"fb_prophet_train_df.columns = [\\\"ds\\\", \\\"y\\\"]\";\n",
       "                var nbb_cells = Jupyter.notebook.get_cells();\n",
       "                for (var i = 0; i < nbb_cells.length; ++i) {\n",
       "                    if (nbb_cells[i].input_prompt_number == nbb_cell_id) {\n",
       "                        if (nbb_cells[i].get_text() == nbb_unformatted_code) {\n",
       "                             nbb_cells[i].set_text(nbb_formatted_code);\n",
       "                        }\n",
       "                        break;\n",
       "                    }\n",
       "                }\n",
       "            }, 500);\n",
       "            "
      ],
      "text/plain": [
       "<IPython.core.display.Javascript object>"
      ]
     },
     "metadata": {},
     "output_type": "display_data"
    }
   ],
   "source": [
    "fb_prophet_train_df.columns = [\"ds\", \"y\"]"
   ]
  },
  {
   "cell_type": "code",
   "execution_count": 24,
   "metadata": {},
   "outputs": [
    {
     "data": {
      "text/plain": [
       "1   2015-07-01 01:00:00\n",
       "2   2015-07-01 02:00:00\n",
       "Name: ds, dtype: datetime64[ns]"
      ]
     },
     "execution_count": 24,
     "metadata": {},
     "output_type": "execute_result"
    },
    {
     "data": {
      "application/javascript": [
       "\n",
       "            setTimeout(function() {\n",
       "                var nbb_cell_id = 24;\n",
       "                var nbb_unformatted_code = \"fb_prophet_train_df['ds'][1:3]\";\n",
       "                var nbb_formatted_code = \"fb_prophet_train_df[\\\"ds\\\"][1:3]\";\n",
       "                var nbb_cells = Jupyter.notebook.get_cells();\n",
       "                for (var i = 0; i < nbb_cells.length; ++i) {\n",
       "                    if (nbb_cells[i].input_prompt_number == nbb_cell_id) {\n",
       "                        if (nbb_cells[i].get_text() == nbb_unformatted_code) {\n",
       "                             nbb_cells[i].set_text(nbb_formatted_code);\n",
       "                        }\n",
       "                        break;\n",
       "                    }\n",
       "                }\n",
       "            }, 500);\n",
       "            "
      ],
      "text/plain": [
       "<IPython.core.display.Javascript object>"
      ]
     },
     "metadata": {},
     "output_type": "display_data"
    }
   ],
   "source": [
    "fb_prophet_train_df[\"ds\"][1:3]"
   ]
  },
  {
   "cell_type": "code",
   "execution_count": 25,
   "metadata": {},
   "outputs": [
    {
     "data": {
      "text/plain": [
       "pandas._libs.tslibs.timestamps.Timestamp"
      ]
     },
     "execution_count": 25,
     "metadata": {},
     "output_type": "execute_result"
    },
    {
     "data": {
      "application/javascript": [
       "\n",
       "            setTimeout(function() {\n",
       "                var nbb_cell_id = 25;\n",
       "                var nbb_unformatted_code = \"type(fb_prophet_train_df['ds'][0])\";\n",
       "                var nbb_formatted_code = \"type(fb_prophet_train_df[\\\"ds\\\"][0])\";\n",
       "                var nbb_cells = Jupyter.notebook.get_cells();\n",
       "                for (var i = 0; i < nbb_cells.length; ++i) {\n",
       "                    if (nbb_cells[i].input_prompt_number == nbb_cell_id) {\n",
       "                        if (nbb_cells[i].get_text() == nbb_unformatted_code) {\n",
       "                             nbb_cells[i].set_text(nbb_formatted_code);\n",
       "                        }\n",
       "                        break;\n",
       "                    }\n",
       "                }\n",
       "            }, 500);\n",
       "            "
      ],
      "text/plain": [
       "<IPython.core.display.Javascript object>"
      ]
     },
     "metadata": {},
     "output_type": "display_data"
    }
   ],
   "source": [
    "type(fb_prophet_train_df[\"ds\"][0])"
   ]
  },
  {
   "cell_type": "markdown",
   "metadata": {},
   "source": [
    "### Baseline Model "
   ]
  },
  {
   "cell_type": "code",
   "execution_count": 26,
   "metadata": {},
   "outputs": [
    {
     "data": {
      "text/plain": [
       "1"
      ]
     },
     "execution_count": 26,
     "metadata": {},
     "output_type": "execute_result"
    },
    {
     "data": {
      "application/javascript": [
       "\n",
       "            setTimeout(function() {\n",
       "                var nbb_cell_id = 26;\n",
       "                var nbb_unformatted_code = \"# matching first monday of test to first monday of july in 2018\\ntest_df_hourly['Date_IntervalStart'][0].day\";\n",
       "                var nbb_formatted_code = \"# matching first monday of test to first monday of july in 2018\\ntest_df_hourly[\\\"Date_IntervalStart\\\"][0].day\";\n",
       "                var nbb_cells = Jupyter.notebook.get_cells();\n",
       "                for (var i = 0; i < nbb_cells.length; ++i) {\n",
       "                    if (nbb_cells[i].input_prompt_number == nbb_cell_id) {\n",
       "                        if (nbb_cells[i].get_text() == nbb_unformatted_code) {\n",
       "                             nbb_cells[i].set_text(nbb_formatted_code);\n",
       "                        }\n",
       "                        break;\n",
       "                    }\n",
       "                }\n",
       "            }, 500);\n",
       "            "
      ],
      "text/plain": [
       "<IPython.core.display.Javascript object>"
      ]
     },
     "metadata": {},
     "output_type": "display_data"
    }
   ],
   "source": [
    "# matching first monday of test to first monday of july in 2018\n",
    "test_df_hourly[\"Date_IntervalStart\"][0].day"
   ]
  },
  {
   "cell_type": "code",
   "execution_count": 27,
   "metadata": {},
   "outputs": [
    {
     "data": {
      "text/plain": [
       "1"
      ]
     },
     "execution_count": 27,
     "metadata": {},
     "output_type": "execute_result"
    },
    {
     "data": {
      "application/javascript": [
       "\n",
       "            setTimeout(function() {\n",
       "                var nbb_cell_id = 27;\n",
       "                var nbb_unformatted_code = \"july_2018 = fb_prophet_train_df[fb_prophet_train_df['ds'] == ('2018-07-01 00:00:00')]\\njuly_2018['ds'].iloc[0].day\";\n",
       "                var nbb_formatted_code = \"july_2018 = fb_prophet_train_df[fb_prophet_train_df[\\\"ds\\\"] == (\\\"2018-07-01 00:00:00\\\")]\\njuly_2018[\\\"ds\\\"].iloc[0].day\";\n",
       "                var nbb_cells = Jupyter.notebook.get_cells();\n",
       "                for (var i = 0; i < nbb_cells.length; ++i) {\n",
       "                    if (nbb_cells[i].input_prompt_number == nbb_cell_id) {\n",
       "                        if (nbb_cells[i].get_text() == nbb_unformatted_code) {\n",
       "                             nbb_cells[i].set_text(nbb_formatted_code);\n",
       "                        }\n",
       "                        break;\n",
       "                    }\n",
       "                }\n",
       "            }, 500);\n",
       "            "
      ],
      "text/plain": [
       "<IPython.core.display.Javascript object>"
      ]
     },
     "metadata": {},
     "output_type": "display_data"
    }
   ],
   "source": [
    "july_2018 = fb_prophet_train_df[fb_prophet_train_df[\"ds\"] == (\n",
    "    \"2018-07-01 00:00:00\")]\n",
    "july_2018[\"ds\"].iloc[0].day"
   ]
  },
  {
   "cell_type": "code",
   "execution_count": 28,
   "metadata": {},
   "outputs": [
    {
     "data": {
      "text/plain": [
       "(4416, 2)"
      ]
     },
     "execution_count": 28,
     "metadata": {},
     "output_type": "execute_result"
    },
    {
     "data": {
      "application/javascript": [
       "\n",
       "            setTimeout(function() {\n",
       "                var nbb_cell_id = 28;\n",
       "                var nbb_unformatted_code = \"test_df_hourly.shape\";\n",
       "                var nbb_formatted_code = \"test_df_hourly.shape\";\n",
       "                var nbb_cells = Jupyter.notebook.get_cells();\n",
       "                for (var i = 0; i < nbb_cells.length; ++i) {\n",
       "                    if (nbb_cells[i].input_prompt_number == nbb_cell_id) {\n",
       "                        if (nbb_cells[i].get_text() == nbb_unformatted_code) {\n",
       "                             nbb_cells[i].set_text(nbb_formatted_code);\n",
       "                        }\n",
       "                        break;\n",
       "                    }\n",
       "                }\n",
       "            }, 500);\n",
       "            "
      ],
      "text/plain": [
       "<IPython.core.display.Javascript object>"
      ]
     },
     "metadata": {},
     "output_type": "display_data"
    }
   ],
   "source": [
    "test_df_hourly.shape"
   ]
  },
  {
   "cell_type": "code",
   "execution_count": 29,
   "metadata": {},
   "outputs": [
    {
     "data": {
      "application/javascript": [
       "\n",
       "            setTimeout(function() {\n",
       "                var nbb_cell_id = 29;\n",
       "                var nbb_unformatted_code = \"# I will grab the values from 2018-07-01 to 2018-12-31\\nbaseline_y = fb_prophet_train_df['y'][26304:(26304+4416)].values\";\n",
       "                var nbb_formatted_code = \"# I will grab the values from 2018-07-01 to 2018-12-31\\nbaseline_y = fb_prophet_train_df[\\\"y\\\"][26304 : (26304 + 4416)].values\";\n",
       "                var nbb_cells = Jupyter.notebook.get_cells();\n",
       "                for (var i = 0; i < nbb_cells.length; ++i) {\n",
       "                    if (nbb_cells[i].input_prompt_number == nbb_cell_id) {\n",
       "                        if (nbb_cells[i].get_text() == nbb_unformatted_code) {\n",
       "                             nbb_cells[i].set_text(nbb_formatted_code);\n",
       "                        }\n",
       "                        break;\n",
       "                    }\n",
       "                }\n",
       "            }, 500);\n",
       "            "
      ],
      "text/plain": [
       "<IPython.core.display.Javascript object>"
      ]
     },
     "metadata": {},
     "output_type": "display_data"
    }
   ],
   "source": [
    "# I will grab the values from 2018-07-01 to 2018-12-31\n",
    "baseline_y = fb_prophet_train_df[\"y\"][26304:(26304 + 4416)].values"
   ]
  },
  {
   "cell_type": "code",
   "execution_count": 30,
   "metadata": {},
   "outputs": [
    {
     "data": {
      "text/plain": [
       "4416"
      ]
     },
     "execution_count": 30,
     "metadata": {},
     "output_type": "execute_result"
    },
    {
     "data": {
      "application/javascript": [
       "\n",
       "            setTimeout(function() {\n",
       "                var nbb_cell_id = 30;\n",
       "                var nbb_unformatted_code = \"len(baseline_y)\";\n",
       "                var nbb_formatted_code = \"len(baseline_y)\";\n",
       "                var nbb_cells = Jupyter.notebook.get_cells();\n",
       "                for (var i = 0; i < nbb_cells.length; ++i) {\n",
       "                    if (nbb_cells[i].input_prompt_number == nbb_cell_id) {\n",
       "                        if (nbb_cells[i].get_text() == nbb_unformatted_code) {\n",
       "                             nbb_cells[i].set_text(nbb_formatted_code);\n",
       "                        }\n",
       "                        break;\n",
       "                    }\n",
       "                }\n",
       "            }, 500);\n",
       "            "
      ],
      "text/plain": [
       "<IPython.core.display.Javascript object>"
      ]
     },
     "metadata": {},
     "output_type": "display_data"
    }
   ],
   "source": [
    "len(baseline_y)"
   ]
  },
  {
   "cell_type": "markdown",
   "metadata": {},
   "source": [
    "### First Model"
   ]
  },
  {
   "cell_type": "code",
   "execution_count": 31,
   "metadata": {},
   "outputs": [
    {
     "data": {
      "application/javascript": [
       "\n",
       "            setTimeout(function() {\n",
       "                var nbb_cell_id = 31;\n",
       "                var nbb_unformatted_code = \"# not sure what type the ds column should be \\n## maybe it should be in datetime format, not pandas version of that \\n# fb_prophet_train_df['ds'] = fb_prophet_train_df['ds'].values.astype('<M8[D]')\";\n",
       "                var nbb_formatted_code = \"# not sure what type the ds column should be\\n## maybe it should be in datetime format, not pandas version of that\\n# fb_prophet_train_df['ds'] = fb_prophet_train_df['ds'].values.astype('<M8[D]')\";\n",
       "                var nbb_cells = Jupyter.notebook.get_cells();\n",
       "                for (var i = 0; i < nbb_cells.length; ++i) {\n",
       "                    if (nbb_cells[i].input_prompt_number == nbb_cell_id) {\n",
       "                        if (nbb_cells[i].get_text() == nbb_unformatted_code) {\n",
       "                             nbb_cells[i].set_text(nbb_formatted_code);\n",
       "                        }\n",
       "                        break;\n",
       "                    }\n",
       "                }\n",
       "            }, 500);\n",
       "            "
      ],
      "text/plain": [
       "<IPython.core.display.Javascript object>"
      ]
     },
     "metadata": {},
     "output_type": "display_data"
    }
   ],
   "source": [
    "# not sure what type the ds column should be\n",
    "## maybe it should be in datetime format, not pandas version of that\n",
    "# fb_prophet_train_df['ds'] = fb_prophet_train_df['ds'].values.astype('<M8[D]')"
   ]
  },
  {
   "cell_type": "code",
   "execution_count": 32,
   "metadata": {},
   "outputs": [
    {
     "data": {
      "application/javascript": [
       "\n",
       "            setTimeout(function() {\n",
       "                var nbb_cell_id = 32;\n",
       "                var nbb_unformatted_code = \"prophetfmodel = Prophet(daily_seasonality=True)\";\n",
       "                var nbb_formatted_code = \"prophetfmodel = Prophet(daily_seasonality=True)\";\n",
       "                var nbb_cells = Jupyter.notebook.get_cells();\n",
       "                for (var i = 0; i < nbb_cells.length; ++i) {\n",
       "                    if (nbb_cells[i].input_prompt_number == nbb_cell_id) {\n",
       "                        if (nbb_cells[i].get_text() == nbb_unformatted_code) {\n",
       "                             nbb_cells[i].set_text(nbb_formatted_code);\n",
       "                        }\n",
       "                        break;\n",
       "                    }\n",
       "                }\n",
       "            }, 500);\n",
       "            "
      ],
      "text/plain": [
       "<IPython.core.display.Javascript object>"
      ]
     },
     "metadata": {},
     "output_type": "display_data"
    }
   ],
   "source": [
    "prophetfmodel = Prophet(daily_seasonality=True)"
   ]
  },
  {
   "cell_type": "code",
   "execution_count": 33,
   "metadata": {},
   "outputs": [
    {
     "data": {
      "text/plain": [
       "<fbprophet.forecaster.Prophet at 0x7ff805fe7eb8>"
      ]
     },
     "execution_count": 33,
     "metadata": {},
     "output_type": "execute_result"
    },
    {
     "data": {
      "application/javascript": [
       "\n",
       "            setTimeout(function() {\n",
       "                var nbb_cell_id = 33;\n",
       "                var nbb_unformatted_code = \"prophetfmodel.fit(fb_prophet_train_df)\";\n",
       "                var nbb_formatted_code = \"prophetfmodel.fit(fb_prophet_train_df)\";\n",
       "                var nbb_cells = Jupyter.notebook.get_cells();\n",
       "                for (var i = 0; i < nbb_cells.length; ++i) {\n",
       "                    if (nbb_cells[i].input_prompt_number == nbb_cell_id) {\n",
       "                        if (nbb_cells[i].get_text() == nbb_unformatted_code) {\n",
       "                             nbb_cells[i].set_text(nbb_formatted_code);\n",
       "                        }\n",
       "                        break;\n",
       "                    }\n",
       "                }\n",
       "            }, 500);\n",
       "            "
      ],
      "text/plain": [
       "<IPython.core.display.Javascript object>"
      ]
     },
     "metadata": {},
     "output_type": "display_data"
    }
   ],
   "source": [
    "prophetfmodel.fit(fb_prophet_train_df)"
   ]
  },
  {
   "cell_type": "code",
   "execution_count": 34,
   "metadata": {},
   "outputs": [
    {
     "data": {
      "application/javascript": [
       "\n",
       "            setTimeout(function() {\n",
       "                var nbb_cell_id = 34;\n",
       "                var nbb_unformatted_code = \"one_week = 24 * 4\\ntest_df_length = len(test_df_hourly)\";\n",
       "                var nbb_formatted_code = \"one_week = 24 * 4\\ntest_df_length = len(test_df_hourly)\";\n",
       "                var nbb_cells = Jupyter.notebook.get_cells();\n",
       "                for (var i = 0; i < nbb_cells.length; ++i) {\n",
       "                    if (nbb_cells[i].input_prompt_number == nbb_cell_id) {\n",
       "                        if (nbb_cells[i].get_text() == nbb_unformatted_code) {\n",
       "                             nbb_cells[i].set_text(nbb_formatted_code);\n",
       "                        }\n",
       "                        break;\n",
       "                    }\n",
       "                }\n",
       "            }, 500);\n",
       "            "
      ],
      "text/plain": [
       "<IPython.core.display.Javascript object>"
      ]
     },
     "metadata": {},
     "output_type": "display_data"
    }
   ],
   "source": [
    "one_week = 24 * 4\n",
    "test_df_length = len(test_df_hourly)"
   ]
  },
  {
   "cell_type": "code",
   "execution_count": 35,
   "metadata": {},
   "outputs": [
    {
     "data": {
      "text/html": [
       "<div>\n",
       "<style scoped>\n",
       "    .dataframe tbody tr th:only-of-type {\n",
       "        vertical-align: middle;\n",
       "    }\n",
       "\n",
       "    .dataframe tbody tr th {\n",
       "        vertical-align: top;\n",
       "    }\n",
       "\n",
       "    .dataframe thead th {\n",
       "        text-align: right;\n",
       "    }\n",
       "</style>\n",
       "<table border=\"1\" class=\"dataframe\">\n",
       "  <thead>\n",
       "    <tr style=\"text-align: right;\">\n",
       "      <th></th>\n",
       "      <th>ds</th>\n",
       "    </tr>\n",
       "  </thead>\n",
       "  <tbody>\n",
       "    <tr>\n",
       "      <th>39478</th>\n",
       "      <td>2019-12-31 22:00:00</td>\n",
       "    </tr>\n",
       "    <tr>\n",
       "      <th>39479</th>\n",
       "      <td>2019-12-31 23:00:00</td>\n",
       "    </tr>\n",
       "  </tbody>\n",
       "</table>\n",
       "</div>"
      ],
      "text/plain": [
       "                       ds\n",
       "39478 2019-12-31 22:00:00\n",
       "39479 2019-12-31 23:00:00"
      ]
     },
     "execution_count": 35,
     "metadata": {},
     "output_type": "execute_result"
    },
    {
     "data": {
      "application/javascript": [
       "\n",
       "            setTimeout(function() {\n",
       "                var nbb_cell_id = 35;\n",
       "                var nbb_unformatted_code = \"future = prophetfmodel.make_future_dataframe(periods=test_df_length, freq='H')\\nfuture.tail(2)\";\n",
       "                var nbb_formatted_code = \"future = prophetfmodel.make_future_dataframe(periods=test_df_length, freq=\\\"H\\\")\\nfuture.tail(2)\";\n",
       "                var nbb_cells = Jupyter.notebook.get_cells();\n",
       "                for (var i = 0; i < nbb_cells.length; ++i) {\n",
       "                    if (nbb_cells[i].input_prompt_number == nbb_cell_id) {\n",
       "                        if (nbb_cells[i].get_text() == nbb_unformatted_code) {\n",
       "                             nbb_cells[i].set_text(nbb_formatted_code);\n",
       "                        }\n",
       "                        break;\n",
       "                    }\n",
       "                }\n",
       "            }, 500);\n",
       "            "
      ],
      "text/plain": [
       "<IPython.core.display.Javascript object>"
      ]
     },
     "metadata": {},
     "output_type": "display_data"
    }
   ],
   "source": [
    "future = prophetfmodel.make_future_dataframe(periods=test_df_length, freq=\"H\")\n",
    "future.tail(2)"
   ]
  },
  {
   "cell_type": "code",
   "execution_count": 36,
   "metadata": {},
   "outputs": [
    {
     "data": {
      "text/html": [
       "<div>\n",
       "<style scoped>\n",
       "    .dataframe tbody tr th:only-of-type {\n",
       "        vertical-align: middle;\n",
       "    }\n",
       "\n",
       "    .dataframe tbody tr th {\n",
       "        vertical-align: top;\n",
       "    }\n",
       "\n",
       "    .dataframe thead th {\n",
       "        text-align: right;\n",
       "    }\n",
       "</style>\n",
       "<table border=\"1\" class=\"dataframe\">\n",
       "  <thead>\n",
       "    <tr style=\"text-align: right;\">\n",
       "      <th></th>\n",
       "      <th>ds</th>\n",
       "      <th>yhat</th>\n",
       "      <th>yhat_lower</th>\n",
       "      <th>yhat_upper</th>\n",
       "    </tr>\n",
       "  </thead>\n",
       "  <tbody>\n",
       "    <tr>\n",
       "      <th>39478</th>\n",
       "      <td>2019-12-31 22:00:00</td>\n",
       "      <td>141.488202</td>\n",
       "      <td>-26.677170</td>\n",
       "      <td>321.230448</td>\n",
       "    </tr>\n",
       "    <tr>\n",
       "      <th>39479</th>\n",
       "      <td>2019-12-31 23:00:00</td>\n",
       "      <td>99.260786</td>\n",
       "      <td>-66.117491</td>\n",
       "      <td>273.006659</td>\n",
       "    </tr>\n",
       "  </tbody>\n",
       "</table>\n",
       "</div>"
      ],
      "text/plain": [
       "                       ds        yhat  yhat_lower  yhat_upper\n",
       "39478 2019-12-31 22:00:00  141.488202  -26.677170  321.230448\n",
       "39479 2019-12-31 23:00:00   99.260786  -66.117491  273.006659"
      ]
     },
     "execution_count": 36,
     "metadata": {},
     "output_type": "execute_result"
    },
    {
     "data": {
      "application/javascript": [
       "\n",
       "            setTimeout(function() {\n",
       "                var nbb_cell_id = 36;\n",
       "                var nbb_unformatted_code = \"forecast = prophetfmodel.predict(future)\\nforecast[['ds', 'yhat', 'yhat_lower', 'yhat_upper']].tail(2)\";\n",
       "                var nbb_formatted_code = \"forecast = prophetfmodel.predict(future)\\nforecast[[\\\"ds\\\", \\\"yhat\\\", \\\"yhat_lower\\\", \\\"yhat_upper\\\"]].tail(2)\";\n",
       "                var nbb_cells = Jupyter.notebook.get_cells();\n",
       "                for (var i = 0; i < nbb_cells.length; ++i) {\n",
       "                    if (nbb_cells[i].input_prompt_number == nbb_cell_id) {\n",
       "                        if (nbb_cells[i].get_text() == nbb_unformatted_code) {\n",
       "                             nbb_cells[i].set_text(nbb_formatted_code);\n",
       "                        }\n",
       "                        break;\n",
       "                    }\n",
       "                }\n",
       "            }, 500);\n",
       "            "
      ],
      "text/plain": [
       "<IPython.core.display.Javascript object>"
      ]
     },
     "metadata": {},
     "output_type": "display_data"
    }
   ],
   "source": [
    "forecast = prophetfmodel.predict(future)\n",
    "forecast[[\"ds\", \"yhat\", \"yhat_lower\", \"yhat_upper\"]].tail(2)"
   ]
  },
  {
   "cell_type": "markdown",
   "metadata": {},
   "source": [
    "### Model 2"
   ]
  },
  {
   "cell_type": "code",
   "execution_count": 37,
   "metadata": {},
   "outputs": [
    {
     "data": {
      "text/html": [
       "<div>\n",
       "<style scoped>\n",
       "    .dataframe tbody tr th:only-of-type {\n",
       "        vertical-align: middle;\n",
       "    }\n",
       "\n",
       "    .dataframe tbody tr th {\n",
       "        vertical-align: top;\n",
       "    }\n",
       "\n",
       "    .dataframe thead th {\n",
       "        text-align: right;\n",
       "    }\n",
       "</style>\n",
       "<table border=\"1\" class=\"dataframe\">\n",
       "  <thead>\n",
       "    <tr style=\"text-align: right;\">\n",
       "      <th></th>\n",
       "      <th>ds</th>\n",
       "      <th>y</th>\n",
       "    </tr>\n",
       "  </thead>\n",
       "  <tbody>\n",
       "    <tr>\n",
       "      <th>0</th>\n",
       "      <td>2015-07-01 00:00:00</td>\n",
       "      <td>19</td>\n",
       "    </tr>\n",
       "    <tr>\n",
       "      <th>1</th>\n",
       "      <td>2015-07-01 01:00:00</td>\n",
       "      <td>16</td>\n",
       "    </tr>\n",
       "  </tbody>\n",
       "</table>\n",
       "</div>"
      ],
      "text/plain": [
       "                   ds   y\n",
       "0 2015-07-01 00:00:00  19\n",
       "1 2015-07-01 01:00:00  16"
      ]
     },
     "execution_count": 37,
     "metadata": {},
     "output_type": "execute_result"
    },
    {
     "data": {
      "application/javascript": [
       "\n",
       "            setTimeout(function() {\n",
       "                var nbb_cell_id = 37;\n",
       "                var nbb_unformatted_code = \"fb_prophet_train_df.head(2)\";\n",
       "                var nbb_formatted_code = \"fb_prophet_train_df.head(2)\";\n",
       "                var nbb_cells = Jupyter.notebook.get_cells();\n",
       "                for (var i = 0; i < nbb_cells.length; ++i) {\n",
       "                    if (nbb_cells[i].input_prompt_number == nbb_cell_id) {\n",
       "                        if (nbb_cells[i].get_text() == nbb_unformatted_code) {\n",
       "                             nbb_cells[i].set_text(nbb_formatted_code);\n",
       "                        }\n",
       "                        break;\n",
       "                    }\n",
       "                }\n",
       "            }, 500);\n",
       "            "
      ],
      "text/plain": [
       "<IPython.core.display.Javascript object>"
      ]
     },
     "metadata": {},
     "output_type": "display_data"
    }
   ],
   "source": [
    "fb_prophet_train_df.head(2)"
   ]
  },
  {
   "cell_type": "code",
   "execution_count": 38,
   "metadata": {},
   "outputs": [
    {
     "data": {
      "application/javascript": [
       "\n",
       "            setTimeout(function() {\n",
       "                var nbb_cell_id = 38;\n",
       "                var nbb_unformatted_code = \"prophetfmodel2 = Prophet(daily_seasonality=True, yearly_seasonality = True, weekly_seasonality = True)\";\n",
       "                var nbb_formatted_code = \"prophetfmodel2 = Prophet(\\n    daily_seasonality=True, yearly_seasonality=True, weekly_seasonality=True\\n)\";\n",
       "                var nbb_cells = Jupyter.notebook.get_cells();\n",
       "                for (var i = 0; i < nbb_cells.length; ++i) {\n",
       "                    if (nbb_cells[i].input_prompt_number == nbb_cell_id) {\n",
       "                        if (nbb_cells[i].get_text() == nbb_unformatted_code) {\n",
       "                             nbb_cells[i].set_text(nbb_formatted_code);\n",
       "                        }\n",
       "                        break;\n",
       "                    }\n",
       "                }\n",
       "            }, 500);\n",
       "            "
      ],
      "text/plain": [
       "<IPython.core.display.Javascript object>"
      ]
     },
     "metadata": {},
     "output_type": "display_data"
    }
   ],
   "source": [
    "prophetfmodel2 = Prophet(daily_seasonality=True,\n",
    "                         yearly_seasonality=True,\n",
    "                         weekly_seasonality=True)"
   ]
  },
  {
   "cell_type": "code",
   "execution_count": 39,
   "metadata": {},
   "outputs": [
    {
     "data": {
      "text/plain": [
       "<fbprophet.forecaster.Prophet at 0x7ff80ba28518>"
      ]
     },
     "execution_count": 39,
     "metadata": {},
     "output_type": "execute_result"
    },
    {
     "data": {
      "application/javascript": [
       "\n",
       "            setTimeout(function() {\n",
       "                var nbb_cell_id = 39;\n",
       "                var nbb_unformatted_code = \"prophetfmodel2.fit(fb_prophet_train_df)\";\n",
       "                var nbb_formatted_code = \"prophetfmodel2.fit(fb_prophet_train_df)\";\n",
       "                var nbb_cells = Jupyter.notebook.get_cells();\n",
       "                for (var i = 0; i < nbb_cells.length; ++i) {\n",
       "                    if (nbb_cells[i].input_prompt_number == nbb_cell_id) {\n",
       "                        if (nbb_cells[i].get_text() == nbb_unformatted_code) {\n",
       "                             nbb_cells[i].set_text(nbb_formatted_code);\n",
       "                        }\n",
       "                        break;\n",
       "                    }\n",
       "                }\n",
       "            }, 500);\n",
       "            "
      ],
      "text/plain": [
       "<IPython.core.display.Javascript object>"
      ]
     },
     "metadata": {},
     "output_type": "display_data"
    }
   ],
   "source": [
    "prophetfmodel2.fit(fb_prophet_train_df)"
   ]
  },
  {
   "cell_type": "code",
   "execution_count": 40,
   "metadata": {},
   "outputs": [
    {
     "data": {
      "text/html": [
       "<div>\n",
       "<style scoped>\n",
       "    .dataframe tbody tr th:only-of-type {\n",
       "        vertical-align: middle;\n",
       "    }\n",
       "\n",
       "    .dataframe tbody tr th {\n",
       "        vertical-align: top;\n",
       "    }\n",
       "\n",
       "    .dataframe thead th {\n",
       "        text-align: right;\n",
       "    }\n",
       "</style>\n",
       "<table border=\"1\" class=\"dataframe\">\n",
       "  <thead>\n",
       "    <tr style=\"text-align: right;\">\n",
       "      <th></th>\n",
       "      <th>ds</th>\n",
       "    </tr>\n",
       "  </thead>\n",
       "  <tbody>\n",
       "    <tr>\n",
       "      <th>39478</th>\n",
       "      <td>2019-12-31 22:00:00</td>\n",
       "    </tr>\n",
       "    <tr>\n",
       "      <th>39479</th>\n",
       "      <td>2019-12-31 23:00:00</td>\n",
       "    </tr>\n",
       "  </tbody>\n",
       "</table>\n",
       "</div>"
      ],
      "text/plain": [
       "                       ds\n",
       "39478 2019-12-31 22:00:00\n",
       "39479 2019-12-31 23:00:00"
      ]
     },
     "execution_count": 40,
     "metadata": {},
     "output_type": "execute_result"
    },
    {
     "data": {
      "application/javascript": [
       "\n",
       "            setTimeout(function() {\n",
       "                var nbb_cell_id = 40;\n",
       "                var nbb_unformatted_code = \"# I can only do hourly or minute frequencies... https://pandas.pydata.org/pandas-docs/stable/user_guide/timeseries.html#timeseries-offset-aliases\\n## Either I change the data to be hourly or I try minutes\\nfuture2 = prophetfmodel2.make_future_dataframe(periods=test_df_length, freq='H')\\nfuture2.tail(2)\";\n",
       "                var nbb_formatted_code = \"# I can only do hourly or minute frequencies... https://pandas.pydata.org/pandas-docs/stable/user_guide/timeseries.html#timeseries-offset-aliases\\n## Either I change the data to be hourly or I try minutes\\nfuture2 = prophetfmodel2.make_future_dataframe(periods=test_df_length, freq=\\\"H\\\")\\nfuture2.tail(2)\";\n",
       "                var nbb_cells = Jupyter.notebook.get_cells();\n",
       "                for (var i = 0; i < nbb_cells.length; ++i) {\n",
       "                    if (nbb_cells[i].input_prompt_number == nbb_cell_id) {\n",
       "                        if (nbb_cells[i].get_text() == nbb_unformatted_code) {\n",
       "                             nbb_cells[i].set_text(nbb_formatted_code);\n",
       "                        }\n",
       "                        break;\n",
       "                    }\n",
       "                }\n",
       "            }, 500);\n",
       "            "
      ],
      "text/plain": [
       "<IPython.core.display.Javascript object>"
      ]
     },
     "metadata": {},
     "output_type": "display_data"
    }
   ],
   "source": [
    "# I can only do hourly or minute frequencies... https://pandas.pydata.org/pandas-docs/stable/user_guide/timeseries.html#timeseries-offset-aliases\n",
    "## Either I change the data to be hourly or I try minutes\n",
    "future2 = prophetfmodel2.make_future_dataframe(periods=test_df_length,\n",
    "                                               freq=\"H\")\n",
    "future2.tail(2)"
   ]
  },
  {
   "cell_type": "code",
   "execution_count": 41,
   "metadata": {},
   "outputs": [
    {
     "data": {
      "text/html": [
       "<div>\n",
       "<style scoped>\n",
       "    .dataframe tbody tr th:only-of-type {\n",
       "        vertical-align: middle;\n",
       "    }\n",
       "\n",
       "    .dataframe tbody tr th {\n",
       "        vertical-align: top;\n",
       "    }\n",
       "\n",
       "    .dataframe thead th {\n",
       "        text-align: right;\n",
       "    }\n",
       "</style>\n",
       "<table border=\"1\" class=\"dataframe\">\n",
       "  <thead>\n",
       "    <tr style=\"text-align: right;\">\n",
       "      <th></th>\n",
       "      <th>ds</th>\n",
       "      <th>yhat</th>\n",
       "      <th>yhat_lower</th>\n",
       "      <th>yhat_upper</th>\n",
       "    </tr>\n",
       "  </thead>\n",
       "  <tbody>\n",
       "    <tr>\n",
       "      <th>39478</th>\n",
       "      <td>2019-12-31 22:00:00</td>\n",
       "      <td>141.488202</td>\n",
       "      <td>-33.672318</td>\n",
       "      <td>336.380532</td>\n",
       "    </tr>\n",
       "    <tr>\n",
       "      <th>39479</th>\n",
       "      <td>2019-12-31 23:00:00</td>\n",
       "      <td>99.260786</td>\n",
       "      <td>-80.552316</td>\n",
       "      <td>274.285007</td>\n",
       "    </tr>\n",
       "  </tbody>\n",
       "</table>\n",
       "</div>"
      ],
      "text/plain": [
       "                       ds        yhat  yhat_lower  yhat_upper\n",
       "39478 2019-12-31 22:00:00  141.488202  -33.672318  336.380532\n",
       "39479 2019-12-31 23:00:00   99.260786  -80.552316  274.285007"
      ]
     },
     "execution_count": 41,
     "metadata": {},
     "output_type": "execute_result"
    },
    {
     "data": {
      "application/javascript": [
       "\n",
       "            setTimeout(function() {\n",
       "                var nbb_cell_id = 41;\n",
       "                var nbb_unformatted_code = \"forecast2 = prophetfmodel2.predict(future2)\\nforecast2[['ds', 'yhat', 'yhat_lower', 'yhat_upper']].tail(2)\";\n",
       "                var nbb_formatted_code = \"forecast2 = prophetfmodel2.predict(future2)\\nforecast2[[\\\"ds\\\", \\\"yhat\\\", \\\"yhat_lower\\\", \\\"yhat_upper\\\"]].tail(2)\";\n",
       "                var nbb_cells = Jupyter.notebook.get_cells();\n",
       "                for (var i = 0; i < nbb_cells.length; ++i) {\n",
       "                    if (nbb_cells[i].input_prompt_number == nbb_cell_id) {\n",
       "                        if (nbb_cells[i].get_text() == nbb_unformatted_code) {\n",
       "                             nbb_cells[i].set_text(nbb_formatted_code);\n",
       "                        }\n",
       "                        break;\n",
       "                    }\n",
       "                }\n",
       "            }, 500);\n",
       "            "
      ],
      "text/plain": [
       "<IPython.core.display.Javascript object>"
      ]
     },
     "metadata": {},
     "output_type": "display_data"
    }
   ],
   "source": [
    "forecast2 = prophetfmodel2.predict(future2)\n",
    "forecast2[[\"ds\", \"yhat\", \"yhat_lower\", \"yhat_upper\"]].tail(2)"
   ]
  },
  {
   "cell_type": "code",
   "execution_count": 42,
   "metadata": {},
   "outputs": [
    {
     "data": {
      "text/html": [
       "<div>\n",
       "<style scoped>\n",
       "    .dataframe tbody tr th:only-of-type {\n",
       "        vertical-align: middle;\n",
       "    }\n",
       "\n",
       "    .dataframe tbody tr th {\n",
       "        vertical-align: top;\n",
       "    }\n",
       "\n",
       "    .dataframe thead th {\n",
       "        text-align: right;\n",
       "    }\n",
       "</style>\n",
       "<table border=\"1\" class=\"dataframe\">\n",
       "  <thead>\n",
       "    <tr style=\"text-align: right;\">\n",
       "      <th></th>\n",
       "      <th>ds</th>\n",
       "      <th>trend</th>\n",
       "      <th>yhat_lower</th>\n",
       "      <th>yhat_upper</th>\n",
       "      <th>trend_lower</th>\n",
       "      <th>trend_upper</th>\n",
       "      <th>additive_terms</th>\n",
       "      <th>additive_terms_lower</th>\n",
       "      <th>additive_terms_upper</th>\n",
       "      <th>daily</th>\n",
       "      <th>...</th>\n",
       "      <th>weekly</th>\n",
       "      <th>weekly_lower</th>\n",
       "      <th>weekly_upper</th>\n",
       "      <th>yearly</th>\n",
       "      <th>yearly_lower</th>\n",
       "      <th>yearly_upper</th>\n",
       "      <th>multiplicative_terms</th>\n",
       "      <th>multiplicative_terms_lower</th>\n",
       "      <th>multiplicative_terms_upper</th>\n",
       "      <th>yhat</th>\n",
       "    </tr>\n",
       "  </thead>\n",
       "  <tbody>\n",
       "    <tr>\n",
       "      <th>0</th>\n",
       "      <td>2015-07-01 00:00:00</td>\n",
       "      <td>502.842307</td>\n",
       "      <td>-125.357792</td>\n",
       "      <td>237.592338</td>\n",
       "      <td>502.842307</td>\n",
       "      <td>502.842307</td>\n",
       "      <td>-444.100945</td>\n",
       "      <td>-444.100945</td>\n",
       "      <td>-444.100945</td>\n",
       "      <td>-431.550261</td>\n",
       "      <td>...</td>\n",
       "      <td>6.552663</td>\n",
       "      <td>6.552663</td>\n",
       "      <td>6.552663</td>\n",
       "      <td>-19.103347</td>\n",
       "      <td>-19.103347</td>\n",
       "      <td>-19.103347</td>\n",
       "      <td>0.0</td>\n",
       "      <td>0.0</td>\n",
       "      <td>0.0</td>\n",
       "      <td>58.741362</td>\n",
       "    </tr>\n",
       "    <tr>\n",
       "      <th>1</th>\n",
       "      <td>2015-07-01 01:00:00</td>\n",
       "      <td>502.843385</td>\n",
       "      <td>-195.360231</td>\n",
       "      <td>181.912224</td>\n",
       "      <td>502.843385</td>\n",
       "      <td>502.843385</td>\n",
       "      <td>-512.933543</td>\n",
       "      <td>-512.933543</td>\n",
       "      <td>-512.933543</td>\n",
       "      <td>-501.666887</td>\n",
       "      <td>...</td>\n",
       "      <td>7.867643</td>\n",
       "      <td>7.867643</td>\n",
       "      <td>7.867643</td>\n",
       "      <td>-19.134299</td>\n",
       "      <td>-19.134299</td>\n",
       "      <td>-19.134299</td>\n",
       "      <td>0.0</td>\n",
       "      <td>0.0</td>\n",
       "      <td>0.0</td>\n",
       "      <td>-10.090158</td>\n",
       "    </tr>\n",
       "  </tbody>\n",
       "</table>\n",
       "<p>2 rows × 22 columns</p>\n",
       "</div>"
      ],
      "text/plain": [
       "                   ds       trend  yhat_lower  yhat_upper  trend_lower  \\\n",
       "0 2015-07-01 00:00:00  502.842307 -125.357792  237.592338   502.842307   \n",
       "1 2015-07-01 01:00:00  502.843385 -195.360231  181.912224   502.843385   \n",
       "\n",
       "   trend_upper  additive_terms  additive_terms_lower  additive_terms_upper  \\\n",
       "0   502.842307     -444.100945           -444.100945           -444.100945   \n",
       "1   502.843385     -512.933543           -512.933543           -512.933543   \n",
       "\n",
       "        daily  ...    weekly  weekly_lower  weekly_upper     yearly  \\\n",
       "0 -431.550261  ...  6.552663      6.552663      6.552663 -19.103347   \n",
       "1 -501.666887  ...  7.867643      7.867643      7.867643 -19.134299   \n",
       "\n",
       "   yearly_lower  yearly_upper  multiplicative_terms  \\\n",
       "0    -19.103347    -19.103347                   0.0   \n",
       "1    -19.134299    -19.134299                   0.0   \n",
       "\n",
       "   multiplicative_terms_lower  multiplicative_terms_upper       yhat  \n",
       "0                         0.0                         0.0  58.741362  \n",
       "1                         0.0                         0.0 -10.090158  \n",
       "\n",
       "[2 rows x 22 columns]"
      ]
     },
     "execution_count": 42,
     "metadata": {},
     "output_type": "execute_result"
    },
    {
     "data": {
      "application/javascript": [
       "\n",
       "            setTimeout(function() {\n",
       "                var nbb_cell_id = 42;\n",
       "                var nbb_unformatted_code = \"forecast2.head(2)\";\n",
       "                var nbb_formatted_code = \"forecast2.head(2)\";\n",
       "                var nbb_cells = Jupyter.notebook.get_cells();\n",
       "                for (var i = 0; i < nbb_cells.length; ++i) {\n",
       "                    if (nbb_cells[i].input_prompt_number == nbb_cell_id) {\n",
       "                        if (nbb_cells[i].get_text() == nbb_unformatted_code) {\n",
       "                             nbb_cells[i].set_text(nbb_formatted_code);\n",
       "                        }\n",
       "                        break;\n",
       "                    }\n",
       "                }\n",
       "            }, 500);\n",
       "            "
      ],
      "text/plain": [
       "<IPython.core.display.Javascript object>"
      ]
     },
     "metadata": {},
     "output_type": "display_data"
    }
   ],
   "source": [
    "forecast2.head(2)"
   ]
  },
  {
   "cell_type": "code",
   "execution_count": 43,
   "metadata": {},
   "outputs": [
    {
     "data": {
      "image/png": "[encoded data removed]",
      "text/plain": [
       "<Figure size 720x432 with 1 Axes>"
      ]
     },
     "metadata": {},
     "output_type": "display_data"
    },
    {
     "data": {
      "application/javascript": [
       "\n",
       "            setTimeout(function() {\n",
       "                var nbb_cell_id = 43;\n",
       "                var nbb_unformatted_code = \"fig2 = prophetfmodel2.plot(forecast2)\";\n",
       "                var nbb_formatted_code = \"fig2 = prophetfmodel2.plot(forecast2)\";\n",
       "                var nbb_cells = Jupyter.notebook.get_cells();\n",
       "                for (var i = 0; i < nbb_cells.length; ++i) {\n",
       "                    if (nbb_cells[i].input_prompt_number == nbb_cell_id) {\n",
       "                        if (nbb_cells[i].get_text() == nbb_unformatted_code) {\n",
       "                             nbb_cells[i].set_text(nbb_formatted_code);\n",
       "                        }\n",
       "                        break;\n",
       "                    }\n",
       "                }\n",
       "            }, 500);\n",
       "            "
      ],
      "text/plain": [
       "<IPython.core.display.Javascript object>"
      ]
     },
     "metadata": {},
     "output_type": "display_data"
    }
   ],
   "source": [
    "fig2 = prophetfmodel2.plot(forecast2)"
   ]
  },
  {
   "cell_type": "markdown",
   "metadata": {},
   "source": [
    "#### Plotting Components\n",
    "https://dius.com.au/2018/09/04/time-series-forecasting-with-fbprophet/"
   ]
  },
  {
   "cell_type": "code",
   "execution_count": 48,
   "metadata": {},
   "outputs": [
    {
     "data": {
      "text/plain": [
       "pandas._libs.tslibs.timestamps.Timestamp"
      ]
     },
     "execution_count": 48,
     "metadata": {},
     "output_type": "execute_result"
    },
    {
     "data": {
      "application/javascript": [
       "\n",
       "            setTimeout(function() {\n",
       "                var nbb_cell_id = 48;\n",
       "                var nbb_unformatted_code = \"type(forecast2[\\\"ds\\\"][0])\";\n",
       "                var nbb_formatted_code = \"type(forecast2[\\\"ds\\\"][0])\";\n",
       "                var nbb_cells = Jupyter.notebook.get_cells();\n",
       "                for (var i = 0; i < nbb_cells.length; ++i) {\n",
       "                    if (nbb_cells[i].input_prompt_number == nbb_cell_id) {\n",
       "                        if (nbb_cells[i].get_text() == nbb_unformatted_code) {\n",
       "                             nbb_cells[i].set_text(nbb_formatted_code);\n",
       "                        }\n",
       "                        break;\n",
       "                    }\n",
       "                }\n",
       "            }, 500);\n",
       "            "
      ],
      "text/plain": [
       "<IPython.core.display.Javascript object>"
      ]
     },
     "metadata": {},
     "output_type": "display_data"
    }
   ],
   "source": [
    "type(forecast2[\"ds\"][0])"
   ]
  },
  {
   "cell_type": "code",
   "execution_count": 49,
   "metadata": {},
   "outputs": [
    {
     "data": {
      "text/html": [
       "<div>\n",
       "<style scoped>\n",
       "    .dataframe tbody tr th:only-of-type {\n",
       "        vertical-align: middle;\n",
       "    }\n",
       "\n",
       "    .dataframe tbody tr th {\n",
       "        vertical-align: top;\n",
       "    }\n",
       "\n",
       "    .dataframe thead th {\n",
       "        text-align: right;\n",
       "    }\n",
       "</style>\n",
       "<table border=\"1\" class=\"dataframe\">\n",
       "  <thead>\n",
       "    <tr style=\"text-align: right;\">\n",
       "      <th></th>\n",
       "      <th>ds</th>\n",
       "      <th>trend</th>\n",
       "      <th>yhat_lower</th>\n",
       "      <th>yhat_upper</th>\n",
       "      <th>trend_lower</th>\n",
       "      <th>trend_upper</th>\n",
       "      <th>additive_terms</th>\n",
       "      <th>additive_terms_lower</th>\n",
       "      <th>additive_terms_upper</th>\n",
       "      <th>daily</th>\n",
       "      <th>...</th>\n",
       "      <th>weekly</th>\n",
       "      <th>weekly_lower</th>\n",
       "      <th>weekly_upper</th>\n",
       "      <th>yearly</th>\n",
       "      <th>yearly_lower</th>\n",
       "      <th>yearly_upper</th>\n",
       "      <th>multiplicative_terms</th>\n",
       "      <th>multiplicative_terms_lower</th>\n",
       "      <th>multiplicative_terms_upper</th>\n",
       "      <th>yhat</th>\n",
       "    </tr>\n",
       "  </thead>\n",
       "  <tbody>\n",
       "    <tr>\n",
       "      <th>0</th>\n",
       "      <td>2015-07-01 00:00:00</td>\n",
       "      <td>502.842307</td>\n",
       "      <td>-125.357792</td>\n",
       "      <td>237.592338</td>\n",
       "      <td>502.842307</td>\n",
       "      <td>502.842307</td>\n",
       "      <td>-444.100945</td>\n",
       "      <td>-444.100945</td>\n",
       "      <td>-444.100945</td>\n",
       "      <td>-431.550261</td>\n",
       "      <td>...</td>\n",
       "      <td>6.552663</td>\n",
       "      <td>6.552663</td>\n",
       "      <td>6.552663</td>\n",
       "      <td>-19.103347</td>\n",
       "      <td>-19.103347</td>\n",
       "      <td>-19.103347</td>\n",
       "      <td>0.0</td>\n",
       "      <td>0.0</td>\n",
       "      <td>0.0</td>\n",
       "      <td>58.741362</td>\n",
       "    </tr>\n",
       "    <tr>\n",
       "      <th>1</th>\n",
       "      <td>2015-07-01 01:00:00</td>\n",
       "      <td>502.843385</td>\n",
       "      <td>-195.360231</td>\n",
       "      <td>181.912224</td>\n",
       "      <td>502.843385</td>\n",
       "      <td>502.843385</td>\n",
       "      <td>-512.933543</td>\n",
       "      <td>-512.933543</td>\n",
       "      <td>-512.933543</td>\n",
       "      <td>-501.666887</td>\n",
       "      <td>...</td>\n",
       "      <td>7.867643</td>\n",
       "      <td>7.867643</td>\n",
       "      <td>7.867643</td>\n",
       "      <td>-19.134299</td>\n",
       "      <td>-19.134299</td>\n",
       "      <td>-19.134299</td>\n",
       "      <td>0.0</td>\n",
       "      <td>0.0</td>\n",
       "      <td>0.0</td>\n",
       "      <td>-10.090158</td>\n",
       "    </tr>\n",
       "  </tbody>\n",
       "</table>\n",
       "<p>2 rows × 22 columns</p>\n",
       "</div>"
      ],
      "text/plain": [
       "                   ds       trend  yhat_lower  yhat_upper  trend_lower  \\\n",
       "0 2015-07-01 00:00:00  502.842307 -125.357792  237.592338   502.842307   \n",
       "1 2015-07-01 01:00:00  502.843385 -195.360231  181.912224   502.843385   \n",
       "\n",
       "   trend_upper  additive_terms  additive_terms_lower  additive_terms_upper  \\\n",
       "0   502.842307     -444.100945           -444.100945           -444.100945   \n",
       "1   502.843385     -512.933543           -512.933543           -512.933543   \n",
       "\n",
       "        daily  ...    weekly  weekly_lower  weekly_upper     yearly  \\\n",
       "0 -431.550261  ...  6.552663      6.552663      6.552663 -19.103347   \n",
       "1 -501.666887  ...  7.867643      7.867643      7.867643 -19.134299   \n",
       "\n",
       "   yearly_lower  yearly_upper  multiplicative_terms  \\\n",
       "0    -19.103347    -19.103347                   0.0   \n",
       "1    -19.134299    -19.134299                   0.0   \n",
       "\n",
       "   multiplicative_terms_lower  multiplicative_terms_upper       yhat  \n",
       "0                         0.0                         0.0  58.741362  \n",
       "1                         0.0                         0.0 -10.090158  \n",
       "\n",
       "[2 rows x 22 columns]"
      ]
     },
     "execution_count": 49,
     "metadata": {},
     "output_type": "execute_result"
    },
    {
     "data": {
      "application/javascript": [
       "\n",
       "            setTimeout(function() {\n",
       "                var nbb_cell_id = 49;\n",
       "                var nbb_unformatted_code = \"forecast2.head(2)\";\n",
       "                var nbb_formatted_code = \"forecast2.head(2)\";\n",
       "                var nbb_cells = Jupyter.notebook.get_cells();\n",
       "                for (var i = 0; i < nbb_cells.length; ++i) {\n",
       "                    if (nbb_cells[i].input_prompt_number == nbb_cell_id) {\n",
       "                        if (nbb_cells[i].get_text() == nbb_unformatted_code) {\n",
       "                             nbb_cells[i].set_text(nbb_formatted_code);\n",
       "                        }\n",
       "                        break;\n",
       "                    }\n",
       "                }\n",
       "            }, 500);\n",
       "            "
      ],
      "text/plain": [
       "<IPython.core.display.Javascript object>"
      ]
     },
     "metadata": {},
     "output_type": "display_data"
    }
   ],
   "source": [
    "forecast2.head(2)"
   ]
  },
  {
   "cell_type": "code",
   "execution_count": 50,
   "metadata": {},
   "outputs": [
    {
     "data": {
      "image/png": "[encoded data removed]",
      "text/plain": [
       "<Figure size 648x864 with 4 Axes>"
      ]
     },
     "metadata": {},
     "output_type": "display_data"
    },
    {
     "data": {
      "application/javascript": [
       "\n",
       "            setTimeout(function() {\n",
       "                var nbb_cell_id = 50;\n",
       "                var nbb_unformatted_code = \"# prints twice unless saved as something\\ncomponent_fig = prophetfmodel2.plot_components(forecast2)\";\n",
       "                var nbb_formatted_code = \"# prints twice unless saved as something\\ncomponent_fig = prophetfmodel2.plot_components(forecast2)\";\n",
       "                var nbb_cells = Jupyter.notebook.get_cells();\n",
       "                for (var i = 0; i < nbb_cells.length; ++i) {\n",
       "                    if (nbb_cells[i].input_prompt_number == nbb_cell_id) {\n",
       "                        if (nbb_cells[i].get_text() == nbb_unformatted_code) {\n",
       "                             nbb_cells[i].set_text(nbb_formatted_code);\n",
       "                        }\n",
       "                        break;\n",
       "                    }\n",
       "                }\n",
       "            }, 500);\n",
       "            "
      ],
      "text/plain": [
       "<IPython.core.display.Javascript object>"
      ]
     },
     "metadata": {},
     "output_type": "display_data"
    }
   ],
   "source": [
    "# prints twice unless saved as something\n",
    "component_fig = prophetfmodel2.plot_components(forecast2)"
   ]
  },
  {
   "cell_type": "code",
   "execution_count": 51,
   "metadata": {},
   "outputs": [
    {
     "name": "stdout",
     "output_type": "stream",
     "text": [
      "0.5\n",
      "0.25.3\n"
     ]
    },
    {
     "data": {
      "application/javascript": [
       "\n",
       "            setTimeout(function() {\n",
       "                var nbb_cell_id = 51;\n",
       "                var nbb_unformatted_code = \"# https://github.com/facebook/prophet/issues/1304\\nprint(fbprophet.__version__)\\nprint(pd.__version__)\";\n",
       "                var nbb_formatted_code = \"# https://github.com/facebook/prophet/issues/1304\\nprint(fbprophet.__version__)\\nprint(pd.__version__)\";\n",
       "                var nbb_cells = Jupyter.notebook.get_cells();\n",
       "                for (var i = 0; i < nbb_cells.length; ++i) {\n",
       "                    if (nbb_cells[i].input_prompt_number == nbb_cell_id) {\n",
       "                        if (nbb_cells[i].get_text() == nbb_unformatted_code) {\n",
       "                             nbb_cells[i].set_text(nbb_formatted_code);\n",
       "                        }\n",
       "                        break;\n",
       "                    }\n",
       "                }\n",
       "            }, 500);\n",
       "            "
      ],
      "text/plain": [
       "<IPython.core.display.Javascript object>"
      ]
     },
     "metadata": {},
     "output_type": "display_data"
    }
   ],
   "source": [
    "# https://github.com/facebook/prophet/issues/1304\n",
    "print(fbprophet.__version__)\n",
    "print(pd.__version__)"
   ]
  },
  {
   "cell_type": "markdown",
   "metadata": {},
   "source": [
    "### Model With Cap and Min\n",
    "https://facebook.github.io/prophet/docs/saturating_forecasts.html"
   ]
  },
  {
   "cell_type": "code",
   "execution_count": 52,
   "metadata": {},
   "outputs": [
    {
     "data": {
      "application/javascript": [
       "\n",
       "            setTimeout(function() {\n",
       "                var nbb_cell_id = 52;\n",
       "                var nbb_unformatted_code = \"fb_prophet_train_df['cap'] = 1400\\nfb_prophet_train_df['floor'] = 0\";\n",
       "                var nbb_formatted_code = \"fb_prophet_train_df[\\\"cap\\\"] = 1400\\nfb_prophet_train_df[\\\"floor\\\"] = 0\";\n",
       "                var nbb_cells = Jupyter.notebook.get_cells();\n",
       "                for (var i = 0; i < nbb_cells.length; ++i) {\n",
       "                    if (nbb_cells[i].input_prompt_number == nbb_cell_id) {\n",
       "                        if (nbb_cells[i].get_text() == nbb_unformatted_code) {\n",
       "                             nbb_cells[i].set_text(nbb_formatted_code);\n",
       "                        }\n",
       "                        break;\n",
       "                    }\n",
       "                }\n",
       "            }, 500);\n",
       "            "
      ],
      "text/plain": [
       "<IPython.core.display.Javascript object>"
      ]
     },
     "metadata": {},
     "output_type": "display_data"
    }
   ],
   "source": [
    "fb_prophet_train_df[\"cap\"] = 1400\n",
    "fb_prophet_train_df[\"floor\"] = 0"
   ]
  },
  {
   "cell_type": "code",
   "execution_count": 53,
   "metadata": {},
   "outputs": [
    {
     "data": {
      "application/javascript": [
       "\n",
       "            setTimeout(function() {\n",
       "                var nbb_cell_id = 53;\n",
       "                var nbb_unformatted_code = \"prophetfmodel3 = Prophet(growth='logistic', daily_seasonality=True, \\n                         yearly_seasonality=True, weekly_seasonality=True)\";\n",
       "                var nbb_formatted_code = \"prophetfmodel3 = Prophet(\\n    growth=\\\"logistic\\\",\\n    daily_seasonality=True,\\n    yearly_seasonality=True,\\n    weekly_seasonality=True,\\n)\";\n",
       "                var nbb_cells = Jupyter.notebook.get_cells();\n",
       "                for (var i = 0; i < nbb_cells.length; ++i) {\n",
       "                    if (nbb_cells[i].input_prompt_number == nbb_cell_id) {\n",
       "                        if (nbb_cells[i].get_text() == nbb_unformatted_code) {\n",
       "                             nbb_cells[i].set_text(nbb_formatted_code);\n",
       "                        }\n",
       "                        break;\n",
       "                    }\n",
       "                }\n",
       "            }, 500);\n",
       "            "
      ],
      "text/plain": [
       "<IPython.core.display.Javascript object>"
      ]
     },
     "metadata": {},
     "output_type": "display_data"
    }
   ],
   "source": [
    "prophetfmodel3 = Prophet(\n",
    "    growth=\"logistic\",\n",
    "    daily_seasonality=True,\n",
    "    yearly_seasonality=True,\n",
    "    weekly_seasonality=True,\n",
    ")"
   ]
  },
  {
   "cell_type": "code",
   "execution_count": 54,
   "metadata": {},
   "outputs": [
    {
     "data": {
      "text/plain": [
       "<fbprophet.forecaster.Prophet at 0x7ff798852cc0>"
      ]
     },
     "execution_count": 54,
     "metadata": {},
     "output_type": "execute_result"
    },
    {
     "data": {
      "application/javascript": [
       "\n",
       "            setTimeout(function() {\n",
       "                var nbb_cell_id = 54;\n",
       "                var nbb_unformatted_code = \"prophetfmodel3.fit(fb_prophet_train_df)\";\n",
       "                var nbb_formatted_code = \"prophetfmodel3.fit(fb_prophet_train_df)\";\n",
       "                var nbb_cells = Jupyter.notebook.get_cells();\n",
       "                for (var i = 0; i < nbb_cells.length; ++i) {\n",
       "                    if (nbb_cells[i].input_prompt_number == nbb_cell_id) {\n",
       "                        if (nbb_cells[i].get_text() == nbb_unformatted_code) {\n",
       "                             nbb_cells[i].set_text(nbb_formatted_code);\n",
       "                        }\n",
       "                        break;\n",
       "                    }\n",
       "                }\n",
       "            }, 500);\n",
       "            "
      ],
      "text/plain": [
       "<IPython.core.display.Javascript object>"
      ]
     },
     "metadata": {},
     "output_type": "display_data"
    }
   ],
   "source": [
    "prophetfmodel3.fit(fb_prophet_train_df)"
   ]
  },
  {
   "cell_type": "code",
   "execution_count": 55,
   "metadata": {},
   "outputs": [
    {
     "data": {
      "application/javascript": [
       "\n",
       "            setTimeout(function() {\n",
       "                var nbb_cell_id = 55;\n",
       "                var nbb_unformatted_code = \"future3 = prophetfmodel3.make_future_dataframe(periods=test_df_length, freq='H')\\nfuture3.tail(2)\\nfuture3['floor'] = 0\\nfuture3['cap'] = 1400\";\n",
       "                var nbb_formatted_code = \"future3 = prophetfmodel3.make_future_dataframe(periods=test_df_length, freq=\\\"H\\\")\\nfuture3.tail(2)\\nfuture3[\\\"floor\\\"] = 0\\nfuture3[\\\"cap\\\"] = 1400\";\n",
       "                var nbb_cells = Jupyter.notebook.get_cells();\n",
       "                for (var i = 0; i < nbb_cells.length; ++i) {\n",
       "                    if (nbb_cells[i].input_prompt_number == nbb_cell_id) {\n",
       "                        if (nbb_cells[i].get_text() == nbb_unformatted_code) {\n",
       "                             nbb_cells[i].set_text(nbb_formatted_code);\n",
       "                        }\n",
       "                        break;\n",
       "                    }\n",
       "                }\n",
       "            }, 500);\n",
       "            "
      ],
      "text/plain": [
       "<IPython.core.display.Javascript object>"
      ]
     },
     "metadata": {},
     "output_type": "display_data"
    }
   ],
   "source": [
    "future3 = prophetfmodel3.make_future_dataframe(periods=test_df_length,\n",
    "                                               freq=\"H\")\n",
    "future3.tail(2)\n",
    "future3[\"floor\"] = 0\n",
    "future3[\"cap\"] = 1400"
   ]
  },
  {
   "cell_type": "code",
   "execution_count": 55,
   "metadata": {},
   "outputs": [
    {
     "data": {
      "text/html": [
       "<div>\n",
       "<style scoped>\n",
       "    .dataframe tbody tr th:only-of-type {\n",
       "        vertical-align: middle;\n",
       "    }\n",
       "\n",
       "    .dataframe tbody tr th {\n",
       "        vertical-align: top;\n",
       "    }\n",
       "\n",
       "    .dataframe thead th {\n",
       "        text-align: right;\n",
       "    }\n",
       "</style>\n",
       "<table border=\"1\" class=\"dataframe\">\n",
       "  <thead>\n",
       "    <tr style=\"text-align: right;\">\n",
       "      <th></th>\n",
       "      <th>ds</th>\n",
       "      <th>yhat</th>\n",
       "      <th>yhat_lower</th>\n",
       "      <th>yhat_upper</th>\n",
       "    </tr>\n",
       "  </thead>\n",
       "  <tbody>\n",
       "    <tr>\n",
       "      <th>39478</th>\n",
       "      <td>2019-12-31 22:00:00</td>\n",
       "      <td>137.533661</td>\n",
       "      <td>-41.222428</td>\n",
       "      <td>310.114214</td>\n",
       "    </tr>\n",
       "    <tr>\n",
       "      <th>39479</th>\n",
       "      <td>2019-12-31 23:00:00</td>\n",
       "      <td>95.305980</td>\n",
       "      <td>-81.376198</td>\n",
       "      <td>294.140731</td>\n",
       "    </tr>\n",
       "  </tbody>\n",
       "</table>\n",
       "</div>"
      ],
      "text/plain": [
       "                       ds        yhat  yhat_lower  yhat_upper\n",
       "39478 2019-12-31 22:00:00  137.533661  -41.222428  310.114214\n",
       "39479 2019-12-31 23:00:00   95.305980  -81.376198  294.140731"
      ]
     },
     "execution_count": 55,
     "metadata": {},
     "output_type": "execute_result"
    }
   ],
   "source": [
    "# basically same predictions as before\n",
    "forecast3 = prophetfmodel3.predict(future3)\n",
    "forecast3[['ds', 'yhat', 'yhat_lower', 'yhat_upper']].tail(2)"
   ]
  },
  {
   "cell_type": "code",
   "execution_count": 56,
   "metadata": {},
   "outputs": [
    {
     "data": {
      "text/plain": [
       "22"
      ]
     },
     "execution_count": 56,
     "metadata": {},
     "output_type": "execute_result"
    }
   ],
   "source": [
    "len(forecast.columns)"
   ]
  },
  {
   "cell_type": "markdown",
   "metadata": {},
   "source": [
    "### Model with Normalization - MinMaxScaler"
   ]
  },
  {
   "cell_type": "code",
   "execution_count": 57,
   "metadata": {},
   "outputs": [],
   "source": [
    "hourly_values = fb_prophet_train_df['y'].values"
   ]
  },
  {
   "cell_type": "code",
   "execution_count": 58,
   "metadata": {},
   "outputs": [],
   "source": [
    "hourly_values_reshaped = hourly_values.reshape((len(hourly_values), 1))"
   ]
  },
  {
   "cell_type": "code",
   "execution_count": 59,
   "metadata": {},
   "outputs": [
    {
     "data": {
      "text/plain": [
       "array([[ 19],\n",
       "       [ 16],\n",
       "       [ 11],\n",
       "       ...,\n",
       "       [308],\n",
       "       [253],\n",
       "       [ 76]])"
      ]
     },
     "execution_count": 59,
     "metadata": {},
     "output_type": "execute_result"
    }
   ],
   "source": [
    "hourly_values_reshaped"
   ]
  },
  {
   "cell_type": "code",
   "execution_count": 60,
   "metadata": {},
   "outputs": [
    {
     "name": "stdout",
     "output_type": "stream",
     "text": [
      "Min: 0.000000, Max: 1359.000000\n"
     ]
    }
   ],
   "source": [
    "scaler = MinMaxScaler(feature_range=(0, 1))\n",
    "scaler = scaler.fit(hourly_values_reshaped)\n",
    "print('Min: %f, Max: %f' % (scaler.data_min_, scaler.data_max_))"
   ]
  },
  {
   "cell_type": "code",
   "execution_count": 61,
   "metadata": {},
   "outputs": [
    {
     "name": "stdout",
     "output_type": "stream",
     "text": [
      "[0.01398087]\n",
      "[0.01177336]\n",
      "[0.00809419]\n",
      "[0.00883002]\n",
      "[0.02943341]\n"
     ]
    }
   ],
   "source": [
    "normalized = scaler.transform(hourly_values_reshaped)\n",
    "for i in range(5):\n",
    "    print(normalized[i])"
   ]
  },
  {
   "cell_type": "code",
   "execution_count": 62,
   "metadata": {},
   "outputs": [],
   "source": [
    "train_df_days_normalized = fb_prophet_train_df.copy()"
   ]
  },
  {
   "cell_type": "code",
   "execution_count": 63,
   "metadata": {},
   "outputs": [],
   "source": [
    "train_df_days_normalized['y'] = normalized"
   ]
  },
  {
   "cell_type": "code",
   "execution_count": 64,
   "metadata": {},
   "outputs": [
    {
     "data": {
      "text/html": [
       "<div>\n",
       "<style scoped>\n",
       "    .dataframe tbody tr th:only-of-type {\n",
       "        vertical-align: middle;\n",
       "    }\n",
       "\n",
       "    .dataframe tbody tr th {\n",
       "        vertical-align: top;\n",
       "    }\n",
       "\n",
       "    .dataframe thead th {\n",
       "        text-align: right;\n",
       "    }\n",
       "</style>\n",
       "<table border=\"1\" class=\"dataframe\">\n",
       "  <thead>\n",
       "    <tr style=\"text-align: right;\">\n",
       "      <th></th>\n",
       "      <th>ds</th>\n",
       "      <th>y</th>\n",
       "      <th>cap</th>\n",
       "      <th>floor</th>\n",
       "    </tr>\n",
       "  </thead>\n",
       "  <tbody>\n",
       "    <tr>\n",
       "      <th>0</th>\n",
       "      <td>2015-07-01 00:00:00</td>\n",
       "      <td>0.013981</td>\n",
       "      <td>1400</td>\n",
       "      <td>0</td>\n",
       "    </tr>\n",
       "    <tr>\n",
       "      <th>1</th>\n",
       "      <td>2015-07-01 01:00:00</td>\n",
       "      <td>0.011773</td>\n",
       "      <td>1400</td>\n",
       "      <td>0</td>\n",
       "    </tr>\n",
       "  </tbody>\n",
       "</table>\n",
       "</div>"
      ],
      "text/plain": [
       "                   ds         y   cap  floor\n",
       "0 2015-07-01 00:00:00  0.013981  1400      0\n",
       "1 2015-07-01 01:00:00  0.011773  1400      0"
      ]
     },
     "execution_count": 64,
     "metadata": {},
     "output_type": "execute_result"
    }
   ],
   "source": [
    "train_df_days_normalized.head(2)"
   ]
  },
  {
   "cell_type": "code",
   "execution_count": 65,
   "metadata": {},
   "outputs": [],
   "source": [
    "prophetfmodel4 = Prophet(daily_seasonality=True,\n",
    "                         yearly_seasonality=True,\n",
    "                         weekly_seasonality=True)"
   ]
  },
  {
   "cell_type": "code",
   "execution_count": 66,
   "metadata": {},
   "outputs": [
    {
     "data": {
      "text/plain": [
       "<fbprophet.forecaster.Prophet at 0x7ff65cab7160>"
      ]
     },
     "execution_count": 66,
     "metadata": {},
     "output_type": "execute_result"
    }
   ],
   "source": [
    "prophetfmodel4.fit(train_df_days_normalized)"
   ]
  },
  {
   "cell_type": "code",
   "execution_count": 67,
   "metadata": {},
   "outputs": [
    {
     "data": {
      "text/html": [
       "<div>\n",
       "<style scoped>\n",
       "    .dataframe tbody tr th:only-of-type {\n",
       "        vertical-align: middle;\n",
       "    }\n",
       "\n",
       "    .dataframe tbody tr th {\n",
       "        vertical-align: top;\n",
       "    }\n",
       "\n",
       "    .dataframe thead th {\n",
       "        text-align: right;\n",
       "    }\n",
       "</style>\n",
       "<table border=\"1\" class=\"dataframe\">\n",
       "  <thead>\n",
       "    <tr style=\"text-align: right;\">\n",
       "      <th></th>\n",
       "      <th>ds</th>\n",
       "    </tr>\n",
       "  </thead>\n",
       "  <tbody>\n",
       "    <tr>\n",
       "      <th>39478</th>\n",
       "      <td>2019-12-31 22:00:00</td>\n",
       "    </tr>\n",
       "    <tr>\n",
       "      <th>39479</th>\n",
       "      <td>2019-12-31 23:00:00</td>\n",
       "    </tr>\n",
       "  </tbody>\n",
       "</table>\n",
       "</div>"
      ],
      "text/plain": [
       "                       ds\n",
       "39478 2019-12-31 22:00:00\n",
       "39479 2019-12-31 23:00:00"
      ]
     },
     "execution_count": 67,
     "metadata": {},
     "output_type": "execute_result"
    }
   ],
   "source": [
    "# I can only do hourly or minute frequencies...\n",
    "## https://pandas.pydata.org/pandas-docs/stable/user_guide/timeseries.html#timeseries-offset-aliases\n",
    "## Either I change the data to be hourly or I try minutes\n",
    "future4 = prophetfmodel4.make_future_dataframe(periods=test_df_length,\n",
    "                                               freq='H')\n",
    "future4.tail(2)"
   ]
  },
  {
   "cell_type": "code",
   "execution_count": 68,
   "metadata": {},
   "outputs": [
    {
     "data": {
      "text/html": [
       "<div>\n",
       "<style scoped>\n",
       "    .dataframe tbody tr th:only-of-type {\n",
       "        vertical-align: middle;\n",
       "    }\n",
       "\n",
       "    .dataframe tbody tr th {\n",
       "        vertical-align: top;\n",
       "    }\n",
       "\n",
       "    .dataframe thead th {\n",
       "        text-align: right;\n",
       "    }\n",
       "</style>\n",
       "<table border=\"1\" class=\"dataframe\">\n",
       "  <thead>\n",
       "    <tr style=\"text-align: right;\">\n",
       "      <th></th>\n",
       "      <th>ds</th>\n",
       "      <th>yhat</th>\n",
       "      <th>yhat_lower</th>\n",
       "      <th>yhat_upper</th>\n",
       "    </tr>\n",
       "  </thead>\n",
       "  <tbody>\n",
       "    <tr>\n",
       "      <th>39478</th>\n",
       "      <td>2019-12-31 22:00:00</td>\n",
       "      <td>0.103524</td>\n",
       "      <td>-0.036721</td>\n",
       "      <td>0.229596</td>\n",
       "    </tr>\n",
       "    <tr>\n",
       "      <th>39479</th>\n",
       "      <td>2019-12-31 23:00:00</td>\n",
       "      <td>0.072452</td>\n",
       "      <td>-0.057236</td>\n",
       "      <td>0.205944</td>\n",
       "    </tr>\n",
       "  </tbody>\n",
       "</table>\n",
       "</div>"
      ],
      "text/plain": [
       "                       ds      yhat  yhat_lower  yhat_upper\n",
       "39478 2019-12-31 22:00:00  0.103524   -0.036721    0.229596\n",
       "39479 2019-12-31 23:00:00  0.072452   -0.057236    0.205944"
      ]
     },
     "execution_count": 68,
     "metadata": {},
     "output_type": "execute_result"
    }
   ],
   "source": [
    "forecast4 = prophetfmodel4.predict(future4)\n",
    "forecast4[['ds', 'yhat', 'yhat_lower', 'yhat_upper']].tail(2)"
   ]
  },
  {
   "cell_type": "code",
   "execution_count": 69,
   "metadata": {},
   "outputs": [],
   "source": [
    "# rescaled predictions\n",
    "orig4_predictions = forecast4['yhat'].values\n",
    "orig4_predictions_reshaped = orig4_predictions.reshape(\n",
    "    (len(orig4_predictions), 1))\n",
    "forecast4_rescaled_predictions = scaler.inverse_transform(\n",
    "    orig4_predictions_reshaped)"
   ]
  },
  {
   "cell_type": "code",
   "execution_count": 70,
   "metadata": {},
   "outputs": [
    {
     "data": {
      "text/plain": [
       "(39480, 1)"
      ]
     },
     "execution_count": 70,
     "metadata": {},
     "output_type": "execute_result"
    }
   ],
   "source": [
    "forecast4_rescaled_predictions.shape"
   ]
  },
  {
   "cell_type": "code",
   "execution_count": 71,
   "metadata": {},
   "outputs": [],
   "source": [
    "forecast4_reshaped = forecast4[-39480:].copy()"
   ]
  },
  {
   "cell_type": "code",
   "execution_count": 72,
   "metadata": {},
   "outputs": [
    {
     "data": {
      "text/plain": [
       "(39480, 22)"
      ]
     },
     "execution_count": 72,
     "metadata": {},
     "output_type": "execute_result"
    }
   ],
   "source": [
    "forecast4_reshaped.shape"
   ]
  },
  {
   "cell_type": "code",
   "execution_count": 73,
   "metadata": {},
   "outputs": [],
   "source": [
    "forecast4_reshaped['yhat'] = forecast4_rescaled_predictions"
   ]
  },
  {
   "cell_type": "code",
   "execution_count": 74,
   "metadata": {},
   "outputs": [],
   "source": [
    "# forecast4_reshaped is sliiiiightly different than the other models"
   ]
  },
  {
   "cell_type": "markdown",
   "metadata": {},
   "source": [
    "### Model with Normalization - QuantileTransformer"
   ]
  },
  {
   "cell_type": "code",
   "execution_count": 75,
   "metadata": {},
   "outputs": [
    {
     "name": "stdout",
     "output_type": "stream",
     "text": [
      "1000\n"
     ]
    }
   ],
   "source": [
    "scaler2 = QuantileTransformer()\n",
    "scaler2 = scaler2.fit(hourly_values_reshaped)\n",
    "print(scaler2.n_quantiles_)"
   ]
  },
  {
   "cell_type": "code",
   "execution_count": 76,
   "metadata": {},
   "outputs": [
    {
     "name": "stdout",
     "output_type": "stream",
     "text": [
      "[0.06306306]\n",
      "[0.04704705]\n",
      "[0.02352352]\n",
      "[0.02752753]\n",
      "[0.14314314]\n"
     ]
    }
   ],
   "source": [
    "normalized2 = scaler2.transform(hourly_values_reshaped)\n",
    "for i in range(5):\n",
    "    print(normalized2[i])"
   ]
  },
  {
   "cell_type": "code",
   "execution_count": 77,
   "metadata": {},
   "outputs": [],
   "source": [
    "train_df_days_normalized2 = fb_prophet_train_df.copy()"
   ]
  },
  {
   "cell_type": "code",
   "execution_count": 78,
   "metadata": {},
   "outputs": [],
   "source": [
    "train_df_days_normalized2['y'] = normalized2"
   ]
  },
  {
   "cell_type": "code",
   "execution_count": 79,
   "metadata": {},
   "outputs": [
    {
     "data": {
      "text/html": [
       "<div>\n",
       "<style scoped>\n",
       "    .dataframe tbody tr th:only-of-type {\n",
       "        vertical-align: middle;\n",
       "    }\n",
       "\n",
       "    .dataframe tbody tr th {\n",
       "        vertical-align: top;\n",
       "    }\n",
       "\n",
       "    .dataframe thead th {\n",
       "        text-align: right;\n",
       "    }\n",
       "</style>\n",
       "<table border=\"1\" class=\"dataframe\">\n",
       "  <thead>\n",
       "    <tr style=\"text-align: right;\">\n",
       "      <th></th>\n",
       "      <th>ds</th>\n",
       "      <th>y</th>\n",
       "      <th>cap</th>\n",
       "      <th>floor</th>\n",
       "    </tr>\n",
       "  </thead>\n",
       "  <tbody>\n",
       "    <tr>\n",
       "      <th>0</th>\n",
       "      <td>2015-07-01 00:00:00</td>\n",
       "      <td>0.063063</td>\n",
       "      <td>1400</td>\n",
       "      <td>0</td>\n",
       "    </tr>\n",
       "    <tr>\n",
       "      <th>1</th>\n",
       "      <td>2015-07-01 01:00:00</td>\n",
       "      <td>0.047047</td>\n",
       "      <td>1400</td>\n",
       "      <td>0</td>\n",
       "    </tr>\n",
       "  </tbody>\n",
       "</table>\n",
       "</div>"
      ],
      "text/plain": [
       "                   ds         y   cap  floor\n",
       "0 2015-07-01 00:00:00  0.063063  1400      0\n",
       "1 2015-07-01 01:00:00  0.047047  1400      0"
      ]
     },
     "execution_count": 79,
     "metadata": {},
     "output_type": "execute_result"
    }
   ],
   "source": [
    "train_df_days_normalized2.head(2)"
   ]
  },
  {
   "cell_type": "code",
   "execution_count": 80,
   "metadata": {},
   "outputs": [],
   "source": [
    "prophetfmodel5 = Prophet(daily_seasonality=True,\n",
    "                         yearly_seasonality=True,\n",
    "                         weekly_seasonality=True)"
   ]
  },
  {
   "cell_type": "code",
   "execution_count": 81,
   "metadata": {},
   "outputs": [
    {
     "data": {
      "text/plain": [
       "<fbprophet.forecaster.Prophet at 0x7ff6538793c8>"
      ]
     },
     "execution_count": 81,
     "metadata": {},
     "output_type": "execute_result"
    }
   ],
   "source": [
    "prophetfmodel5.fit(train_df_days_normalized2)"
   ]
  },
  {
   "cell_type": "code",
   "execution_count": 82,
   "metadata": {},
   "outputs": [
    {
     "data": {
      "text/html": [
       "<div>\n",
       "<style scoped>\n",
       "    .dataframe tbody tr th:only-of-type {\n",
       "        vertical-align: middle;\n",
       "    }\n",
       "\n",
       "    .dataframe tbody tr th {\n",
       "        vertical-align: top;\n",
       "    }\n",
       "\n",
       "    .dataframe thead th {\n",
       "        text-align: right;\n",
       "    }\n",
       "</style>\n",
       "<table border=\"1\" class=\"dataframe\">\n",
       "  <thead>\n",
       "    <tr style=\"text-align: right;\">\n",
       "      <th></th>\n",
       "      <th>ds</th>\n",
       "    </tr>\n",
       "  </thead>\n",
       "  <tbody>\n",
       "    <tr>\n",
       "      <th>39478</th>\n",
       "      <td>2019-12-31 22:00:00</td>\n",
       "    </tr>\n",
       "    <tr>\n",
       "      <th>39479</th>\n",
       "      <td>2019-12-31 23:00:00</td>\n",
       "    </tr>\n",
       "  </tbody>\n",
       "</table>\n",
       "</div>"
      ],
      "text/plain": [
       "                       ds\n",
       "39478 2019-12-31 22:00:00\n",
       "39479 2019-12-31 23:00:00"
      ]
     },
     "execution_count": 82,
     "metadata": {},
     "output_type": "execute_result"
    }
   ],
   "source": [
    "# I can only do hourly or minute frequencies... https://pandas.pydata.org/pandas-docs/stable/user_guide/timeseries.html#timeseries-offset-aliases\n",
    "## Either I change the data to be hourly or I try minutes\n",
    "future5 = prophetfmodel5.make_future_dataframe(periods=test_df_length,\n",
    "                                               freq='H')\n",
    "future5.tail(2)"
   ]
  },
  {
   "cell_type": "code",
   "execution_count": 83,
   "metadata": {},
   "outputs": [
    {
     "data": {
      "text/html": [
       "<div>\n",
       "<style scoped>\n",
       "    .dataframe tbody tr th:only-of-type {\n",
       "        vertical-align: middle;\n",
       "    }\n",
       "\n",
       "    .dataframe tbody tr th {\n",
       "        vertical-align: top;\n",
       "    }\n",
       "\n",
       "    .dataframe thead th {\n",
       "        text-align: right;\n",
       "    }\n",
       "</style>\n",
       "<table border=\"1\" class=\"dataframe\">\n",
       "  <thead>\n",
       "    <tr style=\"text-align: right;\">\n",
       "      <th></th>\n",
       "      <th>ds</th>\n",
       "      <th>yhat</th>\n",
       "      <th>yhat_lower</th>\n",
       "      <th>yhat_upper</th>\n",
       "    </tr>\n",
       "  </thead>\n",
       "  <tbody>\n",
       "    <tr>\n",
       "      <th>39478</th>\n",
       "      <td>2019-12-31 22:00:00</td>\n",
       "      <td>0.230197</td>\n",
       "      <td>0.080151</td>\n",
       "      <td>0.402826</td>\n",
       "    </tr>\n",
       "    <tr>\n",
       "      <th>39479</th>\n",
       "      <td>2019-12-31 23:00:00</td>\n",
       "      <td>0.203061</td>\n",
       "      <td>0.045237</td>\n",
       "      <td>0.356234</td>\n",
       "    </tr>\n",
       "  </tbody>\n",
       "</table>\n",
       "</div>"
      ],
      "text/plain": [
       "                       ds      yhat  yhat_lower  yhat_upper\n",
       "39478 2019-12-31 22:00:00  0.230197    0.080151    0.402826\n",
       "39479 2019-12-31 23:00:00  0.203061    0.045237    0.356234"
      ]
     },
     "execution_count": 83,
     "metadata": {},
     "output_type": "execute_result"
    }
   ],
   "source": [
    "forecast5 = prophetfmodel5.predict(future5)\n",
    "forecast5[['ds', 'yhat', 'yhat_lower', 'yhat_upper']].tail(2)"
   ]
  },
  {
   "cell_type": "code",
   "execution_count": 84,
   "metadata": {},
   "outputs": [],
   "source": [
    "# rescaled predictions\n",
    "orig5_predictions = forecast5['yhat'].values\n",
    "orig5_predictions_reshaped = orig5_predictions.reshape(\n",
    "    (len(orig5_predictions), 1))\n",
    "forecast5_rescaled_predictions = scaler2.inverse_transform(\n",
    "    orig5_predictions_reshaped)"
   ]
  },
  {
   "cell_type": "code",
   "execution_count": 85,
   "metadata": {},
   "outputs": [
    {
     "data": {
      "text/plain": [
       "(39480, 1)"
      ]
     },
     "execution_count": 85,
     "metadata": {},
     "output_type": "execute_result"
    }
   ],
   "source": [
    "forecast5_rescaled_predictions.shape"
   ]
  },
  {
   "cell_type": "code",
   "execution_count": 86,
   "metadata": {},
   "outputs": [],
   "source": [
    "forecast5_reshaped = forecast5[-39480:].copy()"
   ]
  },
  {
   "cell_type": "code",
   "execution_count": 87,
   "metadata": {},
   "outputs": [
    {
     "data": {
      "text/plain": [
       "(39480, 22)"
      ]
     },
     "execution_count": 87,
     "metadata": {},
     "output_type": "execute_result"
    }
   ],
   "source": [
    "forecast5_reshaped.shape"
   ]
  },
  {
   "cell_type": "code",
   "execution_count": 88,
   "metadata": {},
   "outputs": [],
   "source": [
    "forecast5_reshaped['yhat'] = forecast5_rescaled_predictions"
   ]
  },
  {
   "cell_type": "code",
   "execution_count": 89,
   "metadata": {},
   "outputs": [
    {
     "data": {
      "text/plain": [
       "0    36.000000\n",
       "1    16.087564\n",
       "Name: yhat, dtype: float64"
      ]
     },
     "execution_count": 89,
     "metadata": {},
     "output_type": "execute_result"
    }
   ],
   "source": [
    "forecast5_reshaped['yhat'].head(2)"
   ]
  },
  {
   "cell_type": "markdown",
   "metadata": {},
   "source": [
    "### Standardization"
   ]
  },
  {
   "cell_type": "markdown",
   "metadata": {},
   "source": [
    "#### Does the data follow a gaussian distribution"
   ]
  },
  {
   "cell_type": "code",
   "execution_count": 90,
   "metadata": {},
   "outputs": [],
   "source": [
    "# sort data, then plot\n",
    "sorted_num_of_cars = sorted(hourly_values)"
   ]
  },
  {
   "cell_type": "code",
   "execution_count": 91,
   "metadata": {},
   "outputs": [
    {
     "data": {
      "text/plain": [
       "<matplotlib.axes._subplots.AxesSubplot at 0x7ff64cafbe10>"
      ]
     },
     "execution_count": 91,
     "metadata": {},
     "output_type": "execute_result"
    },
    {
     "data": {
      "image/png": "[encoded data removed]",
      "text/plain": [
       "<Figure size 432x288 with 1 Axes>"
      ]
     },
     "metadata": {
      "needs_background": "light"
     },
     "output_type": "display_data"
    }
   ],
   "source": [
    "# not really gaussian, so this won't work\n",
    "sns.kdeplot(sorted_num_of_cars)"
   ]
  },
  {
   "cell_type": "markdown",
   "metadata": {},
   "source": [
    "#### Testing For Normality"
   ]
  },
  {
   "cell_type": "code",
   "execution_count": 92,
   "metadata": {},
   "outputs": [
    {
     "data": {
      "text/plain": [
       "NormaltestResult(statistic=205744.88876666102, pvalue=0.0)"
      ]
     },
     "execution_count": 92,
     "metadata": {},
     "output_type": "execute_result"
    }
   ],
   "source": [
    "normaltest(sorted_num_of_cars, nan_policy='omit')  # not normal"
   ]
  },
  {
   "cell_type": "markdown",
   "metadata": {},
   "source": [
    "### Power Transform"
   ]
  },
  {
   "cell_type": "code",
   "execution_count": 93,
   "metadata": {},
   "outputs": [],
   "source": [
    "hourly_values_power_transform = [np.log(x) for x in hourly_values]"
   ]
  },
  {
   "cell_type": "code",
   "execution_count": 94,
   "metadata": {},
   "outputs": [],
   "source": [
    "sorted_num_of_cars_power_transform = sorted(hourly_values_power_transform)"
   ]
  },
  {
   "cell_type": "code",
   "execution_count": 95,
   "metadata": {},
   "outputs": [
    {
     "data": {
      "text/plain": [
       "<matplotlib.axes._subplots.AxesSubplot at 0x7ff5f9c34f28>"
      ]
     },
     "execution_count": 95,
     "metadata": {},
     "output_type": "execute_result"
    },
    {
     "data": {
      "image/png": "[encoded data removed]",
      "text/plain": [
       "<Figure size 432x288 with 1 Axes>"
      ]
     },
     "metadata": {
      "needs_background": "light"
     },
     "output_type": "display_data"
    }
   ],
   "source": [
    "sns.kdeplot(sorted_num_of_cars_power_transform)"
   ]
  },
  {
   "cell_type": "code",
   "execution_count": 96,
   "metadata": {},
   "outputs": [
    {
     "data": {
      "text/plain": [
       "NormaltestResult(statistic=nan, pvalue=nan)"
      ]
     },
     "execution_count": 96,
     "metadata": {},
     "output_type": "execute_result"
    }
   ],
   "source": [
    "# since the p-value is very small, probably not from a normal distribution\n",
    "## https://stackoverflow.com/questions/12838993/scipy-normaltest-how-is-it-used\n",
    "normaltest(sorted_num_of_cars_power_transform, nan_policy='omit')  # not normal"
   ]
  },
  {
   "cell_type": "markdown",
   "metadata": {},
   "source": [
    "### Adding Holidays to Linear Model"
   ]
  },
  {
   "cell_type": "markdown",
   "metadata": {},
   "source": [
    "#### Getting aussie holidays"
   ]
  },
  {
   "cell_type": "code",
   "execution_count": 97,
   "metadata": {},
   "outputs": [],
   "source": [
    "aus_holidays = holidays.CountryHoliday(\n",
    "    'AU', prov='NSW', years=[2015, 2016, 2017, 2018, 2019, 2020])"
   ]
  },
  {
   "cell_type": "code",
   "execution_count": 98,
   "metadata": {},
   "outputs": [
    {
     "data": {
      "text/plain": [
       "holidays.AU"
      ]
     },
     "execution_count": 98,
     "metadata": {},
     "output_type": "execute_result"
    }
   ],
   "source": [
    "type(aus_holidays)"
   ]
  },
  {
   "cell_type": "code",
   "execution_count": 99,
   "metadata": {},
   "outputs": [],
   "source": [
    "# for date, name in sorted(aus_holidays.items()):\n",
    "#     print(date, name)"
   ]
  },
  {
   "cell_type": "code",
   "execution_count": 100,
   "metadata": {},
   "outputs": [
    {
     "data": {
      "text/plain": [
       "True"
      ]
     },
     "execution_count": 100,
     "metadata": {},
     "output_type": "execute_result"
    }
   ],
   "source": [
    "datetime.date(2015, 1, 1) in aus_holidays"
   ]
  },
  {
   "cell_type": "code",
   "execution_count": 101,
   "metadata": {},
   "outputs": [],
   "source": [
    "# making into a df\n",
    "aus_holidays_df = pd.DataFrame.from_dict(aus_holidays,\n",
    "                                         orient='index').reset_index()"
   ]
  },
  {
   "cell_type": "code",
   "execution_count": 102,
   "metadata": {},
   "outputs": [],
   "source": [
    "aus_holidays_df.columns = ['ds', 'holiday']"
   ]
  },
  {
   "cell_type": "code",
   "execution_count": 103,
   "metadata": {},
   "outputs": [],
   "source": [
    "aus_holidays_df['lower_window'] = -1\n",
    "aus_holidays_df['upper_window'] = 1"
   ]
  },
  {
   "cell_type": "code",
   "execution_count": 104,
   "metadata": {
    "code_folding": [
     1,
     11
    ]
   },
   "outputs": [],
   "source": [
    "# fbprophet's example\n",
    "playoffs = pd.DataFrame({\n",
    "    'holiday':\n",
    "    'playoff',\n",
    "    'ds':\n",
    "    pd.to_datetime([\n",
    "        '2008-01-13', '2009-01-03', '2010-01-16', '2010-01-24', '2010-02-07',\n",
    "        '2011-01-08', '2013-01-12', '2014-01-12', '2014-01-19', '2014-02-02',\n",
    "        '2015-01-11', '2016-01-17', '2016-01-24', '2016-02-07'\n",
    "    ]),\n",
    "    'lower_window':\n",
    "    0,\n",
    "    'upper_window':\n",
    "    1,\n",
    "})\n",
    "superbowls = pd.DataFrame({\n",
    "    'holiday':\n",
    "    'superbowl',\n",
    "    'ds':\n",
    "    pd.to_datetime(['2010-02-07', '2014-02-02', '2016-02-07']),\n",
    "    'lower_window':\n",
    "    0,\n",
    "    'upper_window':\n",
    "    1,\n",
    "})\n",
    "holidays = pd.concat((playoffs, superbowls))"
   ]
  },
  {
   "cell_type": "code",
   "execution_count": 105,
   "metadata": {},
   "outputs": [
    {
     "data": {
      "text/html": [
       "<div>\n",
       "<style scoped>\n",
       "    .dataframe tbody tr th:only-of-type {\n",
       "        vertical-align: middle;\n",
       "    }\n",
       "\n",
       "    .dataframe tbody tr th {\n",
       "        vertical-align: top;\n",
       "    }\n",
       "\n",
       "    .dataframe thead th {\n",
       "        text-align: right;\n",
       "    }\n",
       "</style>\n",
       "<table border=\"1\" class=\"dataframe\">\n",
       "  <thead>\n",
       "    <tr style=\"text-align: right;\">\n",
       "      <th></th>\n",
       "      <th>holiday</th>\n",
       "      <th>ds</th>\n",
       "      <th>lower_window</th>\n",
       "      <th>upper_window</th>\n",
       "    </tr>\n",
       "  </thead>\n",
       "  <tbody>\n",
       "    <tr>\n",
       "      <th>0</th>\n",
       "      <td>playoff</td>\n",
       "      <td>2008-01-13</td>\n",
       "      <td>0</td>\n",
       "      <td>1</td>\n",
       "    </tr>\n",
       "    <tr>\n",
       "      <th>1</th>\n",
       "      <td>playoff</td>\n",
       "      <td>2009-01-03</td>\n",
       "      <td>0</td>\n",
       "      <td>1</td>\n",
       "    </tr>\n",
       "  </tbody>\n",
       "</table>\n",
       "</div>"
      ],
      "text/plain": [
       "   holiday         ds  lower_window  upper_window\n",
       "0  playoff 2008-01-13             0             1\n",
       "1  playoff 2009-01-03             0             1"
      ]
     },
     "execution_count": 105,
     "metadata": {},
     "output_type": "execute_result"
    }
   ],
   "source": [
    "holidays.head(2)"
   ]
  },
  {
   "cell_type": "markdown",
   "metadata": {},
   "source": [
    "#### Model 6"
   ]
  },
  {
   "cell_type": "code",
   "execution_count": 106,
   "metadata": {},
   "outputs": [],
   "source": [
    "prophetfmodel6 = Prophet(daily_seasonality=True,\n",
    "                         yearly_seasonality=True,\n",
    "                         weekly_seasonality=True,\n",
    "                         holidays=aus_holidays_df)"
   ]
  },
  {
   "cell_type": "code",
   "execution_count": 107,
   "metadata": {},
   "outputs": [
    {
     "data": {
      "text/plain": [
       "<fbprophet.forecaster.Prophet at 0x7ff5fb573588>"
      ]
     },
     "execution_count": 107,
     "metadata": {},
     "output_type": "execute_result"
    }
   ],
   "source": [
    "prophetfmodel6.fit(fb_prophet_train_df)"
   ]
  },
  {
   "cell_type": "code",
   "execution_count": 108,
   "metadata": {},
   "outputs": [],
   "source": [
    "six_month = (24 * 7)\n",
    "test_df_length = len(test_df_hourly)"
   ]
  },
  {
   "cell_type": "code",
   "execution_count": 109,
   "metadata": {},
   "outputs": [
    {
     "data": {
      "text/html": [
       "<div>\n",
       "<style scoped>\n",
       "    .dataframe tbody tr th:only-of-type {\n",
       "        vertical-align: middle;\n",
       "    }\n",
       "\n",
       "    .dataframe tbody tr th {\n",
       "        vertical-align: top;\n",
       "    }\n",
       "\n",
       "    .dataframe thead th {\n",
       "        text-align: right;\n",
       "    }\n",
       "</style>\n",
       "<table border=\"1\" class=\"dataframe\">\n",
       "  <thead>\n",
       "    <tr style=\"text-align: right;\">\n",
       "      <th></th>\n",
       "      <th>ds</th>\n",
       "    </tr>\n",
       "  </thead>\n",
       "  <tbody>\n",
       "    <tr>\n",
       "      <th>39475</th>\n",
       "      <td>2019-12-31 19:00:00</td>\n",
       "    </tr>\n",
       "    <tr>\n",
       "      <th>39476</th>\n",
       "      <td>2019-12-31 20:00:00</td>\n",
       "    </tr>\n",
       "    <tr>\n",
       "      <th>39477</th>\n",
       "      <td>2019-12-31 21:00:00</td>\n",
       "    </tr>\n",
       "    <tr>\n",
       "      <th>39478</th>\n",
       "      <td>2019-12-31 22:00:00</td>\n",
       "    </tr>\n",
       "    <tr>\n",
       "      <th>39479</th>\n",
       "      <td>2019-12-31 23:00:00</td>\n",
       "    </tr>\n",
       "  </tbody>\n",
       "</table>\n",
       "</div>"
      ],
      "text/plain": [
       "                       ds\n",
       "39475 2019-12-31 19:00:00\n",
       "39476 2019-12-31 20:00:00\n",
       "39477 2019-12-31 21:00:00\n",
       "39478 2019-12-31 22:00:00\n",
       "39479 2019-12-31 23:00:00"
      ]
     },
     "execution_count": 109,
     "metadata": {},
     "output_type": "execute_result"
    }
   ],
   "source": [
    "# I can only do hourly or minute frequencies...\n",
    "# https://pandas.pydata.org/pandas-docs/stable/user_guide/timeseries.html#timeseries-offset-aliases\n",
    "## Either I change the data to be hourly or I try minutes\n",
    "future6 = prophetfmodel6.make_future_dataframe(periods=test_df_length,\n",
    "                                               freq='H')\n",
    "future6.tail()"
   ]
  },
  {
   "cell_type": "code",
   "execution_count": 110,
   "metadata": {},
   "outputs": [
    {
     "data": {
      "text/html": [
       "<div>\n",
       "<style scoped>\n",
       "    .dataframe tbody tr th:only-of-type {\n",
       "        vertical-align: middle;\n",
       "    }\n",
       "\n",
       "    .dataframe tbody tr th {\n",
       "        vertical-align: top;\n",
       "    }\n",
       "\n",
       "    .dataframe thead th {\n",
       "        text-align: right;\n",
       "    }\n",
       "</style>\n",
       "<table border=\"1\" class=\"dataframe\">\n",
       "  <thead>\n",
       "    <tr style=\"text-align: right;\">\n",
       "      <th></th>\n",
       "      <th>ds</th>\n",
       "      <th>yhat</th>\n",
       "      <th>yhat_lower</th>\n",
       "      <th>yhat_upper</th>\n",
       "    </tr>\n",
       "  </thead>\n",
       "  <tbody>\n",
       "    <tr>\n",
       "      <th>39475</th>\n",
       "      <td>2019-12-31 19:00:00</td>\n",
       "      <td>677.892929</td>\n",
       "      <td>498.248856</td>\n",
       "      <td>857.696418</td>\n",
       "    </tr>\n",
       "    <tr>\n",
       "      <th>39476</th>\n",
       "      <td>2019-12-31 20:00:00</td>\n",
       "      <td>464.442972</td>\n",
       "      <td>294.429156</td>\n",
       "      <td>630.186276</td>\n",
       "    </tr>\n",
       "    <tr>\n",
       "      <th>39477</th>\n",
       "      <td>2019-12-31 21:00:00</td>\n",
       "      <td>274.673677</td>\n",
       "      <td>111.670727</td>\n",
       "      <td>448.114850</td>\n",
       "    </tr>\n",
       "    <tr>\n",
       "      <th>39478</th>\n",
       "      <td>2019-12-31 22:00:00</td>\n",
       "      <td>165.514624</td>\n",
       "      <td>-17.446234</td>\n",
       "      <td>341.288224</td>\n",
       "    </tr>\n",
       "    <tr>\n",
       "      <th>39479</th>\n",
       "      <td>2019-12-31 23:00:00</td>\n",
       "      <td>123.025359</td>\n",
       "      <td>-57.425855</td>\n",
       "      <td>292.157421</td>\n",
       "    </tr>\n",
       "  </tbody>\n",
       "</table>\n",
       "</div>"
      ],
      "text/plain": [
       "                       ds        yhat  yhat_lower  yhat_upper\n",
       "39475 2019-12-31 19:00:00  677.892929  498.248856  857.696418\n",
       "39476 2019-12-31 20:00:00  464.442972  294.429156  630.186276\n",
       "39477 2019-12-31 21:00:00  274.673677  111.670727  448.114850\n",
       "39478 2019-12-31 22:00:00  165.514624  -17.446234  341.288224\n",
       "39479 2019-12-31 23:00:00  123.025359  -57.425855  292.157421"
      ]
     },
     "execution_count": 110,
     "metadata": {},
     "output_type": "execute_result"
    }
   ],
   "source": [
    "forecast6 = prophetfmodel6.predict(future6)\n",
    "forecast6[['ds', 'yhat', 'yhat_lower', 'yhat_upper']].tail()"
   ]
  },
  {
   "cell_type": "code",
   "execution_count": 111,
   "metadata": {},
   "outputs": [
    {
     "data": {
      "text/html": [
       "<div>\n",
       "<style scoped>\n",
       "    .dataframe tbody tr th:only-of-type {\n",
       "        vertical-align: middle;\n",
       "    }\n",
       "\n",
       "    .dataframe tbody tr th {\n",
       "        vertical-align: top;\n",
       "    }\n",
       "\n",
       "    .dataframe thead th {\n",
       "        text-align: right;\n",
       "    }\n",
       "</style>\n",
       "<table border=\"1\" class=\"dataframe\">\n",
       "  <thead>\n",
       "    <tr style=\"text-align: right;\">\n",
       "      <th></th>\n",
       "      <th>ds</th>\n",
       "      <th>trend</th>\n",
       "      <th>yhat_lower</th>\n",
       "      <th>yhat_upper</th>\n",
       "      <th>trend_lower</th>\n",
       "      <th>trend_upper</th>\n",
       "      <th>Anzac Day</th>\n",
       "      <th>Anzac Day_lower</th>\n",
       "      <th>Anzac Day_upper</th>\n",
       "      <th>Australia Day</th>\n",
       "      <th>...</th>\n",
       "      <th>weekly</th>\n",
       "      <th>weekly_lower</th>\n",
       "      <th>weekly_upper</th>\n",
       "      <th>yearly</th>\n",
       "      <th>yearly_lower</th>\n",
       "      <th>yearly_upper</th>\n",
       "      <th>multiplicative_terms</th>\n",
       "      <th>multiplicative_terms_lower</th>\n",
       "      <th>multiplicative_terms_upper</th>\n",
       "      <th>yhat</th>\n",
       "    </tr>\n",
       "  </thead>\n",
       "  <tbody>\n",
       "    <tr>\n",
       "      <th>0</th>\n",
       "      <td>2015-07-01 00:00:00</td>\n",
       "      <td>509.357045</td>\n",
       "      <td>-119.868430</td>\n",
       "      <td>228.464813</td>\n",
       "      <td>509.357045</td>\n",
       "      <td>509.357045</td>\n",
       "      <td>0.0</td>\n",
       "      <td>0.0</td>\n",
       "      <td>0.0</td>\n",
       "      <td>0.0</td>\n",
       "      <td>...</td>\n",
       "      <td>4.210386</td>\n",
       "      <td>4.210386</td>\n",
       "      <td>4.210386</td>\n",
       "      <td>-26.361988</td>\n",
       "      <td>-26.361988</td>\n",
       "      <td>-26.361988</td>\n",
       "      <td>0.0</td>\n",
       "      <td>0.0</td>\n",
       "      <td>0.0</td>\n",
       "      <td>55.656750</td>\n",
       "    </tr>\n",
       "    <tr>\n",
       "      <th>1</th>\n",
       "      <td>2015-07-01 01:00:00</td>\n",
       "      <td>509.358393</td>\n",
       "      <td>-192.300053</td>\n",
       "      <td>161.061344</td>\n",
       "      <td>509.358393</td>\n",
       "      <td>509.358393</td>\n",
       "      <td>0.0</td>\n",
       "      <td>0.0</td>\n",
       "      <td>0.0</td>\n",
       "      <td>0.0</td>\n",
       "      <td>...</td>\n",
       "      <td>5.357728</td>\n",
       "      <td>5.357728</td>\n",
       "      <td>5.357728</td>\n",
       "      <td>-26.414452</td>\n",
       "      <td>-26.414452</td>\n",
       "      <td>-26.414452</td>\n",
       "      <td>0.0</td>\n",
       "      <td>0.0</td>\n",
       "      <td>0.0</td>\n",
       "      <td>-13.361854</td>\n",
       "    </tr>\n",
       "  </tbody>\n",
       "</table>\n",
       "<p>2 rows × 73 columns</p>\n",
       "</div>"
      ],
      "text/plain": [
       "                   ds       trend  yhat_lower  yhat_upper  trend_lower  \\\n",
       "0 2015-07-01 00:00:00  509.357045 -119.868430  228.464813   509.357045   \n",
       "1 2015-07-01 01:00:00  509.358393 -192.300053  161.061344   509.358393   \n",
       "\n",
       "   trend_upper  Anzac Day  Anzac Day_lower  Anzac Day_upper  Australia Day  \\\n",
       "0   509.357045        0.0              0.0              0.0            0.0   \n",
       "1   509.358393        0.0              0.0              0.0            0.0   \n",
       "\n",
       "   ...    weekly  weekly_lower  weekly_upper     yearly  yearly_lower  \\\n",
       "0  ...  4.210386      4.210386      4.210386 -26.361988    -26.361988   \n",
       "1  ...  5.357728      5.357728      5.357728 -26.414452    -26.414452   \n",
       "\n",
       "   yearly_upper  multiplicative_terms  multiplicative_terms_lower  \\\n",
       "0    -26.361988                   0.0                         0.0   \n",
       "1    -26.414452                   0.0                         0.0   \n",
       "\n",
       "   multiplicative_terms_upper       yhat  \n",
       "0                         0.0  55.656750  \n",
       "1                         0.0 -13.361854  \n",
       "\n",
       "[2 rows x 73 columns]"
      ]
     },
     "execution_count": 111,
     "metadata": {},
     "output_type": "execute_result"
    }
   ],
   "source": [
    "forecast6.head(2)"
   ]
  },
  {
   "cell_type": "markdown",
   "metadata": {},
   "source": [
    "#### Plotting components"
   ]
  },
  {
   "cell_type": "code",
   "execution_count": 112,
   "metadata": {},
   "outputs": [
    {
     "data": {
      "image/png": "[encoded data removed]",
      "text/plain": [
       "<Figure size 648x1080 with 5 Axes>"
      ]
     },
     "metadata": {},
     "output_type": "display_data"
    }
   ],
   "source": [
    "component_fig2 = prophetfmodel6.plot_components(forecast6)"
   ]
  },
  {
   "cell_type": "markdown",
   "metadata": {},
   "source": [
    "### Logistic model with holidays"
   ]
  },
  {
   "cell_type": "code",
   "execution_count": 113,
   "metadata": {},
   "outputs": [],
   "source": [
    "prophetfmodel7 = Prophet(growth='logistic',\n",
    "                         daily_seasonality=True,\n",
    "                         yearly_seasonality=True,\n",
    "                         weekly_seasonality=True,\n",
    "                         holidays=aus_holidays_df)"
   ]
  },
  {
   "cell_type": "code",
   "execution_count": 114,
   "metadata": {},
   "outputs": [
    {
     "data": {
      "text/plain": [
       "<fbprophet.forecaster.Prophet at 0x7ff5dbbae9e8>"
      ]
     },
     "execution_count": 114,
     "metadata": {},
     "output_type": "execute_result"
    }
   ],
   "source": [
    "prophetfmodel7.fit(fb_prophet_train_df)"
   ]
  },
  {
   "cell_type": "code",
   "execution_count": 115,
   "metadata": {},
   "outputs": [],
   "source": [
    "# I can only do hourly or minute frequencies... https://pandas.pydata.org/pandas-docs/stable/user_guide/timeseries.html#timeseries-offset-aliases\n",
    "## Either I change the data to be hourly or I try minutes\n",
    "future7 = prophetfmodel7.make_future_dataframe(periods=test_df_length,\n",
    "                                               freq='H')\n",
    "future7.tail(2)\n",
    "future7['floor'] = 0\n",
    "future7['cap'] = 1400"
   ]
  },
  {
   "cell_type": "code",
   "execution_count": 116,
   "metadata": {},
   "outputs": [
    {
     "data": {
      "text/html": [
       "<div>\n",
       "<style scoped>\n",
       "    .dataframe tbody tr th:only-of-type {\n",
       "        vertical-align: middle;\n",
       "    }\n",
       "\n",
       "    .dataframe tbody tr th {\n",
       "        vertical-align: top;\n",
       "    }\n",
       "\n",
       "    .dataframe thead th {\n",
       "        text-align: right;\n",
       "    }\n",
       "</style>\n",
       "<table border=\"1\" class=\"dataframe\">\n",
       "  <thead>\n",
       "    <tr style=\"text-align: right;\">\n",
       "      <th></th>\n",
       "      <th>ds</th>\n",
       "      <th>yhat</th>\n",
       "      <th>yhat_lower</th>\n",
       "      <th>yhat_upper</th>\n",
       "    </tr>\n",
       "  </thead>\n",
       "  <tbody>\n",
       "    <tr>\n",
       "      <th>39475</th>\n",
       "      <td>2019-12-31 19:00:00</td>\n",
       "      <td>672.524763</td>\n",
       "      <td>494.398461</td>\n",
       "      <td>842.195690</td>\n",
       "    </tr>\n",
       "    <tr>\n",
       "      <th>39476</th>\n",
       "      <td>2019-12-31 20:00:00</td>\n",
       "      <td>459.073091</td>\n",
       "      <td>283.685352</td>\n",
       "      <td>639.708434</td>\n",
       "    </tr>\n",
       "    <tr>\n",
       "      <th>39477</th>\n",
       "      <td>2019-12-31 21:00:00</td>\n",
       "      <td>269.302299</td>\n",
       "      <td>94.952877</td>\n",
       "      <td>446.888593</td>\n",
       "    </tr>\n",
       "    <tr>\n",
       "      <th>39478</th>\n",
       "      <td>2019-12-31 22:00:00</td>\n",
       "      <td>160.142154</td>\n",
       "      <td>-20.544184</td>\n",
       "      <td>320.987655</td>\n",
       "    </tr>\n",
       "    <tr>\n",
       "      <th>39479</th>\n",
       "      <td>2019-12-31 23:00:00</td>\n",
       "      <td>117.652169</td>\n",
       "      <td>-66.086188</td>\n",
       "      <td>277.937879</td>\n",
       "    </tr>\n",
       "  </tbody>\n",
       "</table>\n",
       "</div>"
      ],
      "text/plain": [
       "                       ds        yhat  yhat_lower  yhat_upper\n",
       "39475 2019-12-31 19:00:00  672.524763  494.398461  842.195690\n",
       "39476 2019-12-31 20:00:00  459.073091  283.685352  639.708434\n",
       "39477 2019-12-31 21:00:00  269.302299   94.952877  446.888593\n",
       "39478 2019-12-31 22:00:00  160.142154  -20.544184  320.987655\n",
       "39479 2019-12-31 23:00:00  117.652169  -66.086188  277.937879"
      ]
     },
     "execution_count": 116,
     "metadata": {},
     "output_type": "execute_result"
    }
   ],
   "source": [
    "# basically same predictions as before\n",
    "forecast7 = prophetfmodel7.predict(future7)\n",
    "forecast7[['ds', 'yhat', 'yhat_lower', 'yhat_upper']].tail()"
   ]
  },
  {
   "cell_type": "code",
   "execution_count": 117,
   "metadata": {},
   "outputs": [
    {
     "data": {
      "text/plain": [
       "22"
      ]
     },
     "execution_count": 117,
     "metadata": {},
     "output_type": "execute_result"
    }
   ],
   "source": [
    "len(forecast.columns)"
   ]
  },
  {
   "cell_type": "code",
   "execution_count": 118,
   "metadata": {},
   "outputs": [
    {
     "data": {
      "image/png": "[encoded data removed]",
      "text/plain": [
       "<Figure size 720x432 with 1 Axes>"
      ]
     },
     "metadata": {},
     "output_type": "display_data"
    }
   ],
   "source": [
    "fig7 = prophetfmodel7.plot(forecast7)"
   ]
  },
  {
   "cell_type": "markdown",
   "metadata": {},
   "source": [
    "### Normalization and Holidays Model"
   ]
  },
  {
   "cell_type": "code",
   "execution_count": 119,
   "metadata": {},
   "outputs": [],
   "source": [
    "prophetfmodel8 = Prophet(daily_seasonality=True,\n",
    "                         yearly_seasonality=True,\n",
    "                         weekly_seasonality=True,\n",
    "                         holidays=aus_holidays_df)"
   ]
  },
  {
   "cell_type": "code",
   "execution_count": 120,
   "metadata": {},
   "outputs": [
    {
     "data": {
      "text/plain": [
       "<fbprophet.forecaster.Prophet at 0x7ff5dd7716d8>"
      ]
     },
     "execution_count": 120,
     "metadata": {},
     "output_type": "execute_result"
    }
   ],
   "source": [
    "prophetfmodel8.fit(train_df_days_normalized)"
   ]
  },
  {
   "cell_type": "code",
   "execution_count": 121,
   "metadata": {},
   "outputs": [
    {
     "data": {
      "text/html": [
       "<div>\n",
       "<style scoped>\n",
       "    .dataframe tbody tr th:only-of-type {\n",
       "        vertical-align: middle;\n",
       "    }\n",
       "\n",
       "    .dataframe tbody tr th {\n",
       "        vertical-align: top;\n",
       "    }\n",
       "\n",
       "    .dataframe thead th {\n",
       "        text-align: right;\n",
       "    }\n",
       "</style>\n",
       "<table border=\"1\" class=\"dataframe\">\n",
       "  <thead>\n",
       "    <tr style=\"text-align: right;\">\n",
       "      <th></th>\n",
       "      <th>ds</th>\n",
       "    </tr>\n",
       "  </thead>\n",
       "  <tbody>\n",
       "    <tr>\n",
       "      <th>39478</th>\n",
       "      <td>2019-12-31 22:00:00</td>\n",
       "    </tr>\n",
       "    <tr>\n",
       "      <th>39479</th>\n",
       "      <td>2019-12-31 23:00:00</td>\n",
       "    </tr>\n",
       "  </tbody>\n",
       "</table>\n",
       "</div>"
      ],
      "text/plain": [
       "                       ds\n",
       "39478 2019-12-31 22:00:00\n",
       "39479 2019-12-31 23:00:00"
      ]
     },
     "execution_count": 121,
     "metadata": {},
     "output_type": "execute_result"
    }
   ],
   "source": [
    "# I can only do hourly or minute frequencies... https://pandas.pydata.org/pandas-docs/stable/user_guide/timeseries.html#timeseries-offset-aliases\n",
    "## Either I change the data to be hourly or I try minutes\n",
    "future8 = prophetfmodel8.make_future_dataframe(periods=test_df_length,\n",
    "                                               freq='H')\n",
    "future8.tail(2)"
   ]
  },
  {
   "cell_type": "code",
   "execution_count": 122,
   "metadata": {},
   "outputs": [
    {
     "data": {
      "text/html": [
       "<div>\n",
       "<style scoped>\n",
       "    .dataframe tbody tr th:only-of-type {\n",
       "        vertical-align: middle;\n",
       "    }\n",
       "\n",
       "    .dataframe tbody tr th {\n",
       "        vertical-align: top;\n",
       "    }\n",
       "\n",
       "    .dataframe thead th {\n",
       "        text-align: right;\n",
       "    }\n",
       "</style>\n",
       "<table border=\"1\" class=\"dataframe\">\n",
       "  <thead>\n",
       "    <tr style=\"text-align: right;\">\n",
       "      <th></th>\n",
       "      <th>ds</th>\n",
       "      <th>yhat</th>\n",
       "      <th>yhat_lower</th>\n",
       "      <th>yhat_upper</th>\n",
       "    </tr>\n",
       "  </thead>\n",
       "  <tbody>\n",
       "    <tr>\n",
       "      <th>39478</th>\n",
       "      <td>2019-12-31 22:00:00</td>\n",
       "      <td>0.122535</td>\n",
       "      <td>-0.003711</td>\n",
       "      <td>0.262443</td>\n",
       "    </tr>\n",
       "    <tr>\n",
       "      <th>39479</th>\n",
       "      <td>2019-12-31 23:00:00</td>\n",
       "      <td>0.091271</td>\n",
       "      <td>-0.027534</td>\n",
       "      <td>0.226744</td>\n",
       "    </tr>\n",
       "  </tbody>\n",
       "</table>\n",
       "</div>"
      ],
      "text/plain": [
       "                       ds      yhat  yhat_lower  yhat_upper\n",
       "39478 2019-12-31 22:00:00  0.122535   -0.003711    0.262443\n",
       "39479 2019-12-31 23:00:00  0.091271   -0.027534    0.226744"
      ]
     },
     "execution_count": 122,
     "metadata": {},
     "output_type": "execute_result"
    }
   ],
   "source": [
    "forecast8 = prophetfmodel8.predict(future8)\n",
    "forecast8[['ds', 'yhat', 'yhat_lower', 'yhat_upper']].tail(2)"
   ]
  },
  {
   "cell_type": "code",
   "execution_count": 123,
   "metadata": {},
   "outputs": [],
   "source": [
    "# rescaled predictions\n",
    "orig8_predictions = forecast8['yhat'].values\n",
    "orig8_predictions_reshaped = orig8_predictions.reshape(\n",
    "    (len(orig8_predictions), 1))\n",
    "forecast8_rescaled_predictions = scaler.inverse_transform(\n",
    "    orig8_predictions_reshaped)"
   ]
  },
  {
   "cell_type": "code",
   "execution_count": 124,
   "metadata": {},
   "outputs": [
    {
     "data": {
      "text/plain": [
       "(39480, 1)"
      ]
     },
     "execution_count": 124,
     "metadata": {},
     "output_type": "execute_result"
    }
   ],
   "source": [
    "forecast8_rescaled_predictions.shape"
   ]
  },
  {
   "cell_type": "code",
   "execution_count": 125,
   "metadata": {},
   "outputs": [],
   "source": [
    "forecast8_reshaped = forecast8[-39480:].copy()"
   ]
  },
  {
   "cell_type": "code",
   "execution_count": 126,
   "metadata": {},
   "outputs": [
    {
     "data": {
      "text/plain": [
       "(39480, 73)"
      ]
     },
     "execution_count": 126,
     "metadata": {},
     "output_type": "execute_result"
    }
   ],
   "source": [
    "forecast8_reshaped.shape"
   ]
  },
  {
   "cell_type": "code",
   "execution_count": 127,
   "metadata": {},
   "outputs": [],
   "source": [
    "forecast8_reshaped['yhat'] = forecast8_rescaled_predictions"
   ]
  },
  {
   "cell_type": "markdown",
   "metadata": {},
   "source": [
    "# LSTM Model"
   ]
  },
  {
   "cell_type": "markdown",
   "metadata": {},
   "source": [
    "## Transform Data"
   ]
  },
  {
   "cell_type": "code",
   "execution_count": 128,
   "metadata": {},
   "outputs": [],
   "source": [
    "def add_features_for_LSTM(df):\n",
    "    df['month'] = [i.month for i in df['Date_IntervalStart']]\n",
    "    df['day'] = [i.day for i in df['Date_IntervalStart']]\n",
    "    df[\"hour\"] = [i.hour for i in df['Date_IntervalStart']]\n",
    "    df['target'] = df['TotalVolume']\n",
    "    df = df.drop(columns=['TotalVolume', 'Date_IntervalStart'])\n",
    "    return df"
   ]
  },
  {
   "cell_type": "code",
   "execution_count": 129,
   "metadata": {},
   "outputs": [],
   "source": [
    "test_df_LSTM = add_features_for_LSTM(test_df_hourly)"
   ]
  },
  {
   "cell_type": "code",
   "execution_count": 130,
   "metadata": {},
   "outputs": [],
   "source": [
    "train_df.reset_index(inplace=True)\n",
    "train_df_LSTM = add_features_for_LSTM(train_df)\n",
    "# train_df_LSTM.drop(columns = ['index'])"
   ]
  },
  {
   "cell_type": "code",
   "execution_count": 131,
   "metadata": {},
   "outputs": [
    {
     "data": {
      "text/html": [
       "<div>\n",
       "<style scoped>\n",
       "    .dataframe tbody tr th:only-of-type {\n",
       "        vertical-align: middle;\n",
       "    }\n",
       "\n",
       "    .dataframe tbody tr th {\n",
       "        vertical-align: top;\n",
       "    }\n",
       "\n",
       "    .dataframe thead th {\n",
       "        text-align: right;\n",
       "    }\n",
       "</style>\n",
       "<table border=\"1\" class=\"dataframe\">\n",
       "  <thead>\n",
       "    <tr style=\"text-align: right;\">\n",
       "      <th></th>\n",
       "      <th>month</th>\n",
       "      <th>day</th>\n",
       "      <th>hour</th>\n",
       "      <th>target</th>\n",
       "    </tr>\n",
       "  </thead>\n",
       "  <tbody>\n",
       "    <tr>\n",
       "      <th>0</th>\n",
       "      <td>12</td>\n",
       "      <td>1</td>\n",
       "      <td>0</td>\n",
       "      <td>6</td>\n",
       "    </tr>\n",
       "    <tr>\n",
       "      <th>1</th>\n",
       "      <td>12</td>\n",
       "      <td>1</td>\n",
       "      <td>0</td>\n",
       "      <td>5</td>\n",
       "    </tr>\n",
       "  </tbody>\n",
       "</table>\n",
       "</div>"
      ],
      "text/plain": [
       "   month  day  hour  target\n",
       "0     12    1     0       6\n",
       "1     12    1     0       5"
      ]
     },
     "execution_count": 131,
     "metadata": {},
     "output_type": "execute_result"
    }
   ],
   "source": [
    "train_df_LSTM.head(2)"
   ]
  },
  {
   "cell_type": "markdown",
   "metadata": {},
   "source": [
    "## Reshape Data"
   ]
  },
  {
   "cell_type": "code",
   "execution_count": 132,
   "metadata": {
    "code_folding": []
   },
   "outputs": [],
   "source": [
    "# Code Source: https://machinelearningmastery.com/multivariate-time-series-forecasting-lstms-keras/\n",
    "# convert series to supervised learning\n",
    "def series_to_supervised(data, n_in=1, n_out=1, dropnan=True):\n",
    "    n_vars = 1 if type(data) is list else data.shape[1]\n",
    "    df = pd.DataFrame(data)\n",
    "    cols, names = list(), list()\n",
    "    # input sequence (t-n, ... t-1)\n",
    "    for i in range(n_in, 0, -1):\n",
    "        cols.append(df.shift(i))\n",
    "        names += [('var%d(t-%d)' % (j + 1, i)) for j in range(n_vars)]\n",
    "    # forecast sequence (t, t+1, ... t+n)\n",
    "    for i in range(0, n_out):\n",
    "        cols.append(df.shift(-i))\n",
    "        if i == 0:\n",
    "            names += [('var%d(t)' % (j + 1)) for j in range(n_vars)]\n",
    "        else:\n",
    "            names += [('var%d(t+%d)' % (j + 1, i)) for j in range(n_vars)]\n",
    "    # put it all together\n",
    "    agg = pd.concat(cols, axis=1)\n",
    "    agg.columns = names\n",
    "    # drop rows with NaN values\n",
    "    if dropnan:\n",
    "        agg.dropna(inplace=True)\n",
    "    return agg\n",
    "\n",
    "\n",
    "# create the reshape function\n",
    "def reshape_data(train, test):\n",
    "    #Frame as supervised learning and drop all time t columns except PM2.5\n",
    "    reframed_train = series_to_supervised(train, 1, 1)\n",
    "    reframed_test = series_to_supervised(test, 1, 1)\n",
    "    # split into train and test sets\n",
    "    train = reframed_train.values\n",
    "    test = reframed_test.values\n",
    "    # split into input and outputs\n",
    "    train_X, y_train = train[:, :-1], train[:, -1]\n",
    "    test_X, y_test = test[:, :-1], test[:, -1]\n",
    "    # reshape input to be 3D [samples, timesteps, features]\n",
    "    x_train = train_X.reshape((train_X.shape[0], 1, train_X.shape[1]))\n",
    "    x_test = test_X.reshape((test_X.shape[0], 1, test_X.shape[1]))\n",
    "    return x_train, x_test, y_train, y_test"
   ]
  },
  {
   "cell_type": "code",
   "execution_count": 133,
   "metadata": {},
   "outputs": [],
   "source": [
    "# using the function to obtain reshaped x_train,x_test,y_train,y_test\n",
    "x_train, x_test, y_train, y_test = reshape_data(train_df_LSTM, test_df_LSTM)"
   ]
  },
  {
   "cell_type": "markdown",
   "metadata": {},
   "source": [
    "## Running Model"
   ]
  },
  {
   "cell_type": "code",
   "execution_count": 134,
   "metadata": {
    "scrolled": true
   },
   "outputs": [
    {
     "name": "stdout",
     "output_type": "stream",
     "text": [
      "Epoch 1/25\n",
      "138840/138840 [==============================] - 6s 42us/step - loss: 849.3974\n",
      "Epoch 2/25\n",
      "138840/138840 [==============================] - 6s 42us/step - loss: 456.0647\n",
      "Epoch 3/25\n",
      "138840/138840 [==============================] - 6s 43us/step - loss: 454.1387\n",
      "Epoch 4/25\n",
      "138840/138840 [==============================] - 6s 43us/step - loss: 450.9413\n",
      "Epoch 5/25\n",
      "138840/138840 [==============================] - 6s 44us/step - loss: 451.0110\n",
      "Epoch 6/25\n",
      "138840/138840 [==============================] - 6s 42us/step - loss: 451.6442\n",
      "Epoch 7/25\n",
      "138840/138840 [==============================] - 5s 39us/step - loss: 451.8782\n",
      "Epoch 8/25\n",
      "138840/138840 [==============================] - 6s 40us/step - loss: 448.4256\n",
      "Epoch 9/25\n",
      "138840/138840 [==============================] - 6s 41us/step - loss: 449.4519\n",
      "Epoch 10/25\n",
      "138840/138840 [==============================] - 6s 43us/step - loss: 447.6347\n",
      "Epoch 11/25\n",
      "138840/138840 [==============================] - 6s 40us/step - loss: 445.8949\n",
      "Epoch 12/25\n",
      "138840/138840 [==============================] - 6s 43us/step - loss: 443.1985\n",
      "Epoch 13/25\n",
      "138840/138840 [==============================] - 6s 42us/step - loss: 444.0748\n",
      "Epoch 14/25\n",
      "138840/138840 [==============================] - 6s 40us/step - loss: 441.7531\n",
      "Epoch 15/25\n",
      "138840/138840 [==============================] - 6s 43us/step - loss: 442.4877\n",
      "Epoch 16/25\n",
      "138840/138840 [==============================] - 6s 45us/step - loss: 439.9033\n",
      "Epoch 17/25\n",
      "138840/138840 [==============================] - 6s 43us/step - loss: 438.9168\n",
      "Epoch 18/25\n",
      "138840/138840 [==============================] - 6s 45us/step - loss: 438.2799\n",
      "Epoch 19/25\n",
      "138840/138840 [==============================] - 6s 44us/step - loss: 436.6277\n",
      "Epoch 20/25\n",
      "138840/138840 [==============================] - 6s 45us/step - loss: 436.5990\n",
      "Epoch 21/25\n",
      "138840/138840 [==============================] - 6s 44us/step - loss: 435.8190\n",
      "Epoch 22/25\n",
      "138840/138840 [==============================] - 6s 47us/step - loss: 434.6283\n",
      "Epoch 23/25\n",
      "138840/138840 [==============================] - 6s 44us/step - loss: 433.0347\n",
      "Epoch 24/25\n",
      "138840/138840 [==============================] - 6s 44us/step - loss: 431.7307\n",
      "Epoch 25/25\n",
      "138840/138840 [==============================] - 6s 43us/step - loss: 433.4577\n"
     ]
    }
   ],
   "source": [
    "# design network for confirmed cases data\n",
    "model = Sequential()\n",
    "model.add(\n",
    "    LSTM(60,\n",
    "         activation='relu',\n",
    "         input_shape=(x_train.shape[1], x_train.shape[2])))\n",
    "model.add(Dense(1))\n",
    "model.compile(loss='mean_squared_error', optimizer='adam')\n",
    "# fit network\n",
    "history = model.fit(x_train,\n",
    "                    y_train,\n",
    "                    epochs=25,\n",
    "                    batch_size=50,\n",
    "                    verbose=1,\n",
    "                    shuffle=False)"
   ]
  },
  {
   "cell_type": "markdown",
   "metadata": {},
   "source": [
    "### Visualize loss function"
   ]
  },
  {
   "cell_type": "code",
   "execution_count": 135,
   "metadata": {},
   "outputs": [
    {
     "data": {
      "text/plain": [
       "dict_keys(['loss'])"
      ]
     },
     "execution_count": 135,
     "metadata": {},
     "output_type": "execute_result"
    }
   ],
   "source": [
    "history_dict = history.history\n",
    "history_dict.keys()"
   ]
  },
  {
   "cell_type": "code",
   "execution_count": 136,
   "metadata": {},
   "outputs": [
    {
     "data": {
      "text/plain": [
       "<matplotlib.axes._subplots.AxesSubplot at 0x7ff5dbb90fd0>"
      ]
     },
     "execution_count": 136,
     "metadata": {},
     "output_type": "execute_result"
    },
    {
     "data": {
      "image/png": "[encoded data removed]",
      "text/plain": [
       "<Figure size 432x288 with 1 Axes>"
      ]
     },
     "metadata": {
      "needs_background": "light"
     },
     "output_type": "display_data"
    }
   ],
   "source": [
    "# Plot the loss vs the number of epoch\n",
    "sns.lineplot(x=range(len(history_dict['loss'])), y=history_dict['loss'])"
   ]
  },
  {
   "cell_type": "code",
   "execution_count": 137,
   "metadata": {},
   "outputs": [],
   "source": [
    "# make a prediction\n",
    "y_test_pre = model.predict(x_test)"
   ]
  },
  {
   "cell_type": "code",
   "execution_count": 138,
   "metadata": {},
   "outputs": [],
   "source": [
    "y_test_pre_flattened = y_test_pre.flatten()"
   ]
  },
  {
   "cell_type": "code",
   "execution_count": 139,
   "metadata": {},
   "outputs": [
    {
     "name": "stdout",
     "output_type": "stream",
     "text": [
      "(4415, 1)\n",
      "(4415,)\n"
     ]
    }
   ],
   "source": [
    "print(y_test_pre.shape)\n",
    "print(y_test_pre_flattened.shape)"
   ]
  },
  {
   "cell_type": "markdown",
   "metadata": {},
   "source": [
    "# Evaluating Models"
   ]
  },
  {
   "cell_type": "markdown",
   "metadata": {},
   "source": [
    "## Data"
   ]
  },
  {
   "cell_type": "markdown",
   "metadata": {},
   "source": [
    "### No neg values for some models"
   ]
  },
  {
   "cell_type": "code",
   "execution_count": 140,
   "metadata": {},
   "outputs": [],
   "source": [
    "def no_neg(data):\n",
    "    data_series = data[['yhat']]\n",
    "    data_series['yhat'] = [0 if x < 0 else x for x in data_series['yhat']]\n",
    "    return data_series"
   ]
  },
  {
   "cell_type": "code",
   "execution_count": 141,
   "metadata": {},
   "outputs": [],
   "source": [
    "forecast8_no_negs = no_neg(forecast8_reshaped)"
   ]
  },
  {
   "cell_type": "code",
   "execution_count": 142,
   "metadata": {},
   "outputs": [],
   "source": [
    "forecast5_no_negs = no_neg(forecast5_reshaped)"
   ]
  },
  {
   "cell_type": "code",
   "execution_count": 143,
   "metadata": {},
   "outputs": [],
   "source": [
    "forecast2_no_negs = no_neg(forecast2)"
   ]
  },
  {
   "cell_type": "code",
   "execution_count": 144,
   "metadata": {},
   "outputs": [],
   "source": [
    "forecast3_no_negs = no_neg(forecast3)"
   ]
  },
  {
   "cell_type": "code",
   "execution_count": 156,
   "metadata": {},
   "outputs": [],
   "source": [
    "# LSTM_no_negs = no_neg(y_test_pre_flattened)\n",
    "# https://stackoverflow.com/questions/19766757/replacing-numpy-elements-if-condition-is-met/19767068\n",
    "y_test_pre_flattened_no_negs = np.copy(y_test_pre_flattened)\n",
    "y_test_pre_flattened_no_negs[y_test_pre_flattened_no_negs < 0] = 0"
   ]
  },
  {
   "cell_type": "code",
   "execution_count": 185,
   "metadata": {},
   "outputs": [],
   "source": [
    "# verifying there are no negatives in y_test_pre_flattened_no_negs\n",
    "for item in y_test_pre_flattened_no_negs:\n",
    "    if item < 0:\n",
    "        print(item)"
   ]
  },
  {
   "cell_type": "markdown",
   "metadata": {},
   "source": [
    "### All Data"
   ]
  },
  {
   "cell_type": "code",
   "execution_count": 157,
   "metadata": {
    "code_folding": [],
    "scrolled": true
   },
   "outputs": [],
   "source": [
    "# these models do WAAAY better over the long term\n",
    "labels = [\n",
    "    'Model1_15mins', 'Model2_lin', 'Model3_log', 'Model4_norm', 'Model5_norm2',\n",
    "    'Model6_lin_holidays', \"Model7_log_holidays\", \"Model8_norm_holidays\",\n",
    "    \"Baseline\", \"Model8_no_negs\", \"Model5_no_negs\", \"Model2_no_negs\",\n",
    "    \"Model3_no_negs\", \"LSTM_Model\", \"LSTM_Model_no_negs\"\n",
    "]\n",
    "preds_list = [\n",
    "    forecast[['yhat']][35087:],\n",
    "    forecast2[['yhat']][-test_df_length:-23],\n",
    "    forecast3[['yhat']][-test_df_length:-23],\n",
    "    forecast4_reshaped[['yhat']][-test_df_length:-23],\n",
    "    forecast5_reshaped[['yhat']][-test_df_length:-23],\n",
    "    forecast6[['yhat']][-test_df_length:-23],\n",
    "    forecast7[['yhat']][-test_df_length:-23],\n",
    "    forecast8_reshaped[['yhat']][-test_df_length:-23],\n",
    "    baseline_y[-test_df_length:-23],\n",
    "    forecast8_no_negs[['yhat']][-test_df_length:-23],\n",
    "    forecast5_no_negs[['yhat']][-test_df_length:-23],\n",
    "    forecast2_no_negs[['yhat']][-test_df_length:-23],\n",
    "    forecast3_no_negs[['yhat']][-test_df_length:-23],\n",
    "    y_test_pre_flattened[:\n",
    "                         -22],  # note that LSTM model isn't consistent at this number, it varies based on random inputs \n",
    "    y_test_pre_flattened_no_negs[:-22]\n",
    "]"
   ]
  },
  {
   "cell_type": "markdown",
   "metadata": {},
   "source": [
    "## Functions to calculate metrics and return results as df"
   ]
  },
  {
   "cell_type": "code",
   "execution_count": 158,
   "metadata": {
    "code_folding": []
   },
   "outputs": [],
   "source": [
    "# https://medium.com/@joydeepubuntu/common-metrics-for-time-series-analysis-f3ca4b29fe42\n",
    "# https://machinelearningmastery.com/time-series-forecasting-performance-measures-with-python/\n",
    "def evaluate_models(model_name_list, predictions, test_df):\n",
    "    test_df_length = test_df.shape[0]\n",
    "    true_values = test_df['TotalVolume'].iloc[-test_df_length:-23].values\n",
    "    return_df = pd.DataFrame(index=model_name_list)\n",
    "    metric_list = []\n",
    "    for i in range(len(predictions)):\n",
    "        mse = mean_squared_error(true_values, predictions[i])\n",
    "        rmse = np.sqrt(mse)\n",
    "        mae = mean_absolute_error(true_values, predictions[i])\n",
    "        Medae = median_absolute_error(true_values, predictions[i])\n",
    "        # High R² means that the correlation between observed and predicted values is high\n",
    "        r2 = r2_score(true_values, predictions[i])\n",
    "        # https://machinelearningmastery.com/time-series-forecasting-performance-measures-with-python/\n",
    "        #         prediction_reset_index = predictions[i].reset_index(drop=True)\n",
    "        if type(predictions[i]) == pd.core.frame.DataFrame:\n",
    "            mfe = [\n",
    "                true_values[x] - predictions[i]['yhat'].iloc[x]\n",
    "                for x in range(len(predictions[i]))\n",
    "            ]\n",
    "        elif type(predictions[i]) == np.ndarray:\n",
    "            mfe = list(true_values - predictions[i])\n",
    "        mfe_bias = (sum(mfe) * 1.0) / len(predictions[i])\n",
    "        metric_list.append([mse, rmse, mae, Medae, r2, mfe_bias])\n",
    "    return_df['MSE'] = [round(x[0], 2) for x in metric_list]\n",
    "    return_df['RMSE'] = [round(x[1], 2) for x in metric_list]\n",
    "    return_df['MAE'] = [round(x[2], 2) for x in metric_list]\n",
    "    return_df['MedAE'] = [round(x[3], 2) for x in metric_list]\n",
    "    return_df['R2_score'] = [round(x[4], 2) for x in metric_list]\n",
    "    return_df['MFE_Bias'] = [round(x[5], 2) for x in metric_list]\n",
    "    return return_df"
   ]
  },
  {
   "cell_type": "markdown",
   "metadata": {},
   "source": [
    "## Evaluating Models"
   ]
  },
  {
   "cell_type": "code",
   "execution_count": 159,
   "metadata": {},
   "outputs": [],
   "source": [
    "model_metrics_df = evaluate_models(labels, preds_list, test_df_hourly)"
   ]
  },
  {
   "cell_type": "code",
   "execution_count": 160,
   "metadata": {},
   "outputs": [
    {
     "data": {
      "text/html": [
       "<div>\n",
       "<style scoped>\n",
       "    .dataframe tbody tr th:only-of-type {\n",
       "        vertical-align: middle;\n",
       "    }\n",
       "\n",
       "    .dataframe tbody tr th {\n",
       "        vertical-align: top;\n",
       "    }\n",
       "\n",
       "    .dataframe thead th {\n",
       "        text-align: right;\n",
       "    }\n",
       "</style>\n",
       "<table border=\"1\" class=\"dataframe\">\n",
       "  <thead>\n",
       "    <tr style=\"text-align: right;\">\n",
       "      <th></th>\n",
       "      <th>MSE</th>\n",
       "      <th>RMSE</th>\n",
       "      <th>MAE</th>\n",
       "      <th>MedAE</th>\n",
       "      <th>R2_score</th>\n",
       "      <th>MFE_Bias</th>\n",
       "    </tr>\n",
       "  </thead>\n",
       "  <tbody>\n",
       "    <tr>\n",
       "      <th>Model1_15mins</th>\n",
       "      <td>39867.83</td>\n",
       "      <td>199.67</td>\n",
       "      <td>148.11</td>\n",
       "      <td>113.28</td>\n",
       "      <td>0.76</td>\n",
       "      <td>2.95</td>\n",
       "    </tr>\n",
       "    <tr>\n",
       "      <th>Model2_lin</th>\n",
       "      <td>22882.04</td>\n",
       "      <td>151.27</td>\n",
       "      <td>112.16</td>\n",
       "      <td>83.19</td>\n",
       "      <td>0.86</td>\n",
       "      <td>2.62</td>\n",
       "    </tr>\n",
       "    <tr>\n",
       "      <th>Model3_log</th>\n",
       "      <td>22903.97</td>\n",
       "      <td>151.34</td>\n",
       "      <td>112.25</td>\n",
       "      <td>83.66</td>\n",
       "      <td>0.86</td>\n",
       "      <td>4.07</td>\n",
       "    </tr>\n",
       "    <tr>\n",
       "      <th>Model4_norm</th>\n",
       "      <td>22887.43</td>\n",
       "      <td>151.29</td>\n",
       "      <td>112.17</td>\n",
       "      <td>83.42</td>\n",
       "      <td>0.86</td>\n",
       "      <td>3.24</td>\n",
       "    </tr>\n",
       "    <tr>\n",
       "      <th>Model5_norm2</th>\n",
       "      <td>24298.85</td>\n",
       "      <td>155.88</td>\n",
       "      <td>111.53</td>\n",
       "      <td>82.00</td>\n",
       "      <td>0.85</td>\n",
       "      <td>-11.65</td>\n",
       "    </tr>\n",
       "    <tr>\n",
       "      <th>Model6_lin_holidays</th>\n",
       "      <td>22288.62</td>\n",
       "      <td>149.29</td>\n",
       "      <td>111.22</td>\n",
       "      <td>84.19</td>\n",
       "      <td>0.86</td>\n",
       "      <td>1.80</td>\n",
       "    </tr>\n",
       "    <tr>\n",
       "      <th>Model7_log_holidays</th>\n",
       "      <td>22318.67</td>\n",
       "      <td>149.39</td>\n",
       "      <td>111.28</td>\n",
       "      <td>84.84</td>\n",
       "      <td>0.86</td>\n",
       "      <td>4.55</td>\n",
       "    </tr>\n",
       "    <tr>\n",
       "      <th>Model8_norm_holidays</th>\n",
       "      <td>22284.56</td>\n",
       "      <td>149.28</td>\n",
       "      <td>111.22</td>\n",
       "      <td>84.09</td>\n",
       "      <td>0.86</td>\n",
       "      <td>1.07</td>\n",
       "    </tr>\n",
       "    <tr>\n",
       "      <th>Baseline</th>\n",
       "      <td>28281.38</td>\n",
       "      <td>168.17</td>\n",
       "      <td>103.02</td>\n",
       "      <td>63.00</td>\n",
       "      <td>0.83</td>\n",
       "      <td>26.76</td>\n",
       "    </tr>\n",
       "    <tr>\n",
       "      <th>Model8_no_negs</th>\n",
       "      <td>22096.00</td>\n",
       "      <td>148.65</td>\n",
       "      <td>110.18</td>\n",
       "      <td>81.77</td>\n",
       "      <td>0.87</td>\n",
       "      <td>0.04</td>\n",
       "    </tr>\n",
       "    <tr>\n",
       "      <th>Model5_no_negs</th>\n",
       "      <td>24298.85</td>\n",
       "      <td>155.88</td>\n",
       "      <td>111.53</td>\n",
       "      <td>82.00</td>\n",
       "      <td>0.85</td>\n",
       "      <td>-11.65</td>\n",
       "    </tr>\n",
       "    <tr>\n",
       "      <th>Model2_no_negs</th>\n",
       "      <td>22761.71</td>\n",
       "      <td>150.87</td>\n",
       "      <td>111.30</td>\n",
       "      <td>81.71</td>\n",
       "      <td>0.86</td>\n",
       "      <td>1.77</td>\n",
       "    </tr>\n",
       "    <tr>\n",
       "      <th>Model3_no_negs</th>\n",
       "      <td>22776.39</td>\n",
       "      <td>150.92</td>\n",
       "      <td>111.36</td>\n",
       "      <td>81.61</td>\n",
       "      <td>0.86</td>\n",
       "      <td>3.17</td>\n",
       "    </tr>\n",
       "    <tr>\n",
       "      <th>LSTM_Model</th>\n",
       "      <td>4198.51</td>\n",
       "      <td>64.80</td>\n",
       "      <td>44.37</td>\n",
       "      <td>21.55</td>\n",
       "      <td>0.97</td>\n",
       "      <td>32.93</td>\n",
       "    </tr>\n",
       "    <tr>\n",
       "      <th>LSTM_Model_no_negs</th>\n",
       "      <td>4198.51</td>\n",
       "      <td>64.80</td>\n",
       "      <td>44.37</td>\n",
       "      <td>21.55</td>\n",
       "      <td>0.97</td>\n",
       "      <td>32.93</td>\n",
       "    </tr>\n",
       "  </tbody>\n",
       "</table>\n",
       "</div>"
      ],
      "text/plain": [
       "                           MSE    RMSE     MAE   MedAE  R2_score  MFE_Bias\n",
       "Model1_15mins         39867.83  199.67  148.11  113.28      0.76      2.95\n",
       "Model2_lin            22882.04  151.27  112.16   83.19      0.86      2.62\n",
       "Model3_log            22903.97  151.34  112.25   83.66      0.86      4.07\n",
       "Model4_norm           22887.43  151.29  112.17   83.42      0.86      3.24\n",
       "Model5_norm2          24298.85  155.88  111.53   82.00      0.85    -11.65\n",
       "Model6_lin_holidays   22288.62  149.29  111.22   84.19      0.86      1.80\n",
       "Model7_log_holidays   22318.67  149.39  111.28   84.84      0.86      4.55\n",
       "Model8_norm_holidays  22284.56  149.28  111.22   84.09      0.86      1.07\n",
       "Baseline              28281.38  168.17  103.02   63.00      0.83     26.76\n",
       "Model8_no_negs        22096.00  148.65  110.18   81.77      0.87      0.04\n",
       "Model5_no_negs        24298.85  155.88  111.53   82.00      0.85    -11.65\n",
       "Model2_no_negs        22761.71  150.87  111.30   81.71      0.86      1.77\n",
       "Model3_no_negs        22776.39  150.92  111.36   81.61      0.86      3.17\n",
       "LSTM_Model             4198.51   64.80   44.37   21.55      0.97     32.93\n",
       "LSTM_Model_no_negs     4198.51   64.80   44.37   21.55      0.97     32.93"
      ]
     },
     "execution_count": 160,
     "metadata": {},
     "output_type": "execute_result"
    }
   ],
   "source": [
    "# low medAE for baseline b/c no negative guesses\n",
    "model_metrics_df"
   ]
  },
  {
   "cell_type": "markdown",
   "metadata": {},
   "source": [
    "### Saving df"
   ]
  },
  {
   "cell_type": "code",
   "execution_count": 184,
   "metadata": {},
   "outputs": [],
   "source": [
    "# model_metrics_df.to_csv(\"./saved_data/Model_summary_df.csv\")"
   ]
  },
  {
   "cell_type": "markdown",
   "metadata": {},
   "source": [
    "### Saving df to markdown"
   ]
  },
  {
   "cell_type": "code",
   "execution_count": 180,
   "metadata": {
    "code_folding": [
     1
    ]
   },
   "outputs": [],
   "source": [
    "# https://gist.github.com/jplsightm/c7df5cd2bc62dc84c5158a80cf0af6df\n",
    "def pandas_df_to_markdown_table(df):\n",
    "    # Dependent upon ipython\n",
    "    # shamelessly stolen from https://stackoverflow.com/questions/33181846/programmatically-convert-pandas-dataframe-to-markdown-table\n",
    "    from IPython.display import Markdown, display\n",
    "    fmt = ['---' for i in range(len(df.columns))]\n",
    "    df_fmt = pd.DataFrame([fmt], columns=df.columns)\n",
    "    df_formatted = pd.concat([df_fmt, df])\n",
    "    #display(Markdown(df_formatted.to_csv(sep=\"|\", index=False)))\n",
    "    return Markdown(df_formatted.to_csv(sep=\"|\", index=False))"
   ]
  },
  {
   "cell_type": "code",
   "execution_count": 176,
   "metadata": {},
   "outputs": [],
   "source": [
    "model_metrics_df_w_index = model_metrics_df.reset_index()"
   ]
  },
  {
   "cell_type": "code",
   "execution_count": 177,
   "metadata": {},
   "outputs": [],
   "source": [
    "model_metrics_df_md = pandas_df_to_markdown_table(model_metrics_df_w_index)"
   ]
  },
  {
   "cell_type": "markdown",
   "metadata": {},
   "source": [
    "### Picking best values for each row"
   ]
  },
  {
   "cell_type": "code",
   "execution_count": 162,
   "metadata": {},
   "outputs": [
    {
     "name": "stdout",
     "output_type": "stream",
     "text": [
      "The min for MSE is LSTM_Model\n",
      "The min for RMSE is LSTM_Model\n",
      "The min for MAE is LSTM_Model\n",
      "The min for MedAE is LSTM_Model\n",
      "The max for R2_score is LSTM_Model\n",
      "The lowest absolute value for MFE_Bias is Model8_no_negs\n"
     ]
    }
   ],
   "source": [
    "# LSTM is best in 4 of the 6 categories\n",
    "for col in model_metrics_df.columns:\n",
    "    if col in ['MAE', \"MedAE\", 'MSE', 'RMSE']:  # min cols\n",
    "        min_col = model_metrics_df[col].min()\n",
    "        min_col_model = model_metrics_df.index[list(\n",
    "            model_metrics_df[col]).index(min_col)]\n",
    "        print(f\"The min for {col} is {min_col_model}\")\n",
    "    elif col in ['R2_score']:  # max cols\n",
    "        max_col = model_metrics_df[col].max()\n",
    "        max_col_model = model_metrics_df.index[list(\n",
    "            model_metrics_df[col]).index(max_col)]\n",
    "        print(f\"The max for {col} is {max_col_model}\")\n",
    "    elif col in ['MFE_Bias']:\n",
    "        low_abs = min(model_metrics_df.MFE_Bias, key=abs)\n",
    "        low_abs_col = model_metrics_df.index[list(\n",
    "            model_metrics_df[col]).index(low_abs)]\n",
    "        print(f\"The lowest absolute value for {col} is {low_abs_col}\")"
   ]
  },
  {
   "cell_type": "markdown",
   "metadata": {},
   "source": [
    "### Visualize the best performing models"
   ]
  },
  {
   "cell_type": "code",
   "execution_count": 163,
   "metadata": {},
   "outputs": [],
   "source": [
    "# until 12-31-2019 midnight\n",
    "test_df_model_comparisons = test_df_hourly[:-23].copy()"
   ]
  },
  {
   "cell_type": "code",
   "execution_count": 259,
   "metadata": {},
   "outputs": [],
   "source": [
    "test_df_model_comparisons['LSTM'] = y_test_pre_flattened[:-22]\n",
    "test_df_model_comparisons['Baseline'] = baseline_y[-test_df_length:-23]\n",
    "test_df_model_comparisons['Model8_no_negs'] = forecast8_no_negs[[\n",
    "    'yhat'\n",
    "]][-test_df_length:-23].values\n",
    "test_df_model_comparisons['Model5_no_negs'] = forecast5_no_negs[[\n",
    "    'yhat'\n",
    "]][-test_df_length:-23].values"
   ]
  },
  {
   "cell_type": "code",
   "execution_count": 260,
   "metadata": {},
   "outputs": [
    {
     "data": {
      "text/html": [
       "<div>\n",
       "<style scoped>\n",
       "    .dataframe tbody tr th:only-of-type {\n",
       "        vertical-align: middle;\n",
       "    }\n",
       "\n",
       "    .dataframe tbody tr th {\n",
       "        vertical-align: top;\n",
       "    }\n",
       "\n",
       "    .dataframe thead th {\n",
       "        text-align: right;\n",
       "    }\n",
       "</style>\n",
       "<table border=\"1\" class=\"dataframe\">\n",
       "  <thead>\n",
       "    <tr style=\"text-align: right;\">\n",
       "      <th></th>\n",
       "      <th>Date_IntervalStart</th>\n",
       "      <th>TotalVolume</th>\n",
       "      <th>month</th>\n",
       "      <th>day</th>\n",
       "      <th>hour</th>\n",
       "      <th>target</th>\n",
       "      <th>LSTM</th>\n",
       "      <th>Baseline</th>\n",
       "      <th>Model8_no_negs</th>\n",
       "      <th>Model5_no_negs</th>\n",
       "    </tr>\n",
       "  </thead>\n",
       "  <tbody>\n",
       "    <tr>\n",
       "      <th>0</th>\n",
       "      <td>2019-07-01 00:00:00</td>\n",
       "      <td>29</td>\n",
       "      <td>7</td>\n",
       "      <td>1</td>\n",
       "      <td>0</td>\n",
       "      <td>29</td>\n",
       "      <td>26.097706</td>\n",
       "      <td>148</td>\n",
       "      <td>94.998608</td>\n",
       "      <td>50.601437</td>\n",
       "    </tr>\n",
       "    <tr>\n",
       "      <th>1</th>\n",
       "      <td>2019-07-01 01:00:00</td>\n",
       "      <td>15</td>\n",
       "      <td>7</td>\n",
       "      <td>1</td>\n",
       "      <td>1</td>\n",
       "      <td>15</td>\n",
       "      <td>9.563038</td>\n",
       "      <td>74</td>\n",
       "      <td>28.402235</td>\n",
       "      <td>24.000000</td>\n",
       "    </tr>\n",
       "  </tbody>\n",
       "</table>\n",
       "</div>"
      ],
      "text/plain": [
       "   Date_IntervalStart  TotalVolume  month  day  hour  target       LSTM  \\\n",
       "0 2019-07-01 00:00:00           29      7    1     0      29  26.097706   \n",
       "1 2019-07-01 01:00:00           15      7    1     1      15   9.563038   \n",
       "\n",
       "   Baseline  Model8_no_negs  Model5_no_negs  \n",
       "0       148       94.998608       50.601437  \n",
       "1        74       28.402235       24.000000  "
      ]
     },
     "execution_count": 260,
     "metadata": {},
     "output_type": "execute_result"
    }
   ],
   "source": [
    "test_df_model_comparisons.head(2)"
   ]
  },
  {
   "cell_type": "code",
   "execution_count": 269,
   "metadata": {},
   "outputs": [],
   "source": [
    "small_test_df_model_comparisons = test_df_model_comparisons[4200:]"
   ]
  },
  {
   "cell_type": "markdown",
   "metadata": {},
   "source": [
    "#### Adding day of week column to df"
   ]
  },
  {
   "cell_type": "code",
   "execution_count": 270,
   "metadata": {},
   "outputs": [],
   "source": [
    "small_test_df_model_comparisons['dayofweek'] = [\n",
    "    x.day_name() for x in small_test_df_model_comparisons['Date_IntervalStart']\n",
    "]"
   ]
  },
  {
   "cell_type": "code",
   "execution_count": 271,
   "metadata": {},
   "outputs": [],
   "source": [
    "dayofweek_dict = {}"
   ]
  },
  {
   "cell_type": "code",
   "execution_count": 272,
   "metadata": {},
   "outputs": [
    {
     "data": {
      "text/html": [
       "<div>\n",
       "<style scoped>\n",
       "    .dataframe tbody tr th:only-of-type {\n",
       "        vertical-align: middle;\n",
       "    }\n",
       "\n",
       "    .dataframe tbody tr th {\n",
       "        vertical-align: top;\n",
       "    }\n",
       "\n",
       "    .dataframe thead th {\n",
       "        text-align: right;\n",
       "    }\n",
       "</style>\n",
       "<table border=\"1\" class=\"dataframe\">\n",
       "  <thead>\n",
       "    <tr style=\"text-align: right;\">\n",
       "      <th></th>\n",
       "      <th>Date_IntervalStart</th>\n",
       "      <th>TotalVolume</th>\n",
       "      <th>month</th>\n",
       "      <th>day</th>\n",
       "      <th>hour</th>\n",
       "      <th>target</th>\n",
       "      <th>LSTM</th>\n",
       "      <th>Baseline</th>\n",
       "      <th>Model8_no_negs</th>\n",
       "      <th>Model5_no_negs</th>\n",
       "      <th>dayofweek</th>\n",
       "    </tr>\n",
       "  </thead>\n",
       "  <tbody>\n",
       "    <tr>\n",
       "      <th>4200</th>\n",
       "      <td>2019-12-23 00:00:00</td>\n",
       "      <td>76</td>\n",
       "      <td>12</td>\n",
       "      <td>23</td>\n",
       "      <td>0</td>\n",
       "      <td>76</td>\n",
       "      <td>59.721535</td>\n",
       "      <td>168</td>\n",
       "      <td>101.062374</td>\n",
       "      <td>40.097625</td>\n",
       "      <td>Monday</td>\n",
       "    </tr>\n",
       "    <tr>\n",
       "      <th>4201</th>\n",
       "      <td>2019-12-23 01:00:00</td>\n",
       "      <td>47</td>\n",
       "      <td>12</td>\n",
       "      <td>23</td>\n",
       "      <td>1</td>\n",
       "      <td>47</td>\n",
       "      <td>41.973534</td>\n",
       "      <td>92</td>\n",
       "      <td>34.195705</td>\n",
       "      <td>19.000000</td>\n",
       "      <td>Monday</td>\n",
       "    </tr>\n",
       "    <tr>\n",
       "      <th>4202</th>\n",
       "      <td>2019-12-23 02:00:00</td>\n",
       "      <td>30</td>\n",
       "      <td>12</td>\n",
       "      <td>23</td>\n",
       "      <td>2</td>\n",
       "      <td>30</td>\n",
       "      <td>24.748772</td>\n",
       "      <td>49</td>\n",
       "      <td>0.000000</td>\n",
       "      <td>0.000000</td>\n",
       "      <td>Monday</td>\n",
       "    </tr>\n",
       "    <tr>\n",
       "      <th>4203</th>\n",
       "      <td>2019-12-23 03:00:00</td>\n",
       "      <td>22</td>\n",
       "      <td>12</td>\n",
       "      <td>23</td>\n",
       "      <td>3</td>\n",
       "      <td>22</td>\n",
       "      <td>21.433290</td>\n",
       "      <td>27</td>\n",
       "      <td>0.000000</td>\n",
       "      <td>2.719645</td>\n",
       "      <td>Monday</td>\n",
       "    </tr>\n",
       "    <tr>\n",
       "      <th>4204</th>\n",
       "      <td>2019-12-23 04:00:00</td>\n",
       "      <td>62</td>\n",
       "      <td>12</td>\n",
       "      <td>23</td>\n",
       "      <td>4</td>\n",
       "      <td>62</td>\n",
       "      <td>71.382393</td>\n",
       "      <td>49</td>\n",
       "      <td>90.946767</td>\n",
       "      <td>35.000000</td>\n",
       "      <td>Monday</td>\n",
       "    </tr>\n",
       "  </tbody>\n",
       "</table>\n",
       "</div>"
      ],
      "text/plain": [
       "      Date_IntervalStart  TotalVolume  month  day  hour  target       LSTM  \\\n",
       "4200 2019-12-23 00:00:00           76     12   23     0      76  59.721535   \n",
       "4201 2019-12-23 01:00:00           47     12   23     1      47  41.973534   \n",
       "4202 2019-12-23 02:00:00           30     12   23     2      30  24.748772   \n",
       "4203 2019-12-23 03:00:00           22     12   23     3      22  21.433290   \n",
       "4204 2019-12-23 04:00:00           62     12   23     4      62  71.382393   \n",
       "\n",
       "      Baseline  Model8_no_negs  Model5_no_negs dayofweek  \n",
       "4200       168      101.062374       40.097625    Monday  \n",
       "4201        92       34.195705       19.000000    Monday  \n",
       "4202        49        0.000000        0.000000    Monday  \n",
       "4203        27        0.000000        2.719645    Monday  \n",
       "4204        49       90.946767       35.000000    Monday  "
      ]
     },
     "execution_count": 272,
     "metadata": {},
     "output_type": "execute_result"
    }
   ],
   "source": [
    "small_test_df_model_comparisons.head()"
   ]
  },
  {
   "cell_type": "code",
   "execution_count": 273,
   "metadata": {},
   "outputs": [
    {
     "data": {
      "text/plain": [
       "9"
      ]
     },
     "execution_count": 273,
     "metadata": {},
     "output_type": "execute_result"
    }
   ],
   "source": [
    "small_test_df_model_comparisons.day.nunique()"
   ]
  },
  {
   "cell_type": "code",
   "execution_count": 274,
   "metadata": {},
   "outputs": [],
   "source": [
    "daysofweek_for_graph = list(small_test_df_model_comparisons.dayofweek.unique())"
   ]
  },
  {
   "cell_type": "code",
   "execution_count": 275,
   "metadata": {},
   "outputs": [],
   "source": [
    "daysofweek_for_graph.extend(['Monday', 'Tuesday'])"
   ]
  },
  {
   "cell_type": "code",
   "execution_count": 411,
   "metadata": {},
   "outputs": [
    {
     "data": {
      "text/plain": [
       "Text(0.5, 1.0, 'Comparison of Model Performance')"
      ]
     },
     "execution_count": 411,
     "metadata": {},
     "output_type": "execute_result"
    },
    {
     "data": {
      "image/png": "[encoded data removed]",
      "text/plain": [
       "<Figure size 1440x288 with 1 Axes>"
      ]
     },
     "metadata": {
      "needs_background": "light"
     },
     "output_type": "display_data"
    }
   ],
   "source": [
    "fig = plt.figure(figsize=(20, 4))\n",
    "ax = fig.add_subplot(111)\n",
    "mondays = matplotlib.dates.WeekdayLocator(MONDAY)\n",
    "alldays = DayLocator()\n",
    "sns.lineplot(x='Date_IntervalStart',\n",
    "             y='LSTM',\n",
    "             data=small_test_df_model_comparisons,\n",
    "             label='LSTM'),\n",
    "sns.lineplot(x='Date_IntervalStart',\n",
    "             y='Baseline',\n",
    "             data=small_test_df_model_comparisons,\n",
    "             label='Baseline'),\n",
    "sns.lineplot(x='Date_IntervalStart',\n",
    "             y='Model8_no_negs',\n",
    "             data=small_test_df_model_comparisons,\n",
    "             label='Model8_no_negs'),\n",
    "sns.lineplot(x='Date_IntervalStart',\n",
    "             y='TotalVolume',\n",
    "             linewidth=3.5,\n",
    "             data=small_test_df_model_comparisons,\n",
    "             label='Actual Values')\n",
    "ax.xaxis.set_major_locator(mondays)\n",
    "ax.xaxis.set_minor_locator(alldays)\n",
    "# ax.set(xlabel='Date (only mondays shown)', ylabel='Number of Cars on Road', fontsize= 20)\n",
    "plt.xlabel('Date (only mondays shown)', fontsize=15)\n",
    "plt.ylabel('Number of Vehicles on the Road', fontsize=15)\n",
    "plt.title(\"Comparison of Model Performance\", fontsize=25)"
   ]
  },
  {
   "cell_type": "markdown",
   "metadata": {},
   "source": [
    "### Saving Image"
   ]
  },
  {
   "cell_type": "code",
   "execution_count": 412,
   "metadata": {},
   "outputs": [],
   "source": [
    "# fig.savefig(\"Comparison_of_model_performance\")"
   ]
  },
  {
   "cell_type": "markdown",
   "metadata": {},
   "source": [
    "# Conclusions "
   ]
  },
  {
   "cell_type": "markdown",
   "metadata": {},
   "source": [
    "- This project aimed to model the traffic patterns on the Eastern Distributor Highway (M1) in Sydney, Australia. This effort would benefit any business that uses this highway regularly, and the Australian Government in controlling the influx of cars leading into Sydney from the south. Additionally, people in the southern suburbs can use this data to plan their trips to avoid as much traffic as possible, both on a daily and weekly time scale. \n",
    "- The models are varied in their predictions but there are clear winners depending on the type of prediction required:\n",
    "    - LSTM Model: The overall winner for predictions. If one is looking to know how many cars are on the road over a substantial period of time, this model is the most accurate (individual guess will vary, especially as an undercount of the true number of cars)\n",
    "    - Model 8 (no lag): This model is best for guessing in equal proportion above and below the true number of cars on the road. This will be helpful for businesses that are equally biased in guesses. This makes the model more stable than the other ones created."
   ]
  }
 ],
 "metadata": {
  "kernelspec": {
   "display_name": "Python [conda env:learn-env] *",
   "language": "python",
   "name": "conda-env-learn-env-py"
  },
  "language_info": {
   "codemirror_mode": {
    "name": "ipython",
    "version": 3
   },
   "file_extension": ".py",
   "mimetype": "text/x-python",
   "name": "python",
   "nbconvert_exporter": "python",
   "pygments_lexer": "ipython3",
   "version": "3.6.9"
  },
  "toc": {
   "base_numbering": 1,
   "nav_menu": {},
   "number_sections": true,
   "sideBar": true,
   "skip_h1_title": false,
   "title_cell": "Table of Contents",
   "title_sidebar": "Contents",
   "toc_cell": false,
   "toc_position": {
    "height": "calc(100% - 180px)",
    "left": "10px",
    "top": "150px",
    "width": "245.796875px"
   },
   "toc_section_display": true,
   "toc_window_display": true
  },
  "varInspector": {
   "cols": {
    "lenName": 16,
    "lenType": 16,
    "lenVar": 40
   },
   "kernels_config": {
    "python": {
     "delete_cmd_postfix": "",
     "delete_cmd_prefix": "del ",
     "library": "var_list.py",
     "varRefreshCmd": "print(var_dic_list())"
    },
    "r": {
     "delete_cmd_postfix": ") ",
     "delete_cmd_prefix": "rm(",
     "library": "var_list.r",
     "varRefreshCmd": "cat(var_dic_list()) "
    }
   },
   "types_to_exclude": [
    "module",
    "function",
    "builtin_function_or_method",
    "instance",
    "_Feature"
   ],
   "window_display": false
  }
 },
 "nbformat": 4,
 "nbformat_minor": 2
}
