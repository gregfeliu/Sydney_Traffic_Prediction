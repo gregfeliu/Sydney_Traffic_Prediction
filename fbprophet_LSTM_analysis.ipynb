{
 "cells": [
  {
   "cell_type": "markdown",
   "metadata": {},
   "source": [
    "# Imports"
   ]
  },
  {
   "cell_type": "markdown",
   "metadata": {},
   "source": [
    "## Packages"
   ]
  },
  {
   "cell_type": "code",
   "execution_count": 60,
   "metadata": {},
   "outputs": [],
   "source": [
    "import pandas as pd\n",
    "import fbprophet\n",
    "from fbprophet import Prophet\n",
    "from dateutil.easter import easter\n",
    "%matplotlib inline \n",
    "import numpy as np\n",
    "import matplotlib.pylab as plt\n",
    "import datetime\n",
    "import seaborn as sns\n",
    "import glob \n",
    "# Load specific forecasting tools\n",
    "from sklearn.metrics import mean_squared_error, mean_squared_log_error, median_absolute_error, r2_score, mean_absolute_error\n",
    "from sklearn.preprocessing import MinMaxScaler, StandardScaler, QuantileTransformer\n",
    "# Ignore harmless warnings\n",
    "import warnings\n",
    "warnings.filterwarnings(\"ignore\")\n",
    "import math\n",
    "from scipy.stats import normaltest\n",
    "import holidays\n",
    "from keras.models import Sequential\n",
    "from keras.layers import Dense, LSTM"
   ]
  },
  {
   "cell_type": "markdown",
   "metadata": {},
   "source": [
    "## File Imports"
   ]
  },
  {
   "cell_type": "markdown",
   "metadata": {},
   "source": [
    "To use this notebook, download the files from https://nswtollroaddata.com under \"Data Downloads\" for \"M1 Eastern Distibutor (ED).\" Select the years 2016, 2017, 2018, 2019, 2020 separately and download each of the CSVs separately. Put them all in a folder and DO NOT include this folder name in user_directory."
   ]
  },
  {
   "cell_type": "code",
   "execution_count": 63,
   "metadata": {},
   "outputs": [],
   "source": [
    "#get user directory\n",
    "user_directory = None"
   ]
  },
  {
   "cell_type": "code",
   "execution_count": 64,
   "metadata": {
    "code_folding": [
     1
    ]
   },
   "outputs": [],
   "source": [
    "# function to get all of the files\n",
    "def get_all_dataframes(path_to_data_folder):\n",
    "    # give the path and this function will return all of the dataframes in a sorted list \n",
    "    original_data = glob.glob(path_to_data_folder + \"/*/*/*csv\",recursive=True)\n",
    "    test_dataframe_list = []\n",
    "    training_dataframe_list = []\n",
    "    for item in original_data:\n",
    "        with open(item) as f:\n",
    "            df = pd.read_csv(f, parse_dates=[['Date', 'IntervalStart']], index_col = 'Date_IntervalStart')\n",
    "            if \"2020\" in str(f):\n",
    "                test_dataframe_list.append(df)\n",
    "            else:\n",
    "                training_dataframe_list.append(df)\n",
    "    return test_dataframe_list, training_dataframe_list"
   ]
  },
  {
   "cell_type": "code",
   "execution_count": 65,
   "metadata": {},
   "outputs": [],
   "source": [
    "# import files \n",
    "if user_directory != None:    #i.e.: use the directory given\n",
    "    test_df_list, train_df_list = get_all_dataframes(user_directory)\n",
    "else:    # point to my directory\n",
    "    test_df_list, train_df_list = get_all_dataframes(\"./eastern_distrib\")"
   ]
  },
  {
   "cell_type": "code",
   "execution_count": 66,
   "metadata": {},
   "outputs": [
    {
     "data": {
      "text/plain": [
       "48"
      ]
     },
     "execution_count": 66,
     "metadata": {},
     "output_type": "execute_result"
    }
   ],
   "source": [
    "len(train_df_list)"
   ]
  },
  {
   "cell_type": "code",
   "execution_count": 67,
   "metadata": {},
   "outputs": [
    {
     "data": {
      "text/plain": [
       "6"
      ]
     },
     "execution_count": 67,
     "metadata": {},
     "output_type": "execute_result"
    }
   ],
   "source": [
    "len(test_df_list)"
   ]
  },
  {
   "cell_type": "code",
   "execution_count": 68,
   "metadata": {},
   "outputs": [
    {
     "data": {
      "text/html": [
       "<div>\n",
       "<style scoped>\n",
       "    .dataframe tbody tr th:only-of-type {\n",
       "        vertical-align: middle;\n",
       "    }\n",
       "\n",
       "    .dataframe tbody tr th {\n",
       "        vertical-align: top;\n",
       "    }\n",
       "\n",
       "    .dataframe thead th {\n",
       "        text-align: right;\n",
       "    }\n",
       "</style>\n",
       "<table border=\"1\" class=\"dataframe\">\n",
       "  <thead>\n",
       "    <tr style=\"text-align: right;\">\n",
       "      <th></th>\n",
       "      <th>AssetID</th>\n",
       "      <th>FinancialQtrID</th>\n",
       "      <th>IntervalEnd</th>\n",
       "      <th>Version</th>\n",
       "      <th>VehicleClass</th>\n",
       "      <th>TollPointID</th>\n",
       "      <th>GantryDirection</th>\n",
       "      <th>GantryLocation</th>\n",
       "      <th>GantryGPSLatitude</th>\n",
       "      <th>GantryGPSLongitude</th>\n",
       "      <th>GantryType</th>\n",
       "      <th>TotalVolume</th>\n",
       "    </tr>\n",
       "    <tr>\n",
       "      <th>Date_IntervalStart</th>\n",
       "      <th></th>\n",
       "      <th></th>\n",
       "      <th></th>\n",
       "      <th></th>\n",
       "      <th></th>\n",
       "      <th></th>\n",
       "      <th></th>\n",
       "      <th></th>\n",
       "      <th></th>\n",
       "      <th></th>\n",
       "      <th></th>\n",
       "      <th></th>\n",
       "    </tr>\n",
       "  </thead>\n",
       "  <tbody>\n",
       "    <tr>\n",
       "      <th>2015-12-01</th>\n",
       "      <td>ED</td>\n",
       "      <td>201602</td>\n",
       "      <td>00:14</td>\n",
       "      <td>1</td>\n",
       "      <td>Car</td>\n",
       "      <td>C</td>\n",
       "      <td>N</td>\n",
       "      <td>William Street North-bound exit ramp</td>\n",
       "      <td>-33.875924</td>\n",
       "      <td>151.217253</td>\n",
       "      <td>Ramp Gantry</td>\n",
       "      <td>6</td>\n",
       "    </tr>\n",
       "    <tr>\n",
       "      <th>2015-12-01</th>\n",
       "      <td>ED</td>\n",
       "      <td>201602</td>\n",
       "      <td>00:14</td>\n",
       "      <td>1</td>\n",
       "      <td>Car</td>\n",
       "      <td>AB</td>\n",
       "      <td>N</td>\n",
       "      <td>Woolloomooloo Toll Plaza North-bound</td>\n",
       "      <td>-33.869714</td>\n",
       "      <td>151.218398</td>\n",
       "      <td>Mainline Gantry</td>\n",
       "      <td>19</td>\n",
       "    </tr>\n",
       "  </tbody>\n",
       "</table>\n",
       "</div>"
      ],
      "text/plain": [
       "                   AssetID  FinancialQtrID IntervalEnd  Version VehicleClass  \\\n",
       "Date_IntervalStart                                                             \n",
       "2015-12-01              ED          201602       00:14        1          Car   \n",
       "2015-12-01              ED          201602       00:14        1          Car   \n",
       "\n",
       "                   TollPointID GantryDirection  \\\n",
       "Date_IntervalStart                               \n",
       "2015-12-01                   C               N   \n",
       "2015-12-01                  AB               N   \n",
       "\n",
       "                                          GantryLocation  GantryGPSLatitude  \\\n",
       "Date_IntervalStart                                                            \n",
       "2015-12-01          William Street North-bound exit ramp         -33.875924   \n",
       "2015-12-01          Woolloomooloo Toll Plaza North-bound         -33.869714   \n",
       "\n",
       "                    GantryGPSLongitude       GantryType  TotalVolume  \n",
       "Date_IntervalStart                                                    \n",
       "2015-12-01                  151.217253      Ramp Gantry            6  \n",
       "2015-12-01                  151.218398  Mainline Gantry           19  "
      ]
     },
     "execution_count": 68,
     "metadata": {},
     "output_type": "execute_result"
    }
   ],
   "source": [
    "train_df_list[0].head(2)"
   ]
  },
  {
   "cell_type": "code",
   "execution_count": 69,
   "metadata": {},
   "outputs": [
    {
     "data": {
      "text/html": [
       "<div>\n",
       "<style scoped>\n",
       "    .dataframe tbody tr th:only-of-type {\n",
       "        vertical-align: middle;\n",
       "    }\n",
       "\n",
       "    .dataframe tbody tr th {\n",
       "        vertical-align: top;\n",
       "    }\n",
       "\n",
       "    .dataframe thead th {\n",
       "        text-align: right;\n",
       "    }\n",
       "</style>\n",
       "<table border=\"1\" class=\"dataframe\">\n",
       "  <thead>\n",
       "    <tr style=\"text-align: right;\">\n",
       "      <th></th>\n",
       "      <th>AssetID</th>\n",
       "      <th>FinancialQtrID</th>\n",
       "      <th>IntervalEnd</th>\n",
       "      <th>Version</th>\n",
       "      <th>VehicleClass</th>\n",
       "      <th>TollPointID</th>\n",
       "      <th>GantryDirection</th>\n",
       "      <th>GantryLocation</th>\n",
       "      <th>GantryGPSLatitude</th>\n",
       "      <th>GantryGPSLongitude</th>\n",
       "      <th>GantryType</th>\n",
       "      <th>TotalVolume</th>\n",
       "    </tr>\n",
       "    <tr>\n",
       "      <th>Date_IntervalStart</th>\n",
       "      <th></th>\n",
       "      <th></th>\n",
       "      <th></th>\n",
       "      <th></th>\n",
       "      <th></th>\n",
       "      <th></th>\n",
       "      <th></th>\n",
       "      <th></th>\n",
       "      <th></th>\n",
       "      <th></th>\n",
       "      <th></th>\n",
       "      <th></th>\n",
       "    </tr>\n",
       "  </thead>\n",
       "  <tbody>\n",
       "    <tr>\n",
       "      <th>2019-12-01</th>\n",
       "      <td>ED</td>\n",
       "      <td>202002</td>\n",
       "      <td>00:14</td>\n",
       "      <td>1</td>\n",
       "      <td>Car</td>\n",
       "      <td>AB</td>\n",
       "      <td>N</td>\n",
       "      <td>Woolloomooloo Toll Plaza North-bound</td>\n",
       "      <td>-33.869714</td>\n",
       "      <td>151.218398</td>\n",
       "      <td>Mainline Gantry</td>\n",
       "      <td>161</td>\n",
       "    </tr>\n",
       "    <tr>\n",
       "      <th>2019-12-01</th>\n",
       "      <td>ED</td>\n",
       "      <td>202002</td>\n",
       "      <td>00:14</td>\n",
       "      <td>1</td>\n",
       "      <td>Truck</td>\n",
       "      <td>AB</td>\n",
       "      <td>N</td>\n",
       "      <td>Woolloomooloo Toll Plaza North-bound</td>\n",
       "      <td>-33.869714</td>\n",
       "      <td>151.218398</td>\n",
       "      <td>Mainline Gantry</td>\n",
       "      <td>2</td>\n",
       "    </tr>\n",
       "  </tbody>\n",
       "</table>\n",
       "</div>"
      ],
      "text/plain": [
       "                   AssetID  FinancialQtrID IntervalEnd  Version VehicleClass  \\\n",
       "Date_IntervalStart                                                             \n",
       "2019-12-01              ED          202002       00:14        1          Car   \n",
       "2019-12-01              ED          202002       00:14        1        Truck   \n",
       "\n",
       "                   TollPointID GantryDirection  \\\n",
       "Date_IntervalStart                               \n",
       "2019-12-01                  AB               N   \n",
       "2019-12-01                  AB               N   \n",
       "\n",
       "                                          GantryLocation  GantryGPSLatitude  \\\n",
       "Date_IntervalStart                                                            \n",
       "2019-12-01          Woolloomooloo Toll Plaza North-bound         -33.869714   \n",
       "2019-12-01          Woolloomooloo Toll Plaza North-bound         -33.869714   \n",
       "\n",
       "                    GantryGPSLongitude       GantryType  TotalVolume  \n",
       "Date_IntervalStart                                                    \n",
       "2019-12-01                  151.218398  Mainline Gantry          161  \n",
       "2019-12-01                  151.218398  Mainline Gantry            2  "
      ]
     },
     "execution_count": 69,
     "metadata": {},
     "output_type": "execute_result"
    }
   ],
   "source": [
    "test_df_list[0].head(2)"
   ]
  },
  {
   "cell_type": "markdown",
   "metadata": {},
   "source": [
    "# Cleaning the Dataframe"
   ]
  },
  {
   "cell_type": "code",
   "execution_count": 70,
   "metadata": {},
   "outputs": [],
   "source": [
    "# function to clean the dataframe list \n",
    "def clean_dfs(dataframe_list):\n",
    "    clean_dataframe_list = []\n",
    "    for df in dataframe_list:\n",
    "        df_C = df[df['TollPointID'] == 'C']\n",
    "        df_grouped = pd.DataFrame(df_C.groupby('Date_IntervalStart').TotalVolume.sum())\n",
    "        clean_dataframe_list.append(df_grouped)\n",
    "    return clean_dataframe_list"
   ]
  },
  {
   "cell_type": "code",
   "execution_count": 71,
   "metadata": {},
   "outputs": [],
   "source": [
    "# training dataframes\n",
    "clean_train_df_list = clean_dfs(train_df_list)\n",
    "# test dataframes\n",
    "clean_test_df_list = clean_dfs(test_df_list)"
   ]
  },
  {
   "cell_type": "code",
   "execution_count": 72,
   "metadata": {},
   "outputs": [
    {
     "data": {
      "text/html": [
       "<div>\n",
       "<style scoped>\n",
       "    .dataframe tbody tr th:only-of-type {\n",
       "        vertical-align: middle;\n",
       "    }\n",
       "\n",
       "    .dataframe tbody tr th {\n",
       "        vertical-align: top;\n",
       "    }\n",
       "\n",
       "    .dataframe thead th {\n",
       "        text-align: right;\n",
       "    }\n",
       "</style>\n",
       "<table border=\"1\" class=\"dataframe\">\n",
       "  <thead>\n",
       "    <tr style=\"text-align: right;\">\n",
       "      <th></th>\n",
       "      <th>TotalVolume</th>\n",
       "    </tr>\n",
       "    <tr>\n",
       "      <th>Date_IntervalStart</th>\n",
       "      <th></th>\n",
       "    </tr>\n",
       "  </thead>\n",
       "  <tbody>\n",
       "    <tr>\n",
       "      <th>2015-12-01 00:00:00</th>\n",
       "      <td>6</td>\n",
       "    </tr>\n",
       "    <tr>\n",
       "      <th>2015-12-01 00:15:00</th>\n",
       "      <td>5</td>\n",
       "    </tr>\n",
       "  </tbody>\n",
       "</table>\n",
       "</div>"
      ],
      "text/plain": [
       "                     TotalVolume\n",
       "Date_IntervalStart              \n",
       "2015-12-01 00:00:00            6\n",
       "2015-12-01 00:15:00            5"
      ]
     },
     "execution_count": 72,
     "metadata": {},
     "output_type": "execute_result"
    }
   ],
   "source": [
    "clean_train_df_list[0].head(2)"
   ]
  },
  {
   "cell_type": "markdown",
   "metadata": {},
   "source": [
    "## Combing the list dataframes into one dataframe "
   ]
  },
  {
   "cell_type": "code",
   "execution_count": 73,
   "metadata": {},
   "outputs": [],
   "source": [
    "train_df = pd.concat(clean_train_df_list)\n",
    "test_df = pd.concat(clean_test_df_list)"
   ]
  },
  {
   "cell_type": "code",
   "execution_count": 74,
   "metadata": {},
   "outputs": [
    {
     "data": {
      "text/html": [
       "<div>\n",
       "<style scoped>\n",
       "    .dataframe tbody tr th:only-of-type {\n",
       "        vertical-align: middle;\n",
       "    }\n",
       "\n",
       "    .dataframe tbody tr th {\n",
       "        vertical-align: top;\n",
       "    }\n",
       "\n",
       "    .dataframe thead th {\n",
       "        text-align: right;\n",
       "    }\n",
       "</style>\n",
       "<table border=\"1\" class=\"dataframe\">\n",
       "  <thead>\n",
       "    <tr style=\"text-align: right;\">\n",
       "      <th></th>\n",
       "      <th>TotalVolume</th>\n",
       "    </tr>\n",
       "    <tr>\n",
       "      <th>Date_IntervalStart</th>\n",
       "      <th></th>\n",
       "    </tr>\n",
       "  </thead>\n",
       "  <tbody>\n",
       "    <tr>\n",
       "      <th>2015-12-01 00:00:00</th>\n",
       "      <td>6</td>\n",
       "    </tr>\n",
       "    <tr>\n",
       "      <th>2015-12-01 00:15:00</th>\n",
       "      <td>5</td>\n",
       "    </tr>\n",
       "  </tbody>\n",
       "</table>\n",
       "</div>"
      ],
      "text/plain": [
       "                     TotalVolume\n",
       "Date_IntervalStart              \n",
       "2015-12-01 00:00:00            6\n",
       "2015-12-01 00:15:00            5"
      ]
     },
     "execution_count": 74,
     "metadata": {},
     "output_type": "execute_result"
    }
   ],
   "source": [
    "train_df.head(2)"
   ]
  },
  {
   "cell_type": "markdown",
   "metadata": {},
   "source": [
    "### Making test_df hourly"
   ]
  },
  {
   "cell_type": "code",
   "execution_count": 75,
   "metadata": {},
   "outputs": [],
   "source": [
    "test_df_hourly = test_df.resample('h').sum()"
   ]
  },
  {
   "cell_type": "code",
   "execution_count": 76,
   "metadata": {},
   "outputs": [
    {
     "data": {
      "text/html": [
       "<div>\n",
       "<style scoped>\n",
       "    .dataframe tbody tr th:only-of-type {\n",
       "        vertical-align: middle;\n",
       "    }\n",
       "\n",
       "    .dataframe tbody tr th {\n",
       "        vertical-align: top;\n",
       "    }\n",
       "\n",
       "    .dataframe thead th {\n",
       "        text-align: right;\n",
       "    }\n",
       "</style>\n",
       "<table border=\"1\" class=\"dataframe\">\n",
       "  <thead>\n",
       "    <tr style=\"text-align: right;\">\n",
       "      <th></th>\n",
       "      <th>TotalVolume</th>\n",
       "    </tr>\n",
       "    <tr>\n",
       "      <th>Date_IntervalStart</th>\n",
       "      <th></th>\n",
       "    </tr>\n",
       "  </thead>\n",
       "  <tbody>\n",
       "    <tr>\n",
       "      <th>2019-07-01 00:00:00</th>\n",
       "      <td>29</td>\n",
       "    </tr>\n",
       "    <tr>\n",
       "      <th>2019-07-01 01:00:00</th>\n",
       "      <td>15</td>\n",
       "    </tr>\n",
       "  </tbody>\n",
       "</table>\n",
       "</div>"
      ],
      "text/plain": [
       "                     TotalVolume\n",
       "Date_IntervalStart              \n",
       "2019-07-01 00:00:00           29\n",
       "2019-07-01 01:00:00           15"
      ]
     },
     "execution_count": 76,
     "metadata": {},
     "output_type": "execute_result"
    }
   ],
   "source": [
    "test_df_hourly.head(2)"
   ]
  },
  {
   "cell_type": "code",
   "execution_count": 77,
   "metadata": {},
   "outputs": [],
   "source": [
    "test_df_hourly.reset_index(inplace=True)"
   ]
  },
  {
   "cell_type": "code",
   "execution_count": 78,
   "metadata": {},
   "outputs": [
    {
     "data": {
      "text/plain": [
       "(4416, 2)"
      ]
     },
     "execution_count": 78,
     "metadata": {},
     "output_type": "execute_result"
    }
   ],
   "source": [
    "test_df_hourly.shape"
   ]
  },
  {
   "cell_type": "markdown",
   "metadata": {},
   "source": [
    "# Making fbprophet Models\n",
    "stationarity isn't necessary: https://github.com/facebook/prophet/issues/1029"
   ]
  },
  {
   "cell_type": "markdown",
   "metadata": {},
   "source": [
    "## Putting df in the format it requires"
   ]
  },
  {
   "cell_type": "code",
   "execution_count": 79,
   "metadata": {},
   "outputs": [],
   "source": [
    "fb_prophet_train_df = train_df.resample('h').sum()"
   ]
  },
  {
   "cell_type": "code",
   "execution_count": 80,
   "metadata": {},
   "outputs": [
    {
     "data": {
      "text/plain": [
       "(35064, 1)"
      ]
     },
     "execution_count": 80,
     "metadata": {},
     "output_type": "execute_result"
    }
   ],
   "source": [
    "fb_prophet_train_df.shape"
   ]
  },
  {
   "cell_type": "code",
   "execution_count": 81,
   "metadata": {},
   "outputs": [
    {
     "data": {
      "text/html": [
       "<div>\n",
       "<style scoped>\n",
       "    .dataframe tbody tr th:only-of-type {\n",
       "        vertical-align: middle;\n",
       "    }\n",
       "\n",
       "    .dataframe tbody tr th {\n",
       "        vertical-align: top;\n",
       "    }\n",
       "\n",
       "    .dataframe thead th {\n",
       "        text-align: right;\n",
       "    }\n",
       "</style>\n",
       "<table border=\"1\" class=\"dataframe\">\n",
       "  <thead>\n",
       "    <tr style=\"text-align: right;\">\n",
       "      <th></th>\n",
       "      <th>TotalVolume</th>\n",
       "    </tr>\n",
       "    <tr>\n",
       "      <th>Date_IntervalStart</th>\n",
       "      <th></th>\n",
       "    </tr>\n",
       "  </thead>\n",
       "  <tbody>\n",
       "    <tr>\n",
       "      <th>2015-07-01 00:00:00</th>\n",
       "      <td>19</td>\n",
       "    </tr>\n",
       "    <tr>\n",
       "      <th>2015-07-01 01:00:00</th>\n",
       "      <td>16</td>\n",
       "    </tr>\n",
       "  </tbody>\n",
       "</table>\n",
       "</div>"
      ],
      "text/plain": [
       "                     TotalVolume\n",
       "Date_IntervalStart              \n",
       "2015-07-01 00:00:00           19\n",
       "2015-07-01 01:00:00           16"
      ]
     },
     "execution_count": 81,
     "metadata": {},
     "output_type": "execute_result"
    }
   ],
   "source": [
    "fb_prophet_train_df.head(2)"
   ]
  },
  {
   "cell_type": "code",
   "execution_count": 82,
   "metadata": {},
   "outputs": [],
   "source": [
    "fb_prophet_train_df.reset_index(inplace=True)"
   ]
  },
  {
   "cell_type": "code",
   "execution_count": 83,
   "metadata": {},
   "outputs": [],
   "source": [
    "fb_prophet_train_df.columns = ['ds', 'y']"
   ]
  },
  {
   "cell_type": "code",
   "execution_count": 84,
   "metadata": {},
   "outputs": [
    {
     "data": {
      "text/plain": [
       "1   2015-07-01 01:00:00\n",
       "2   2015-07-01 02:00:00\n",
       "Name: ds, dtype: datetime64[ns]"
      ]
     },
     "execution_count": 84,
     "metadata": {},
     "output_type": "execute_result"
    }
   ],
   "source": [
    "fb_prophet_train_df['ds'][1:3]"
   ]
  },
  {
   "cell_type": "code",
   "execution_count": 85,
   "metadata": {},
   "outputs": [
    {
     "data": {
      "text/plain": [
       "pandas._libs.tslibs.timestamps.Timestamp"
      ]
     },
     "execution_count": 85,
     "metadata": {},
     "output_type": "execute_result"
    }
   ],
   "source": [
    "type(fb_prophet_train_df['ds'][0])"
   ]
  },
  {
   "cell_type": "markdown",
   "metadata": {},
   "source": [
    "### Baseline Model "
   ]
  },
  {
   "cell_type": "code",
   "execution_count": 87,
   "metadata": {},
   "outputs": [
    {
     "data": {
      "text/plain": [
       "1"
      ]
     },
     "execution_count": 87,
     "metadata": {},
     "output_type": "execute_result"
    }
   ],
   "source": [
    "# matching first monday of test to first monday of july in 2018\n",
    "test_df_hourly['Date_IntervalStart'][0].day"
   ]
  },
  {
   "cell_type": "code",
   "execution_count": 342,
   "metadata": {},
   "outputs": [
    {
     "data": {
      "text/plain": [
       "1"
      ]
     },
     "execution_count": 342,
     "metadata": {},
     "output_type": "execute_result"
    }
   ],
   "source": [
    "july_2018 = fb_prophet_train_df[fb_prophet_train_df['ds'] == ('2018-07-01 00:00:00')]\n",
    "july_2018['ds'].iloc[0].day"
   ]
  },
  {
   "cell_type": "code",
   "execution_count": 90,
   "metadata": {},
   "outputs": [
    {
     "data": {
      "text/plain": [
       "(4416, 2)"
      ]
     },
     "execution_count": 90,
     "metadata": {},
     "output_type": "execute_result"
    }
   ],
   "source": [
    "test_df_hourly.shape"
   ]
  },
  {
   "cell_type": "code",
   "execution_count": 91,
   "metadata": {},
   "outputs": [],
   "source": [
    "# I will grab the values from 2018-07-01 to 2018-12-31\n",
    "baseline_y = fb_prophet_train_df['y'][26304:(26304+4416)].values"
   ]
  },
  {
   "cell_type": "code",
   "execution_count": 92,
   "metadata": {},
   "outputs": [
    {
     "data": {
      "text/plain": [
       "4416"
      ]
     },
     "execution_count": 92,
     "metadata": {},
     "output_type": "execute_result"
    }
   ],
   "source": [
    "len(baseline_y)"
   ]
  },
  {
   "cell_type": "markdown",
   "metadata": {},
   "source": [
    "### First Model"
   ]
  },
  {
   "cell_type": "code",
   "execution_count": 93,
   "metadata": {},
   "outputs": [],
   "source": [
    "# not sure what type the ds column should be \n",
    "## maybe it should be in datetime format, not pandas version of that \n",
    "# fb_prophet_train_df['ds'] = fb_prophet_train_df['ds'].values.astype('<M8[D]')"
   ]
  },
  {
   "cell_type": "code",
   "execution_count": 94,
   "metadata": {},
   "outputs": [],
   "source": [
    "prophetfmodel = Prophet(daily_seasonality=True)"
   ]
  },
  {
   "cell_type": "code",
   "execution_count": 95,
   "metadata": {},
   "outputs": [
    {
     "data": {
      "text/plain": [
       "<fbprophet.forecaster.Prophet at 0x7f904ca38cc0>"
      ]
     },
     "execution_count": 95,
     "metadata": {},
     "output_type": "execute_result"
    }
   ],
   "source": [
    "prophetfmodel.fit(fb_prophet_train_df)"
   ]
  },
  {
   "cell_type": "code",
   "execution_count": 96,
   "metadata": {},
   "outputs": [],
   "source": [
    "one_week = 24 * 4\n",
    "test_df_length = len(test_df_hourly)"
   ]
  },
  {
   "cell_type": "code",
   "execution_count": 343,
   "metadata": {},
   "outputs": [
    {
     "data": {
      "text/html": [
       "<div>\n",
       "<style scoped>\n",
       "    .dataframe tbody tr th:only-of-type {\n",
       "        vertical-align: middle;\n",
       "    }\n",
       "\n",
       "    .dataframe tbody tr th {\n",
       "        vertical-align: top;\n",
       "    }\n",
       "\n",
       "    .dataframe thead th {\n",
       "        text-align: right;\n",
       "    }\n",
       "</style>\n",
       "<table border=\"1\" class=\"dataframe\">\n",
       "  <thead>\n",
       "    <tr style=\"text-align: right;\">\n",
       "      <th></th>\n",
       "      <th>ds</th>\n",
       "    </tr>\n",
       "  </thead>\n",
       "  <tbody>\n",
       "    <tr>\n",
       "      <th>39478</th>\n",
       "      <td>2019-12-31 22:00:00</td>\n",
       "    </tr>\n",
       "    <tr>\n",
       "      <th>39479</th>\n",
       "      <td>2019-12-31 23:00:00</td>\n",
       "    </tr>\n",
       "  </tbody>\n",
       "</table>\n",
       "</div>"
      ],
      "text/plain": [
       "                       ds\n",
       "39478 2019-12-31 22:00:00\n",
       "39479 2019-12-31 23:00:00"
      ]
     },
     "execution_count": 343,
     "metadata": {},
     "output_type": "execute_result"
    }
   ],
   "source": [
    "future = prophetfmodel.make_future_dataframe(periods=test_df_length, freq='H')\n",
    "future.tail(2)"
   ]
  },
  {
   "cell_type": "code",
   "execution_count": 344,
   "metadata": {},
   "outputs": [
    {
     "data": {
      "text/html": [
       "<div>\n",
       "<style scoped>\n",
       "    .dataframe tbody tr th:only-of-type {\n",
       "        vertical-align: middle;\n",
       "    }\n",
       "\n",
       "    .dataframe tbody tr th {\n",
       "        vertical-align: top;\n",
       "    }\n",
       "\n",
       "    .dataframe thead th {\n",
       "        text-align: right;\n",
       "    }\n",
       "</style>\n",
       "<table border=\"1\" class=\"dataframe\">\n",
       "  <thead>\n",
       "    <tr style=\"text-align: right;\">\n",
       "      <th></th>\n",
       "      <th>ds</th>\n",
       "      <th>yhat</th>\n",
       "      <th>yhat_lower</th>\n",
       "      <th>yhat_upper</th>\n",
       "    </tr>\n",
       "  </thead>\n",
       "  <tbody>\n",
       "    <tr>\n",
       "      <th>39478</th>\n",
       "      <td>2019-12-31 22:00:00</td>\n",
       "      <td>141.488202</td>\n",
       "      <td>-37.152787</td>\n",
       "      <td>324.016395</td>\n",
       "    </tr>\n",
       "    <tr>\n",
       "      <th>39479</th>\n",
       "      <td>2019-12-31 23:00:00</td>\n",
       "      <td>99.260786</td>\n",
       "      <td>-78.924095</td>\n",
       "      <td>270.566804</td>\n",
       "    </tr>\n",
       "  </tbody>\n",
       "</table>\n",
       "</div>"
      ],
      "text/plain": [
       "                       ds        yhat  yhat_lower  yhat_upper\n",
       "39478 2019-12-31 22:00:00  141.488202  -37.152787  324.016395\n",
       "39479 2019-12-31 23:00:00   99.260786  -78.924095  270.566804"
      ]
     },
     "execution_count": 344,
     "metadata": {},
     "output_type": "execute_result"
    }
   ],
   "source": [
    "forecast = prophetfmodel.predict(future)\n",
    "forecast[['ds', 'yhat', 'yhat_lower', 'yhat_upper']].tail(2)"
   ]
  },
  {
   "cell_type": "markdown",
   "metadata": {},
   "source": [
    "### Model 2"
   ]
  },
  {
   "cell_type": "code",
   "execution_count": 100,
   "metadata": {},
   "outputs": [
    {
     "data": {
      "text/html": [
       "<div>\n",
       "<style scoped>\n",
       "    .dataframe tbody tr th:only-of-type {\n",
       "        vertical-align: middle;\n",
       "    }\n",
       "\n",
       "    .dataframe tbody tr th {\n",
       "        vertical-align: top;\n",
       "    }\n",
       "\n",
       "    .dataframe thead th {\n",
       "        text-align: right;\n",
       "    }\n",
       "</style>\n",
       "<table border=\"1\" class=\"dataframe\">\n",
       "  <thead>\n",
       "    <tr style=\"text-align: right;\">\n",
       "      <th></th>\n",
       "      <th>ds</th>\n",
       "      <th>y</th>\n",
       "    </tr>\n",
       "  </thead>\n",
       "  <tbody>\n",
       "    <tr>\n",
       "      <th>0</th>\n",
       "      <td>2015-07-01 00:00:00</td>\n",
       "      <td>19</td>\n",
       "    </tr>\n",
       "    <tr>\n",
       "      <th>1</th>\n",
       "      <td>2015-07-01 01:00:00</td>\n",
       "      <td>16</td>\n",
       "    </tr>\n",
       "  </tbody>\n",
       "</table>\n",
       "</div>"
      ],
      "text/plain": [
       "                   ds   y\n",
       "0 2015-07-01 00:00:00  19\n",
       "1 2015-07-01 01:00:00  16"
      ]
     },
     "execution_count": 100,
     "metadata": {},
     "output_type": "execute_result"
    }
   ],
   "source": [
    "fb_prophet_train_df.head(2)"
   ]
  },
  {
   "cell_type": "code",
   "execution_count": 101,
   "metadata": {},
   "outputs": [],
   "source": [
    "prophetfmodel2 = Prophet(daily_seasonality=True, yearly_seasonality = True, weekly_seasonality = True)"
   ]
  },
  {
   "cell_type": "code",
   "execution_count": 102,
   "metadata": {},
   "outputs": [
    {
     "data": {
      "text/plain": [
       "<fbprophet.forecaster.Prophet at 0x7f9015691f98>"
      ]
     },
     "execution_count": 102,
     "metadata": {},
     "output_type": "execute_result"
    }
   ],
   "source": [
    "prophetfmodel2.fit(fb_prophet_train_df)"
   ]
  },
  {
   "cell_type": "code",
   "execution_count": 345,
   "metadata": {},
   "outputs": [
    {
     "data": {
      "text/html": [
       "<div>\n",
       "<style scoped>\n",
       "    .dataframe tbody tr th:only-of-type {\n",
       "        vertical-align: middle;\n",
       "    }\n",
       "\n",
       "    .dataframe tbody tr th {\n",
       "        vertical-align: top;\n",
       "    }\n",
       "\n",
       "    .dataframe thead th {\n",
       "        text-align: right;\n",
       "    }\n",
       "</style>\n",
       "<table border=\"1\" class=\"dataframe\">\n",
       "  <thead>\n",
       "    <tr style=\"text-align: right;\">\n",
       "      <th></th>\n",
       "      <th>ds</th>\n",
       "    </tr>\n",
       "  </thead>\n",
       "  <tbody>\n",
       "    <tr>\n",
       "      <th>39478</th>\n",
       "      <td>2019-12-31 22:00:00</td>\n",
       "    </tr>\n",
       "    <tr>\n",
       "      <th>39479</th>\n",
       "      <td>2019-12-31 23:00:00</td>\n",
       "    </tr>\n",
       "  </tbody>\n",
       "</table>\n",
       "</div>"
      ],
      "text/plain": [
       "                       ds\n",
       "39478 2019-12-31 22:00:00\n",
       "39479 2019-12-31 23:00:00"
      ]
     },
     "execution_count": 345,
     "metadata": {},
     "output_type": "execute_result"
    }
   ],
   "source": [
    "# I can only do hourly or minute frequencies... https://pandas.pydata.org/pandas-docs/stable/user_guide/timeseries.html#timeseries-offset-aliases\n",
    "## Either I change the data to be hourly or I try minutes\n",
    "future2 = prophetfmodel2.make_future_dataframe(periods=test_df_length, freq='H')\n",
    "future2.tail(2)"
   ]
  },
  {
   "cell_type": "code",
   "execution_count": 346,
   "metadata": {},
   "outputs": [
    {
     "data": {
      "text/html": [
       "<div>\n",
       "<style scoped>\n",
       "    .dataframe tbody tr th:only-of-type {\n",
       "        vertical-align: middle;\n",
       "    }\n",
       "\n",
       "    .dataframe tbody tr th {\n",
       "        vertical-align: top;\n",
       "    }\n",
       "\n",
       "    .dataframe thead th {\n",
       "        text-align: right;\n",
       "    }\n",
       "</style>\n",
       "<table border=\"1\" class=\"dataframe\">\n",
       "  <thead>\n",
       "    <tr style=\"text-align: right;\">\n",
       "      <th></th>\n",
       "      <th>ds</th>\n",
       "      <th>yhat</th>\n",
       "      <th>yhat_lower</th>\n",
       "      <th>yhat_upper</th>\n",
       "    </tr>\n",
       "  </thead>\n",
       "  <tbody>\n",
       "    <tr>\n",
       "      <th>39478</th>\n",
       "      <td>2019-12-31 22:00:00</td>\n",
       "      <td>141.488202</td>\n",
       "      <td>-34.649572</td>\n",
       "      <td>329.027402</td>\n",
       "    </tr>\n",
       "    <tr>\n",
       "      <th>39479</th>\n",
       "      <td>2019-12-31 23:00:00</td>\n",
       "      <td>99.260786</td>\n",
       "      <td>-87.310635</td>\n",
       "      <td>270.526255</td>\n",
       "    </tr>\n",
       "  </tbody>\n",
       "</table>\n",
       "</div>"
      ],
      "text/plain": [
       "                       ds        yhat  yhat_lower  yhat_upper\n",
       "39478 2019-12-31 22:00:00  141.488202  -34.649572  329.027402\n",
       "39479 2019-12-31 23:00:00   99.260786  -87.310635  270.526255"
      ]
     },
     "execution_count": 346,
     "metadata": {},
     "output_type": "execute_result"
    }
   ],
   "source": [
    "forecast2 = prophetfmodel2.predict(future2)\n",
    "forecast2[['ds', 'yhat', 'yhat_lower', 'yhat_upper']].tail(2)"
   ]
  },
  {
   "cell_type": "code",
   "execution_count": 106,
   "metadata": {},
   "outputs": [
    {
     "data": {
      "text/html": [
       "<div>\n",
       "<style scoped>\n",
       "    .dataframe tbody tr th:only-of-type {\n",
       "        vertical-align: middle;\n",
       "    }\n",
       "\n",
       "    .dataframe tbody tr th {\n",
       "        vertical-align: top;\n",
       "    }\n",
       "\n",
       "    .dataframe thead th {\n",
       "        text-align: right;\n",
       "    }\n",
       "</style>\n",
       "<table border=\"1\" class=\"dataframe\">\n",
       "  <thead>\n",
       "    <tr style=\"text-align: right;\">\n",
       "      <th></th>\n",
       "      <th>ds</th>\n",
       "      <th>trend</th>\n",
       "      <th>yhat_lower</th>\n",
       "      <th>yhat_upper</th>\n",
       "      <th>trend_lower</th>\n",
       "      <th>trend_upper</th>\n",
       "      <th>additive_terms</th>\n",
       "      <th>additive_terms_lower</th>\n",
       "      <th>additive_terms_upper</th>\n",
       "      <th>daily</th>\n",
       "      <th>...</th>\n",
       "      <th>weekly</th>\n",
       "      <th>weekly_lower</th>\n",
       "      <th>weekly_upper</th>\n",
       "      <th>yearly</th>\n",
       "      <th>yearly_lower</th>\n",
       "      <th>yearly_upper</th>\n",
       "      <th>multiplicative_terms</th>\n",
       "      <th>multiplicative_terms_lower</th>\n",
       "      <th>multiplicative_terms_upper</th>\n",
       "      <th>yhat</th>\n",
       "    </tr>\n",
       "  </thead>\n",
       "  <tbody>\n",
       "    <tr>\n",
       "      <th>0</th>\n",
       "      <td>2015-07-01 00:00:00</td>\n",
       "      <td>502.842307</td>\n",
       "      <td>-119.177031</td>\n",
       "      <td>249.639408</td>\n",
       "      <td>502.842307</td>\n",
       "      <td>502.842307</td>\n",
       "      <td>-444.100945</td>\n",
       "      <td>-444.100945</td>\n",
       "      <td>-444.100945</td>\n",
       "      <td>-431.550261</td>\n",
       "      <td>...</td>\n",
       "      <td>6.552663</td>\n",
       "      <td>6.552663</td>\n",
       "      <td>6.552663</td>\n",
       "      <td>-19.103347</td>\n",
       "      <td>-19.103347</td>\n",
       "      <td>-19.103347</td>\n",
       "      <td>0.0</td>\n",
       "      <td>0.0</td>\n",
       "      <td>0.0</td>\n",
       "      <td>58.741362</td>\n",
       "    </tr>\n",
       "    <tr>\n",
       "      <th>1</th>\n",
       "      <td>2015-07-01 01:00:00</td>\n",
       "      <td>502.843385</td>\n",
       "      <td>-184.354069</td>\n",
       "      <td>159.619764</td>\n",
       "      <td>502.843385</td>\n",
       "      <td>502.843385</td>\n",
       "      <td>-512.933543</td>\n",
       "      <td>-512.933543</td>\n",
       "      <td>-512.933543</td>\n",
       "      <td>-501.666887</td>\n",
       "      <td>...</td>\n",
       "      <td>7.867643</td>\n",
       "      <td>7.867643</td>\n",
       "      <td>7.867643</td>\n",
       "      <td>-19.134299</td>\n",
       "      <td>-19.134299</td>\n",
       "      <td>-19.134299</td>\n",
       "      <td>0.0</td>\n",
       "      <td>0.0</td>\n",
       "      <td>0.0</td>\n",
       "      <td>-10.090158</td>\n",
       "    </tr>\n",
       "  </tbody>\n",
       "</table>\n",
       "<p>2 rows × 22 columns</p>\n",
       "</div>"
      ],
      "text/plain": [
       "                   ds       trend  yhat_lower  yhat_upper  trend_lower  \\\n",
       "0 2015-07-01 00:00:00  502.842307 -119.177031  249.639408   502.842307   \n",
       "1 2015-07-01 01:00:00  502.843385 -184.354069  159.619764   502.843385   \n",
       "\n",
       "   trend_upper  additive_terms  additive_terms_lower  additive_terms_upper  \\\n",
       "0   502.842307     -444.100945           -444.100945           -444.100945   \n",
       "1   502.843385     -512.933543           -512.933543           -512.933543   \n",
       "\n",
       "        daily  ...    weekly  weekly_lower  weekly_upper     yearly  \\\n",
       "0 -431.550261  ...  6.552663      6.552663      6.552663 -19.103347   \n",
       "1 -501.666887  ...  7.867643      7.867643      7.867643 -19.134299   \n",
       "\n",
       "   yearly_lower  yearly_upper  multiplicative_terms  \\\n",
       "0    -19.103347    -19.103347                   0.0   \n",
       "1    -19.134299    -19.134299                   0.0   \n",
       "\n",
       "   multiplicative_terms_lower  multiplicative_terms_upper       yhat  \n",
       "0                         0.0                         0.0  58.741362  \n",
       "1                         0.0                         0.0 -10.090158  \n",
       "\n",
       "[2 rows x 22 columns]"
      ]
     },
     "execution_count": 106,
     "metadata": {},
     "output_type": "execute_result"
    }
   ],
   "source": [
    "forecast2.head(2)"
   ]
  },
  {
   "cell_type": "code",
   "execution_count": 107,
   "metadata": {},
   "outputs": [
    {
     "data": {
      "image/png": "[encoded data removed]",
      "text/plain": [
       "<Figure size 720x432 with 1 Axes>"
      ]
     },
     "metadata": {},
     "output_type": "display_data"
    }
   ],
   "source": [
    "fig2 = prophetfmodel2.plot(forecast2)"
   ]
  },
  {
   "cell_type": "markdown",
   "metadata": {},
   "source": [
    "#### Plotting Components\n",
    "https://dius.com.au/2018/09/04/time-series-forecasting-with-fbprophet/"
   ]
  },
  {
   "cell_type": "code",
   "execution_count": 108,
   "metadata": {},
   "outputs": [
    {
     "data": {
      "text/plain": [
       "pandas._libs.tslibs.timestamps.Timestamp"
      ]
     },
     "execution_count": 108,
     "metadata": {},
     "output_type": "execute_result"
    }
   ],
   "source": [
    "type(forecast2['ds'][0])"
   ]
  },
  {
   "cell_type": "code",
   "execution_count": 109,
   "metadata": {},
   "outputs": [
    {
     "data": {
      "text/html": [
       "<div>\n",
       "<style scoped>\n",
       "    .dataframe tbody tr th:only-of-type {\n",
       "        vertical-align: middle;\n",
       "    }\n",
       "\n",
       "    .dataframe tbody tr th {\n",
       "        vertical-align: top;\n",
       "    }\n",
       "\n",
       "    .dataframe thead th {\n",
       "        text-align: right;\n",
       "    }\n",
       "</style>\n",
       "<table border=\"1\" class=\"dataframe\">\n",
       "  <thead>\n",
       "    <tr style=\"text-align: right;\">\n",
       "      <th></th>\n",
       "      <th>ds</th>\n",
       "      <th>trend</th>\n",
       "      <th>yhat_lower</th>\n",
       "      <th>yhat_upper</th>\n",
       "      <th>trend_lower</th>\n",
       "      <th>trend_upper</th>\n",
       "      <th>additive_terms</th>\n",
       "      <th>additive_terms_lower</th>\n",
       "      <th>additive_terms_upper</th>\n",
       "      <th>daily</th>\n",
       "      <th>...</th>\n",
       "      <th>weekly</th>\n",
       "      <th>weekly_lower</th>\n",
       "      <th>weekly_upper</th>\n",
       "      <th>yearly</th>\n",
       "      <th>yearly_lower</th>\n",
       "      <th>yearly_upper</th>\n",
       "      <th>multiplicative_terms</th>\n",
       "      <th>multiplicative_terms_lower</th>\n",
       "      <th>multiplicative_terms_upper</th>\n",
       "      <th>yhat</th>\n",
       "    </tr>\n",
       "  </thead>\n",
       "  <tbody>\n",
       "    <tr>\n",
       "      <th>0</th>\n",
       "      <td>2015-07-01 00:00:00</td>\n",
       "      <td>502.842307</td>\n",
       "      <td>-119.177031</td>\n",
       "      <td>249.639408</td>\n",
       "      <td>502.842307</td>\n",
       "      <td>502.842307</td>\n",
       "      <td>-444.100945</td>\n",
       "      <td>-444.100945</td>\n",
       "      <td>-444.100945</td>\n",
       "      <td>-431.550261</td>\n",
       "      <td>...</td>\n",
       "      <td>6.552663</td>\n",
       "      <td>6.552663</td>\n",
       "      <td>6.552663</td>\n",
       "      <td>-19.103347</td>\n",
       "      <td>-19.103347</td>\n",
       "      <td>-19.103347</td>\n",
       "      <td>0.0</td>\n",
       "      <td>0.0</td>\n",
       "      <td>0.0</td>\n",
       "      <td>58.741362</td>\n",
       "    </tr>\n",
       "    <tr>\n",
       "      <th>1</th>\n",
       "      <td>2015-07-01 01:00:00</td>\n",
       "      <td>502.843385</td>\n",
       "      <td>-184.354069</td>\n",
       "      <td>159.619764</td>\n",
       "      <td>502.843385</td>\n",
       "      <td>502.843385</td>\n",
       "      <td>-512.933543</td>\n",
       "      <td>-512.933543</td>\n",
       "      <td>-512.933543</td>\n",
       "      <td>-501.666887</td>\n",
       "      <td>...</td>\n",
       "      <td>7.867643</td>\n",
       "      <td>7.867643</td>\n",
       "      <td>7.867643</td>\n",
       "      <td>-19.134299</td>\n",
       "      <td>-19.134299</td>\n",
       "      <td>-19.134299</td>\n",
       "      <td>0.0</td>\n",
       "      <td>0.0</td>\n",
       "      <td>0.0</td>\n",
       "      <td>-10.090158</td>\n",
       "    </tr>\n",
       "  </tbody>\n",
       "</table>\n",
       "<p>2 rows × 22 columns</p>\n",
       "</div>"
      ],
      "text/plain": [
       "                   ds       trend  yhat_lower  yhat_upper  trend_lower  \\\n",
       "0 2015-07-01 00:00:00  502.842307 -119.177031  249.639408   502.842307   \n",
       "1 2015-07-01 01:00:00  502.843385 -184.354069  159.619764   502.843385   \n",
       "\n",
       "   trend_upper  additive_terms  additive_terms_lower  additive_terms_upper  \\\n",
       "0   502.842307     -444.100945           -444.100945           -444.100945   \n",
       "1   502.843385     -512.933543           -512.933543           -512.933543   \n",
       "\n",
       "        daily  ...    weekly  weekly_lower  weekly_upper     yearly  \\\n",
       "0 -431.550261  ...  6.552663      6.552663      6.552663 -19.103347   \n",
       "1 -501.666887  ...  7.867643      7.867643      7.867643 -19.134299   \n",
       "\n",
       "   yearly_lower  yearly_upper  multiplicative_terms  \\\n",
       "0    -19.103347    -19.103347                   0.0   \n",
       "1    -19.134299    -19.134299                   0.0   \n",
       "\n",
       "   multiplicative_terms_lower  multiplicative_terms_upper       yhat  \n",
       "0                         0.0                         0.0  58.741362  \n",
       "1                         0.0                         0.0 -10.090158  \n",
       "\n",
       "[2 rows x 22 columns]"
      ]
     },
     "execution_count": 109,
     "metadata": {},
     "output_type": "execute_result"
    }
   ],
   "source": [
    "forecast2.head(2)"
   ]
  },
  {
   "cell_type": "code",
   "execution_count": 110,
   "metadata": {},
   "outputs": [
    {
     "data": {
      "image/png": "[encoded data removed]",
      "text/plain": [
       "<Figure size 648x864 with 4 Axes>"
      ]
     },
     "metadata": {},
     "output_type": "display_data"
    }
   ],
   "source": [
    "# prints twice unless saved as something\n",
    "component_fig = prophetfmodel2.plot_components(forecast2)"
   ]
  },
  {
   "cell_type": "code",
   "execution_count": 111,
   "metadata": {},
   "outputs": [
    {
     "name": "stdout",
     "output_type": "stream",
     "text": [
      "0.5\n",
      "0.25.3\n"
     ]
    }
   ],
   "source": [
    "# https://github.com/facebook/prophet/issues/1304\n",
    "print(fbprophet.__version__)\n",
    "print(pd.__version__)"
   ]
  },
  {
   "cell_type": "markdown",
   "metadata": {},
   "source": [
    "### Model With Cap and Min\n",
    "https://facebook.github.io/prophet/docs/saturating_forecasts.html"
   ]
  },
  {
   "cell_type": "code",
   "execution_count": 112,
   "metadata": {},
   "outputs": [],
   "source": [
    "fb_prophet_train_df['cap'] = 1400\n",
    "fb_prophet_train_df['floor'] = 0"
   ]
  },
  {
   "cell_type": "code",
   "execution_count": 113,
   "metadata": {},
   "outputs": [],
   "source": [
    "prophetfmodel3 = Prophet(growth='logistic', daily_seasonality=True, yearly_seasonality = True, weekly_seasonality = True)"
   ]
  },
  {
   "cell_type": "code",
   "execution_count": 114,
   "metadata": {},
   "outputs": [
    {
     "data": {
      "text/plain": [
       "<fbprophet.forecaster.Prophet at 0x7f8fa3b9e3c8>"
      ]
     },
     "execution_count": 114,
     "metadata": {},
     "output_type": "execute_result"
    }
   ],
   "source": [
    "prophetfmodel3.fit(fb_prophet_train_df)"
   ]
  },
  {
   "cell_type": "code",
   "execution_count": 116,
   "metadata": {},
   "outputs": [],
   "source": [
    "# I can only do hourly or minute frequencies... https://pandas.pydata.org/pandas-docs/stable/user_guide/timeseries.html#timeseries-offset-aliases\n",
    "## Either I change the data to be hourly or I try minutes\n",
    "future3 = prophetfmodel3.make_future_dataframe(periods=test_df_length, freq='H')\n",
    "future3.tail(2)\n",
    "future3['floor'] = 0\n",
    "future3['cap'] = 1400"
   ]
  },
  {
   "cell_type": "code",
   "execution_count": 352,
   "metadata": {},
   "outputs": [
    {
     "data": {
      "text/html": [
       "<div>\n",
       "<style scoped>\n",
       "    .dataframe tbody tr th:only-of-type {\n",
       "        vertical-align: middle;\n",
       "    }\n",
       "\n",
       "    .dataframe tbody tr th {\n",
       "        vertical-align: top;\n",
       "    }\n",
       "\n",
       "    .dataframe thead th {\n",
       "        text-align: right;\n",
       "    }\n",
       "</style>\n",
       "<table border=\"1\" class=\"dataframe\">\n",
       "  <thead>\n",
       "    <tr style=\"text-align: right;\">\n",
       "      <th></th>\n",
       "      <th>ds</th>\n",
       "      <th>yhat</th>\n",
       "      <th>yhat_lower</th>\n",
       "      <th>yhat_upper</th>\n",
       "    </tr>\n",
       "  </thead>\n",
       "  <tbody>\n",
       "    <tr>\n",
       "      <th>39478</th>\n",
       "      <td>2019-12-31 22:00:00</td>\n",
       "      <td>137.533661</td>\n",
       "      <td>-33.430626</td>\n",
       "      <td>317.191385</td>\n",
       "    </tr>\n",
       "    <tr>\n",
       "      <th>39479</th>\n",
       "      <td>2019-12-31 23:00:00</td>\n",
       "      <td>95.305980</td>\n",
       "      <td>-85.955179</td>\n",
       "      <td>280.827900</td>\n",
       "    </tr>\n",
       "  </tbody>\n",
       "</table>\n",
       "</div>"
      ],
      "text/plain": [
       "                       ds        yhat  yhat_lower  yhat_upper\n",
       "39478 2019-12-31 22:00:00  137.533661  -33.430626  317.191385\n",
       "39479 2019-12-31 23:00:00   95.305980  -85.955179  280.827900"
      ]
     },
     "execution_count": 352,
     "metadata": {},
     "output_type": "execute_result"
    }
   ],
   "source": [
    "# basically same predictions as before \n",
    "forecast3 = prophetfmodel3.predict(future3)\n",
    "forecast3[['ds', 'yhat', 'yhat_lower', 'yhat_upper']].tail(2)"
   ]
  },
  {
   "cell_type": "code",
   "execution_count": 118,
   "metadata": {},
   "outputs": [
    {
     "data": {
      "text/plain": [
       "22"
      ]
     },
     "execution_count": 118,
     "metadata": {},
     "output_type": "execute_result"
    }
   ],
   "source": [
    "len(forecast.columns)"
   ]
  },
  {
   "cell_type": "markdown",
   "metadata": {},
   "source": [
    "### Model with Normalization - MinMaxScaler"
   ]
  },
  {
   "cell_type": "code",
   "execution_count": 120,
   "metadata": {},
   "outputs": [],
   "source": [
    "hourly_values = fb_prophet_train_df['y'].values"
   ]
  },
  {
   "cell_type": "code",
   "execution_count": 121,
   "metadata": {},
   "outputs": [],
   "source": [
    "hourly_values_reshaped = hourly_values.reshape((len(hourly_values), 1))"
   ]
  },
  {
   "cell_type": "code",
   "execution_count": 122,
   "metadata": {},
   "outputs": [
    {
     "data": {
      "text/plain": [
       "array([[ 19],\n",
       "       [ 16],\n",
       "       [ 11],\n",
       "       ...,\n",
       "       [308],\n",
       "       [253],\n",
       "       [ 76]])"
      ]
     },
     "execution_count": 122,
     "metadata": {},
     "output_type": "execute_result"
    }
   ],
   "source": [
    "hourly_values_reshaped"
   ]
  },
  {
   "cell_type": "code",
   "execution_count": 123,
   "metadata": {},
   "outputs": [
    {
     "name": "stdout",
     "output_type": "stream",
     "text": [
      "Min: 0.000000, Max: 1359.000000\n"
     ]
    }
   ],
   "source": [
    "scaler = MinMaxScaler(feature_range=(0, 1))\n",
    "scaler = scaler.fit(hourly_values_reshaped)\n",
    "print('Min: %f, Max: %f' % (scaler.data_min_, scaler.data_max_))"
   ]
  },
  {
   "cell_type": "code",
   "execution_count": 124,
   "metadata": {},
   "outputs": [
    {
     "name": "stdout",
     "output_type": "stream",
     "text": [
      "[0.01398087]\n",
      "[0.01177336]\n",
      "[0.00809419]\n",
      "[0.00883002]\n",
      "[0.02943341]\n"
     ]
    }
   ],
   "source": [
    "normalized = scaler.transform(hourly_values_reshaped)\n",
    "for i in range(5):\n",
    "    print(normalized[i])"
   ]
  },
  {
   "cell_type": "code",
   "execution_count": 125,
   "metadata": {},
   "outputs": [],
   "source": [
    "train_df_days_normalized = fb_prophet_train_df.copy()"
   ]
  },
  {
   "cell_type": "code",
   "execution_count": 126,
   "metadata": {},
   "outputs": [],
   "source": [
    "train_df_days_normalized['y'] = normalized"
   ]
  },
  {
   "cell_type": "code",
   "execution_count": 127,
   "metadata": {},
   "outputs": [
    {
     "data": {
      "text/html": [
       "<div>\n",
       "<style scoped>\n",
       "    .dataframe tbody tr th:only-of-type {\n",
       "        vertical-align: middle;\n",
       "    }\n",
       "\n",
       "    .dataframe tbody tr th {\n",
       "        vertical-align: top;\n",
       "    }\n",
       "\n",
       "    .dataframe thead th {\n",
       "        text-align: right;\n",
       "    }\n",
       "</style>\n",
       "<table border=\"1\" class=\"dataframe\">\n",
       "  <thead>\n",
       "    <tr style=\"text-align: right;\">\n",
       "      <th></th>\n",
       "      <th>ds</th>\n",
       "      <th>y</th>\n",
       "      <th>cap</th>\n",
       "      <th>floor</th>\n",
       "    </tr>\n",
       "  </thead>\n",
       "  <tbody>\n",
       "    <tr>\n",
       "      <th>0</th>\n",
       "      <td>2015-07-01 00:00:00</td>\n",
       "      <td>0.013981</td>\n",
       "      <td>1400</td>\n",
       "      <td>0</td>\n",
       "    </tr>\n",
       "    <tr>\n",
       "      <th>1</th>\n",
       "      <td>2015-07-01 01:00:00</td>\n",
       "      <td>0.011773</td>\n",
       "      <td>1400</td>\n",
       "      <td>0</td>\n",
       "    </tr>\n",
       "  </tbody>\n",
       "</table>\n",
       "</div>"
      ],
      "text/plain": [
       "                   ds         y   cap  floor\n",
       "0 2015-07-01 00:00:00  0.013981  1400      0\n",
       "1 2015-07-01 01:00:00  0.011773  1400      0"
      ]
     },
     "execution_count": 127,
     "metadata": {},
     "output_type": "execute_result"
    }
   ],
   "source": [
    "train_df_days_normalized.head(2)"
   ]
  },
  {
   "cell_type": "code",
   "execution_count": 128,
   "metadata": {},
   "outputs": [],
   "source": [
    "prophetfmodel4 = Prophet(daily_seasonality=True, yearly_seasonality = True, weekly_seasonality = True)"
   ]
  },
  {
   "cell_type": "code",
   "execution_count": 129,
   "metadata": {},
   "outputs": [
    {
     "data": {
      "text/plain": [
       "<fbprophet.forecaster.Prophet at 0x7f8fa5d4fcc0>"
      ]
     },
     "execution_count": 129,
     "metadata": {},
     "output_type": "execute_result"
    }
   ],
   "source": [
    "prophetfmodel4.fit(train_df_days_normalized)"
   ]
  },
  {
   "cell_type": "code",
   "execution_count": 131,
   "metadata": {},
   "outputs": [
    {
     "data": {
      "text/html": [
       "<div>\n",
       "<style scoped>\n",
       "    .dataframe tbody tr th:only-of-type {\n",
       "        vertical-align: middle;\n",
       "    }\n",
       "\n",
       "    .dataframe tbody tr th {\n",
       "        vertical-align: top;\n",
       "    }\n",
       "\n",
       "    .dataframe thead th {\n",
       "        text-align: right;\n",
       "    }\n",
       "</style>\n",
       "<table border=\"1\" class=\"dataframe\">\n",
       "  <thead>\n",
       "    <tr style=\"text-align: right;\">\n",
       "      <th></th>\n",
       "      <th>ds</th>\n",
       "    </tr>\n",
       "  </thead>\n",
       "  <tbody>\n",
       "    <tr>\n",
       "      <th>39478</th>\n",
       "      <td>2019-12-31 22:00:00</td>\n",
       "    </tr>\n",
       "    <tr>\n",
       "      <th>39479</th>\n",
       "      <td>2019-12-31 23:00:00</td>\n",
       "    </tr>\n",
       "  </tbody>\n",
       "</table>\n",
       "</div>"
      ],
      "text/plain": [
       "                       ds\n",
       "39478 2019-12-31 22:00:00\n",
       "39479 2019-12-31 23:00:00"
      ]
     },
     "execution_count": 131,
     "metadata": {},
     "output_type": "execute_result"
    }
   ],
   "source": [
    "# I can only do hourly or minute frequencies... https://pandas.pydata.org/pandas-docs/stable/user_guide/timeseries.html#timeseries-offset-aliases\n",
    "## Either I change the data to be hourly or I try minutes\n",
    "future4 = prophetfmodel4.make_future_dataframe(periods=test_df_length, freq='H')\n",
    "future4.tail(2)"
   ]
  },
  {
   "cell_type": "code",
   "execution_count": 351,
   "metadata": {},
   "outputs": [
    {
     "data": {
      "text/html": [
       "<div>\n",
       "<style scoped>\n",
       "    .dataframe tbody tr th:only-of-type {\n",
       "        vertical-align: middle;\n",
       "    }\n",
       "\n",
       "    .dataframe tbody tr th {\n",
       "        vertical-align: top;\n",
       "    }\n",
       "\n",
       "    .dataframe thead th {\n",
       "        text-align: right;\n",
       "    }\n",
       "</style>\n",
       "<table border=\"1\" class=\"dataframe\">\n",
       "  <thead>\n",
       "    <tr style=\"text-align: right;\">\n",
       "      <th></th>\n",
       "      <th>ds</th>\n",
       "      <th>yhat</th>\n",
       "      <th>yhat_lower</th>\n",
       "      <th>yhat_upper</th>\n",
       "    </tr>\n",
       "  </thead>\n",
       "  <tbody>\n",
       "    <tr>\n",
       "      <th>39478</th>\n",
       "      <td>2019-12-31 22:00:00</td>\n",
       "      <td>0.103524</td>\n",
       "      <td>-0.028380</td>\n",
       "      <td>0.224507</td>\n",
       "    </tr>\n",
       "    <tr>\n",
       "      <th>39479</th>\n",
       "      <td>2019-12-31 23:00:00</td>\n",
       "      <td>0.072452</td>\n",
       "      <td>-0.065397</td>\n",
       "      <td>0.198650</td>\n",
       "    </tr>\n",
       "  </tbody>\n",
       "</table>\n",
       "</div>"
      ],
      "text/plain": [
       "                       ds      yhat  yhat_lower  yhat_upper\n",
       "39478 2019-12-31 22:00:00  0.103524   -0.028380    0.224507\n",
       "39479 2019-12-31 23:00:00  0.072452   -0.065397    0.198650"
      ]
     },
     "execution_count": 351,
     "metadata": {},
     "output_type": "execute_result"
    }
   ],
   "source": [
    "forecast4 = prophetfmodel4.predict(future4)\n",
    "forecast4[['ds', 'yhat', 'yhat_lower', 'yhat_upper']].tail(2)"
   ]
  },
  {
   "cell_type": "code",
   "execution_count": 134,
   "metadata": {},
   "outputs": [],
   "source": [
    "# rescaled predictions\n",
    "orig4_predictions = forecast4['yhat'].values\n",
    "orig4_predictions_reshaped = orig4_predictions.reshape((len(orig4_predictions), 1))\n",
    "forecast4_rescaled_predictions = scaler.inverse_transform(orig4_predictions_reshaped)"
   ]
  },
  {
   "cell_type": "code",
   "execution_count": 135,
   "metadata": {},
   "outputs": [
    {
     "data": {
      "text/plain": [
       "(39480, 1)"
      ]
     },
     "execution_count": 135,
     "metadata": {},
     "output_type": "execute_result"
    }
   ],
   "source": [
    "forecast4_rescaled_predictions.shape"
   ]
  },
  {
   "cell_type": "code",
   "execution_count": 136,
   "metadata": {},
   "outputs": [],
   "source": [
    "forecast4_reshaped = forecast4[-39480:].copy()"
   ]
  },
  {
   "cell_type": "code",
   "execution_count": 137,
   "metadata": {},
   "outputs": [
    {
     "data": {
      "text/plain": [
       "(39480, 22)"
      ]
     },
     "execution_count": 137,
     "metadata": {},
     "output_type": "execute_result"
    }
   ],
   "source": [
    "forecast4_reshaped.shape"
   ]
  },
  {
   "cell_type": "code",
   "execution_count": 138,
   "metadata": {},
   "outputs": [],
   "source": [
    "forecast4_reshaped['yhat'] = forecast4_rescaled_predictions"
   ]
  },
  {
   "cell_type": "code",
   "execution_count": 139,
   "metadata": {},
   "outputs": [],
   "source": [
    "# forecast4_reshaped is sliiiiightly different than the other models"
   ]
  },
  {
   "cell_type": "markdown",
   "metadata": {},
   "source": [
    "### Model with Normalization - QuantileTransformer"
   ]
  },
  {
   "cell_type": "code",
   "execution_count": 140,
   "metadata": {},
   "outputs": [
    {
     "name": "stdout",
     "output_type": "stream",
     "text": [
      "1000\n"
     ]
    }
   ],
   "source": [
    "scaler2 = QuantileTransformer()\n",
    "scaler2 = scaler2.fit(hourly_values_reshaped)\n",
    "print(scaler2.n_quantiles_)"
   ]
  },
  {
   "cell_type": "code",
   "execution_count": 141,
   "metadata": {},
   "outputs": [
    {
     "name": "stdout",
     "output_type": "stream",
     "text": [
      "[0.06306306]\n",
      "[0.04704705]\n",
      "[0.02352352]\n",
      "[0.02752753]\n",
      "[0.14314314]\n"
     ]
    }
   ],
   "source": [
    "normalized2 = scaler2.transform(hourly_values_reshaped)\n",
    "for i in range(5):\n",
    "    print(normalized2[i])"
   ]
  },
  {
   "cell_type": "code",
   "execution_count": 142,
   "metadata": {},
   "outputs": [],
   "source": [
    "train_df_days_normalized2 = fb_prophet_train_df.copy()"
   ]
  },
  {
   "cell_type": "code",
   "execution_count": 143,
   "metadata": {},
   "outputs": [],
   "source": [
    "train_df_days_normalized2['y'] = normalized2"
   ]
  },
  {
   "cell_type": "code",
   "execution_count": 144,
   "metadata": {},
   "outputs": [
    {
     "data": {
      "text/html": [
       "<div>\n",
       "<style scoped>\n",
       "    .dataframe tbody tr th:only-of-type {\n",
       "        vertical-align: middle;\n",
       "    }\n",
       "\n",
       "    .dataframe tbody tr th {\n",
       "        vertical-align: top;\n",
       "    }\n",
       "\n",
       "    .dataframe thead th {\n",
       "        text-align: right;\n",
       "    }\n",
       "</style>\n",
       "<table border=\"1\" class=\"dataframe\">\n",
       "  <thead>\n",
       "    <tr style=\"text-align: right;\">\n",
       "      <th></th>\n",
       "      <th>ds</th>\n",
       "      <th>y</th>\n",
       "      <th>cap</th>\n",
       "      <th>floor</th>\n",
       "    </tr>\n",
       "  </thead>\n",
       "  <tbody>\n",
       "    <tr>\n",
       "      <th>0</th>\n",
       "      <td>2015-07-01 00:00:00</td>\n",
       "      <td>0.063063</td>\n",
       "      <td>1400</td>\n",
       "      <td>0</td>\n",
       "    </tr>\n",
       "    <tr>\n",
       "      <th>1</th>\n",
       "      <td>2015-07-01 01:00:00</td>\n",
       "      <td>0.047047</td>\n",
       "      <td>1400</td>\n",
       "      <td>0</td>\n",
       "    </tr>\n",
       "  </tbody>\n",
       "</table>\n",
       "</div>"
      ],
      "text/plain": [
       "                   ds         y   cap  floor\n",
       "0 2015-07-01 00:00:00  0.063063  1400      0\n",
       "1 2015-07-01 01:00:00  0.047047  1400      0"
      ]
     },
     "execution_count": 144,
     "metadata": {},
     "output_type": "execute_result"
    }
   ],
   "source": [
    "train_df_days_normalized2.head(2)"
   ]
  },
  {
   "cell_type": "code",
   "execution_count": 145,
   "metadata": {},
   "outputs": [],
   "source": [
    "prophetfmodel5 = Prophet(daily_seasonality=True, yearly_seasonality = True, weekly_seasonality = True)"
   ]
  },
  {
   "cell_type": "code",
   "execution_count": 146,
   "metadata": {},
   "outputs": [
    {
     "data": {
      "text/plain": [
       "<fbprophet.forecaster.Prophet at 0x7f8f84964c18>"
      ]
     },
     "execution_count": 146,
     "metadata": {},
     "output_type": "execute_result"
    }
   ],
   "source": [
    "prophetfmodel5.fit(train_df_days_normalized2)"
   ]
  },
  {
   "cell_type": "code",
   "execution_count": 148,
   "metadata": {},
   "outputs": [
    {
     "data": {
      "text/html": [
       "<div>\n",
       "<style scoped>\n",
       "    .dataframe tbody tr th:only-of-type {\n",
       "        vertical-align: middle;\n",
       "    }\n",
       "\n",
       "    .dataframe tbody tr th {\n",
       "        vertical-align: top;\n",
       "    }\n",
       "\n",
       "    .dataframe thead th {\n",
       "        text-align: right;\n",
       "    }\n",
       "</style>\n",
       "<table border=\"1\" class=\"dataframe\">\n",
       "  <thead>\n",
       "    <tr style=\"text-align: right;\">\n",
       "      <th></th>\n",
       "      <th>ds</th>\n",
       "    </tr>\n",
       "  </thead>\n",
       "  <tbody>\n",
       "    <tr>\n",
       "      <th>39478</th>\n",
       "      <td>2019-12-31 22:00:00</td>\n",
       "    </tr>\n",
       "    <tr>\n",
       "      <th>39479</th>\n",
       "      <td>2019-12-31 23:00:00</td>\n",
       "    </tr>\n",
       "  </tbody>\n",
       "</table>\n",
       "</div>"
      ],
      "text/plain": [
       "                       ds\n",
       "39478 2019-12-31 22:00:00\n",
       "39479 2019-12-31 23:00:00"
      ]
     },
     "execution_count": 148,
     "metadata": {},
     "output_type": "execute_result"
    }
   ],
   "source": [
    "# I can only do hourly or minute frequencies... https://pandas.pydata.org/pandas-docs/stable/user_guide/timeseries.html#timeseries-offset-aliases\n",
    "## Either I change the data to be hourly or I try minutes\n",
    "future5 = prophetfmodel5.make_future_dataframe(periods=test_df_length, freq='H')\n",
    "future5.tail(2)"
   ]
  },
  {
   "cell_type": "code",
   "execution_count": 350,
   "metadata": {},
   "outputs": [
    {
     "data": {
      "text/html": [
       "<div>\n",
       "<style scoped>\n",
       "    .dataframe tbody tr th:only-of-type {\n",
       "        vertical-align: middle;\n",
       "    }\n",
       "\n",
       "    .dataframe tbody tr th {\n",
       "        vertical-align: top;\n",
       "    }\n",
       "\n",
       "    .dataframe thead th {\n",
       "        text-align: right;\n",
       "    }\n",
       "</style>\n",
       "<table border=\"1\" class=\"dataframe\">\n",
       "  <thead>\n",
       "    <tr style=\"text-align: right;\">\n",
       "      <th></th>\n",
       "      <th>ds</th>\n",
       "      <th>yhat</th>\n",
       "      <th>yhat_lower</th>\n",
       "      <th>yhat_upper</th>\n",
       "    </tr>\n",
       "  </thead>\n",
       "  <tbody>\n",
       "    <tr>\n",
       "      <th>39478</th>\n",
       "      <td>2019-12-31 22:00:00</td>\n",
       "      <td>0.230197</td>\n",
       "      <td>0.073280</td>\n",
       "      <td>0.383115</td>\n",
       "    </tr>\n",
       "    <tr>\n",
       "      <th>39479</th>\n",
       "      <td>2019-12-31 23:00:00</td>\n",
       "      <td>0.203061</td>\n",
       "      <td>0.034813</td>\n",
       "      <td>0.347983</td>\n",
       "    </tr>\n",
       "  </tbody>\n",
       "</table>\n",
       "</div>"
      ],
      "text/plain": [
       "                       ds      yhat  yhat_lower  yhat_upper\n",
       "39478 2019-12-31 22:00:00  0.230197    0.073280    0.383115\n",
       "39479 2019-12-31 23:00:00  0.203061    0.034813    0.347983"
      ]
     },
     "execution_count": 350,
     "metadata": {},
     "output_type": "execute_result"
    }
   ],
   "source": [
    "forecast5 = prophetfmodel5.predict(future5)\n",
    "forecast5[['ds', 'yhat', 'yhat_lower', 'yhat_upper']].tail(2)"
   ]
  },
  {
   "cell_type": "code",
   "execution_count": 151,
   "metadata": {},
   "outputs": [],
   "source": [
    "# rescaled predictions\n",
    "orig5_predictions = forecast5['yhat'].values\n",
    "orig5_predictions_reshaped = orig5_predictions.reshape((len(orig5_predictions), 1))\n",
    "forecast5_rescaled_predictions = scaler2.inverse_transform(orig5_predictions_reshaped)"
   ]
  },
  {
   "cell_type": "code",
   "execution_count": 152,
   "metadata": {},
   "outputs": [
    {
     "data": {
      "text/plain": [
       "(39480, 1)"
      ]
     },
     "execution_count": 152,
     "metadata": {},
     "output_type": "execute_result"
    }
   ],
   "source": [
    "forecast5_rescaled_predictions.shape"
   ]
  },
  {
   "cell_type": "code",
   "execution_count": 153,
   "metadata": {},
   "outputs": [],
   "source": [
    "forecast5_reshaped = forecast5[-39480:].copy()"
   ]
  },
  {
   "cell_type": "code",
   "execution_count": 154,
   "metadata": {},
   "outputs": [
    {
     "data": {
      "text/plain": [
       "(39480, 22)"
      ]
     },
     "execution_count": 154,
     "metadata": {},
     "output_type": "execute_result"
    }
   ],
   "source": [
    "forecast5_reshaped.shape"
   ]
  },
  {
   "cell_type": "code",
   "execution_count": 155,
   "metadata": {},
   "outputs": [],
   "source": [
    "forecast5_reshaped['yhat'] = forecast5_rescaled_predictions"
   ]
  },
  {
   "cell_type": "code",
   "execution_count": 156,
   "metadata": {},
   "outputs": [
    {
     "data": {
      "text/plain": [
       "0    36.000000\n",
       "1    16.087564\n",
       "Name: yhat, dtype: float64"
      ]
     },
     "execution_count": 156,
     "metadata": {},
     "output_type": "execute_result"
    }
   ],
   "source": [
    "forecast5_reshaped['yhat'].head(2)"
   ]
  },
  {
   "cell_type": "markdown",
   "metadata": {},
   "source": [
    "### Standardization"
   ]
  },
  {
   "cell_type": "markdown",
   "metadata": {},
   "source": [
    "#### Does the data follow a gaussian distribution"
   ]
  },
  {
   "cell_type": "code",
   "execution_count": 157,
   "metadata": {},
   "outputs": [],
   "source": [
    "# sort data, then plot\n",
    "sorted_num_of_cars = sorted(hourly_values)"
   ]
  },
  {
   "cell_type": "code",
   "execution_count": 158,
   "metadata": {},
   "outputs": [
    {
     "data": {
      "text/plain": [
       "<matplotlib.axes._subplots.AxesSubplot at 0x7f90288ea9b0>"
      ]
     },
     "execution_count": 158,
     "metadata": {},
     "output_type": "execute_result"
    },
    {
     "data": {
      "image/png": "[encoded data removed]",
      "text/plain": [
       "<Figure size 432x288 with 1 Axes>"
      ]
     },
     "metadata": {
      "needs_background": "light"
     },
     "output_type": "display_data"
    }
   ],
   "source": [
    "# not really gaussian, so this won't work\n",
    "sns.kdeplot(sorted_num_of_cars)"
   ]
  },
  {
   "cell_type": "markdown",
   "metadata": {},
   "source": [
    "#### Testing For Normality"
   ]
  },
  {
   "cell_type": "code",
   "execution_count": 159,
   "metadata": {},
   "outputs": [
    {
     "data": {
      "text/plain": [
       "NormaltestResult(statistic=205744.88876666102, pvalue=0.0)"
      ]
     },
     "execution_count": 159,
     "metadata": {},
     "output_type": "execute_result"
    }
   ],
   "source": [
    "normaltest(sorted_num_of_cars, nan_policy='omit') # not normal"
   ]
  },
  {
   "cell_type": "markdown",
   "metadata": {},
   "source": [
    "### Power Transform"
   ]
  },
  {
   "cell_type": "code",
   "execution_count": 160,
   "metadata": {},
   "outputs": [],
   "source": [
    "hourly_values_power_transform = [np.log(x) for x in hourly_values]"
   ]
  },
  {
   "cell_type": "code",
   "execution_count": 161,
   "metadata": {},
   "outputs": [],
   "source": [
    "sorted_num_of_cars_power_transform = sorted(hourly_values_power_transform)"
   ]
  },
  {
   "cell_type": "code",
   "execution_count": 162,
   "metadata": {},
   "outputs": [
    {
     "data": {
      "text/plain": [
       "<matplotlib.axes._subplots.AxesSubplot at 0x7f8f837767f0>"
      ]
     },
     "execution_count": 162,
     "metadata": {},
     "output_type": "execute_result"
    },
    {
     "data": {
      "image/png": "[encoded data removed]",
      "text/plain": [
       "<Figure size 432x288 with 1 Axes>"
      ]
     },
     "metadata": {
      "needs_background": "light"
     },
     "output_type": "display_data"
    }
   ],
   "source": [
    "sns.kdeplot(sorted_num_of_cars_power_transform)"
   ]
  },
  {
   "cell_type": "code",
   "execution_count": 163,
   "metadata": {},
   "outputs": [
    {
     "data": {
      "text/plain": [
       "NormaltestResult(statistic=nan, pvalue=nan)"
      ]
     },
     "execution_count": 163,
     "metadata": {},
     "output_type": "execute_result"
    }
   ],
   "source": [
    "# since the p-value is very small, probably not from a normal distribution\n",
    "## https://stackoverflow.com/questions/12838993/scipy-normaltest-how-is-it-used\n",
    "normaltest(sorted_num_of_cars_power_transform, nan_policy='omit') # not normal"
   ]
  },
  {
   "cell_type": "markdown",
   "metadata": {},
   "source": [
    "### Adding Holidays to Linear Model"
   ]
  },
  {
   "cell_type": "markdown",
   "metadata": {},
   "source": [
    "#### Getting aussie holidays"
   ]
  },
  {
   "cell_type": "code",
   "execution_count": 164,
   "metadata": {},
   "outputs": [],
   "source": [
    "aus_holidays = holidays.CountryHoliday('AU', prov='NSW', years = [2015, 2016, 2017, 2018, 2019, 2020])"
   ]
  },
  {
   "cell_type": "code",
   "execution_count": 165,
   "metadata": {},
   "outputs": [
    {
     "data": {
      "text/plain": [
       "holidays.AU"
      ]
     },
     "execution_count": 165,
     "metadata": {},
     "output_type": "execute_result"
    }
   ],
   "source": [
    "type(aus_holidays)"
   ]
  },
  {
   "cell_type": "code",
   "execution_count": 166,
   "metadata": {},
   "outputs": [],
   "source": [
    "# for date, name in sorted(aus_holidays.items()):\n",
    "#     print(date, name)"
   ]
  },
  {
   "cell_type": "code",
   "execution_count": 167,
   "metadata": {},
   "outputs": [
    {
     "data": {
      "text/plain": [
       "True"
      ]
     },
     "execution_count": 167,
     "metadata": {},
     "output_type": "execute_result"
    }
   ],
   "source": [
    "datetime.date(2015, 1, 1) in aus_holidays"
   ]
  },
  {
   "cell_type": "code",
   "execution_count": 168,
   "metadata": {},
   "outputs": [],
   "source": [
    "# making into a df\n",
    "aus_holidays_df = pd.DataFrame.from_dict(aus_holidays, orient='index').reset_index()"
   ]
  },
  {
   "cell_type": "code",
   "execution_count": 169,
   "metadata": {},
   "outputs": [],
   "source": [
    "aus_holidays_df.columns = ['ds', 'holiday']"
   ]
  },
  {
   "cell_type": "code",
   "execution_count": 170,
   "metadata": {},
   "outputs": [],
   "source": [
    "aus_holidays_df['lower_window'] = -1\n",
    "aus_holidays_df['upper_window'] = 1"
   ]
  },
  {
   "cell_type": "code",
   "execution_count": 171,
   "metadata": {
    "code_folding": [
     1,
     11
    ]
   },
   "outputs": [],
   "source": [
    "# fbprophet's example \n",
    "playoffs = pd.DataFrame({\n",
    "  'holiday': 'playoff',\n",
    "  'ds': pd.to_datetime(['2008-01-13', '2009-01-03', '2010-01-16',\n",
    "                        '2010-01-24', '2010-02-07', '2011-01-08',\n",
    "                        '2013-01-12', '2014-01-12', '2014-01-19',\n",
    "                        '2014-02-02', '2015-01-11', '2016-01-17',\n",
    "                        '2016-01-24', '2016-02-07']),\n",
    "  'lower_window': 0,\n",
    "  'upper_window': 1,\n",
    "})\n",
    "superbowls = pd.DataFrame({\n",
    "  'holiday': 'superbowl',\n",
    "  'ds': pd.to_datetime(['2010-02-07', '2014-02-02', '2016-02-07']),\n",
    "  'lower_window': 0,\n",
    "  'upper_window': 1,\n",
    "})\n",
    "holidays = pd.concat((playoffs, superbowls))"
   ]
  },
  {
   "cell_type": "code",
   "execution_count": 172,
   "metadata": {},
   "outputs": [
    {
     "data": {
      "text/html": [
       "<div>\n",
       "<style scoped>\n",
       "    .dataframe tbody tr th:only-of-type {\n",
       "        vertical-align: middle;\n",
       "    }\n",
       "\n",
       "    .dataframe tbody tr th {\n",
       "        vertical-align: top;\n",
       "    }\n",
       "\n",
       "    .dataframe thead th {\n",
       "        text-align: right;\n",
       "    }\n",
       "</style>\n",
       "<table border=\"1\" class=\"dataframe\">\n",
       "  <thead>\n",
       "    <tr style=\"text-align: right;\">\n",
       "      <th></th>\n",
       "      <th>holiday</th>\n",
       "      <th>ds</th>\n",
       "      <th>lower_window</th>\n",
       "      <th>upper_window</th>\n",
       "    </tr>\n",
       "  </thead>\n",
       "  <tbody>\n",
       "    <tr>\n",
       "      <th>0</th>\n",
       "      <td>playoff</td>\n",
       "      <td>2008-01-13</td>\n",
       "      <td>0</td>\n",
       "      <td>1</td>\n",
       "    </tr>\n",
       "    <tr>\n",
       "      <th>1</th>\n",
       "      <td>playoff</td>\n",
       "      <td>2009-01-03</td>\n",
       "      <td>0</td>\n",
       "      <td>1</td>\n",
       "    </tr>\n",
       "  </tbody>\n",
       "</table>\n",
       "</div>"
      ],
      "text/plain": [
       "   holiday         ds  lower_window  upper_window\n",
       "0  playoff 2008-01-13             0             1\n",
       "1  playoff 2009-01-03             0             1"
      ]
     },
     "execution_count": 172,
     "metadata": {},
     "output_type": "execute_result"
    }
   ],
   "source": [
    "holidays.head(2)"
   ]
  },
  {
   "cell_type": "markdown",
   "metadata": {},
   "source": [
    "#### Model 6"
   ]
  },
  {
   "cell_type": "code",
   "execution_count": 173,
   "metadata": {},
   "outputs": [],
   "source": [
    "prophetfmodel6 = Prophet(daily_seasonality=True, yearly_seasonality = True, weekly_seasonality = True, \n",
    "                         holidays=aus_holidays_df)"
   ]
  },
  {
   "cell_type": "code",
   "execution_count": 174,
   "metadata": {},
   "outputs": [
    {
     "data": {
      "text/plain": [
       "<fbprophet.forecaster.Prophet at 0x7f8f863eeba8>"
      ]
     },
     "execution_count": 174,
     "metadata": {},
     "output_type": "execute_result"
    }
   ],
   "source": [
    "prophetfmodel6.fit(fb_prophet_train_df)"
   ]
  },
  {
   "cell_type": "code",
   "execution_count": 175,
   "metadata": {},
   "outputs": [],
   "source": [
    "six_month = (24 * 7)\n",
    "test_df_length = len(test_df_hourly)"
   ]
  },
  {
   "cell_type": "code",
   "execution_count": 176,
   "metadata": {},
   "outputs": [
    {
     "data": {
      "text/html": [
       "<div>\n",
       "<style scoped>\n",
       "    .dataframe tbody tr th:only-of-type {\n",
       "        vertical-align: middle;\n",
       "    }\n",
       "\n",
       "    .dataframe tbody tr th {\n",
       "        vertical-align: top;\n",
       "    }\n",
       "\n",
       "    .dataframe thead th {\n",
       "        text-align: right;\n",
       "    }\n",
       "</style>\n",
       "<table border=\"1\" class=\"dataframe\">\n",
       "  <thead>\n",
       "    <tr style=\"text-align: right;\">\n",
       "      <th></th>\n",
       "      <th>ds</th>\n",
       "    </tr>\n",
       "  </thead>\n",
       "  <tbody>\n",
       "    <tr>\n",
       "      <th>39475</th>\n",
       "      <td>2019-12-31 19:00:00</td>\n",
       "    </tr>\n",
       "    <tr>\n",
       "      <th>39476</th>\n",
       "      <td>2019-12-31 20:00:00</td>\n",
       "    </tr>\n",
       "    <tr>\n",
       "      <th>39477</th>\n",
       "      <td>2019-12-31 21:00:00</td>\n",
       "    </tr>\n",
       "    <tr>\n",
       "      <th>39478</th>\n",
       "      <td>2019-12-31 22:00:00</td>\n",
       "    </tr>\n",
       "    <tr>\n",
       "      <th>39479</th>\n",
       "      <td>2019-12-31 23:00:00</td>\n",
       "    </tr>\n",
       "  </tbody>\n",
       "</table>\n",
       "</div>"
      ],
      "text/plain": [
       "                       ds\n",
       "39475 2019-12-31 19:00:00\n",
       "39476 2019-12-31 20:00:00\n",
       "39477 2019-12-31 21:00:00\n",
       "39478 2019-12-31 22:00:00\n",
       "39479 2019-12-31 23:00:00"
      ]
     },
     "execution_count": 176,
     "metadata": {},
     "output_type": "execute_result"
    }
   ],
   "source": [
    "# I can only do hourly or minute frequencies... https://pandas.pydata.org/pandas-docs/stable/user_guide/timeseries.html#timeseries-offset-aliases\n",
    "## Either I change the data to be hourly or I try minutes\n",
    "future6 = prophetfmodel6.make_future_dataframe(periods=test_df_length, freq='H')\n",
    "future6.tail()"
   ]
  },
  {
   "cell_type": "code",
   "execution_count": 177,
   "metadata": {},
   "outputs": [
    {
     "data": {
      "text/html": [
       "<div>\n",
       "<style scoped>\n",
       "    .dataframe tbody tr th:only-of-type {\n",
       "        vertical-align: middle;\n",
       "    }\n",
       "\n",
       "    .dataframe tbody tr th {\n",
       "        vertical-align: top;\n",
       "    }\n",
       "\n",
       "    .dataframe thead th {\n",
       "        text-align: right;\n",
       "    }\n",
       "</style>\n",
       "<table border=\"1\" class=\"dataframe\">\n",
       "  <thead>\n",
       "    <tr style=\"text-align: right;\">\n",
       "      <th></th>\n",
       "      <th>ds</th>\n",
       "      <th>yhat</th>\n",
       "      <th>yhat_lower</th>\n",
       "      <th>yhat_upper</th>\n",
       "    </tr>\n",
       "  </thead>\n",
       "  <tbody>\n",
       "    <tr>\n",
       "      <th>39475</th>\n",
       "      <td>2019-12-31 19:00:00</td>\n",
       "      <td>677.892929</td>\n",
       "      <td>508.311053</td>\n",
       "      <td>857.695017</td>\n",
       "    </tr>\n",
       "    <tr>\n",
       "      <th>39476</th>\n",
       "      <td>2019-12-31 20:00:00</td>\n",
       "      <td>464.442972</td>\n",
       "      <td>301.792693</td>\n",
       "      <td>633.077979</td>\n",
       "    </tr>\n",
       "    <tr>\n",
       "      <th>39477</th>\n",
       "      <td>2019-12-31 21:00:00</td>\n",
       "      <td>274.673677</td>\n",
       "      <td>113.965132</td>\n",
       "      <td>434.841436</td>\n",
       "    </tr>\n",
       "    <tr>\n",
       "      <th>39478</th>\n",
       "      <td>2019-12-31 22:00:00</td>\n",
       "      <td>165.514624</td>\n",
       "      <td>-15.783753</td>\n",
       "      <td>348.146452</td>\n",
       "    </tr>\n",
       "    <tr>\n",
       "      <th>39479</th>\n",
       "      <td>2019-12-31 23:00:00</td>\n",
       "      <td>123.025359</td>\n",
       "      <td>-59.304084</td>\n",
       "      <td>301.796443</td>\n",
       "    </tr>\n",
       "  </tbody>\n",
       "</table>\n",
       "</div>"
      ],
      "text/plain": [
       "                       ds        yhat  yhat_lower  yhat_upper\n",
       "39475 2019-12-31 19:00:00  677.892929  508.311053  857.695017\n",
       "39476 2019-12-31 20:00:00  464.442972  301.792693  633.077979\n",
       "39477 2019-12-31 21:00:00  274.673677  113.965132  434.841436\n",
       "39478 2019-12-31 22:00:00  165.514624  -15.783753  348.146452\n",
       "39479 2019-12-31 23:00:00  123.025359  -59.304084  301.796443"
      ]
     },
     "execution_count": 177,
     "metadata": {},
     "output_type": "execute_result"
    }
   ],
   "source": [
    "forecast6 = prophetfmodel6.predict(future6)\n",
    "forecast6[['ds', 'yhat', 'yhat_lower', 'yhat_upper']].tail()"
   ]
  },
  {
   "cell_type": "code",
   "execution_count": 178,
   "metadata": {},
   "outputs": [
    {
     "data": {
      "text/html": [
       "<div>\n",
       "<style scoped>\n",
       "    .dataframe tbody tr th:only-of-type {\n",
       "        vertical-align: middle;\n",
       "    }\n",
       "\n",
       "    .dataframe tbody tr th {\n",
       "        vertical-align: top;\n",
       "    }\n",
       "\n",
       "    .dataframe thead th {\n",
       "        text-align: right;\n",
       "    }\n",
       "</style>\n",
       "<table border=\"1\" class=\"dataframe\">\n",
       "  <thead>\n",
       "    <tr style=\"text-align: right;\">\n",
       "      <th></th>\n",
       "      <th>ds</th>\n",
       "      <th>trend</th>\n",
       "      <th>yhat_lower</th>\n",
       "      <th>yhat_upper</th>\n",
       "      <th>trend_lower</th>\n",
       "      <th>trend_upper</th>\n",
       "      <th>Anzac Day</th>\n",
       "      <th>Anzac Day_lower</th>\n",
       "      <th>Anzac Day_upper</th>\n",
       "      <th>Australia Day</th>\n",
       "      <th>...</th>\n",
       "      <th>weekly</th>\n",
       "      <th>weekly_lower</th>\n",
       "      <th>weekly_upper</th>\n",
       "      <th>yearly</th>\n",
       "      <th>yearly_lower</th>\n",
       "      <th>yearly_upper</th>\n",
       "      <th>multiplicative_terms</th>\n",
       "      <th>multiplicative_terms_lower</th>\n",
       "      <th>multiplicative_terms_upper</th>\n",
       "      <th>yhat</th>\n",
       "    </tr>\n",
       "  </thead>\n",
       "  <tbody>\n",
       "    <tr>\n",
       "      <th>0</th>\n",
       "      <td>2015-07-01 00:00:00</td>\n",
       "      <td>509.357045</td>\n",
       "      <td>-123.600755</td>\n",
       "      <td>228.488914</td>\n",
       "      <td>509.357045</td>\n",
       "      <td>509.357045</td>\n",
       "      <td>0.0</td>\n",
       "      <td>0.0</td>\n",
       "      <td>0.0</td>\n",
       "      <td>0.0</td>\n",
       "      <td>...</td>\n",
       "      <td>4.210386</td>\n",
       "      <td>4.210386</td>\n",
       "      <td>4.210386</td>\n",
       "      <td>-26.361988</td>\n",
       "      <td>-26.361988</td>\n",
       "      <td>-26.361988</td>\n",
       "      <td>0.0</td>\n",
       "      <td>0.0</td>\n",
       "      <td>0.0</td>\n",
       "      <td>55.656750</td>\n",
       "    </tr>\n",
       "    <tr>\n",
       "      <th>1</th>\n",
       "      <td>2015-07-01 01:00:00</td>\n",
       "      <td>509.358393</td>\n",
       "      <td>-182.732549</td>\n",
       "      <td>166.130395</td>\n",
       "      <td>509.358393</td>\n",
       "      <td>509.358393</td>\n",
       "      <td>0.0</td>\n",
       "      <td>0.0</td>\n",
       "      <td>0.0</td>\n",
       "      <td>0.0</td>\n",
       "      <td>...</td>\n",
       "      <td>5.357728</td>\n",
       "      <td>5.357728</td>\n",
       "      <td>5.357728</td>\n",
       "      <td>-26.414452</td>\n",
       "      <td>-26.414452</td>\n",
       "      <td>-26.414452</td>\n",
       "      <td>0.0</td>\n",
       "      <td>0.0</td>\n",
       "      <td>0.0</td>\n",
       "      <td>-13.361854</td>\n",
       "    </tr>\n",
       "  </tbody>\n",
       "</table>\n",
       "<p>2 rows × 73 columns</p>\n",
       "</div>"
      ],
      "text/plain": [
       "                   ds       trend  yhat_lower  yhat_upper  trend_lower  \\\n",
       "0 2015-07-01 00:00:00  509.357045 -123.600755  228.488914   509.357045   \n",
       "1 2015-07-01 01:00:00  509.358393 -182.732549  166.130395   509.358393   \n",
       "\n",
       "   trend_upper  Anzac Day  Anzac Day_lower  Anzac Day_upper  Australia Day  \\\n",
       "0   509.357045        0.0              0.0              0.0            0.0   \n",
       "1   509.358393        0.0              0.0              0.0            0.0   \n",
       "\n",
       "   ...    weekly  weekly_lower  weekly_upper     yearly  yearly_lower  \\\n",
       "0  ...  4.210386      4.210386      4.210386 -26.361988    -26.361988   \n",
       "1  ...  5.357728      5.357728      5.357728 -26.414452    -26.414452   \n",
       "\n",
       "   yearly_upper  multiplicative_terms  multiplicative_terms_lower  \\\n",
       "0    -26.361988                   0.0                         0.0   \n",
       "1    -26.414452                   0.0                         0.0   \n",
       "\n",
       "   multiplicative_terms_upper       yhat  \n",
       "0                         0.0  55.656750  \n",
       "1                         0.0 -13.361854  \n",
       "\n",
       "[2 rows x 73 columns]"
      ]
     },
     "execution_count": 178,
     "metadata": {},
     "output_type": "execute_result"
    }
   ],
   "source": [
    "forecast6.head(2)"
   ]
  },
  {
   "cell_type": "markdown",
   "metadata": {},
   "source": [
    "#### Plotting components"
   ]
  },
  {
   "cell_type": "code",
   "execution_count": 180,
   "metadata": {},
   "outputs": [
    {
     "data": {
      "image/png": "[encoded data removed]",
      "text/plain": [
       "<Figure size 648x1080 with 5 Axes>"
      ]
     },
     "metadata": {},
     "output_type": "display_data"
    }
   ],
   "source": [
    "component_fig2 = prophetfmodel6.plot_components(forecast6)"
   ]
  },
  {
   "cell_type": "markdown",
   "metadata": {},
   "source": [
    "### Logistic model with holidays"
   ]
  },
  {
   "cell_type": "code",
   "execution_count": 181,
   "metadata": {},
   "outputs": [],
   "source": [
    "prophetfmodel7 = Prophet(growth='logistic', daily_seasonality=True, yearly_seasonality = True, \n",
    "                         weekly_seasonality = True, holidays=aus_holidays_df)"
   ]
  },
  {
   "cell_type": "code",
   "execution_count": 182,
   "metadata": {},
   "outputs": [
    {
     "data": {
      "text/plain": [
       "<fbprophet.forecaster.Prophet at 0x7f8f84c70b00>"
      ]
     },
     "execution_count": 182,
     "metadata": {},
     "output_type": "execute_result"
    }
   ],
   "source": [
    "prophetfmodel7.fit(fb_prophet_train_df)"
   ]
  },
  {
   "cell_type": "code",
   "execution_count": 184,
   "metadata": {},
   "outputs": [],
   "source": [
    "# I can only do hourly or minute frequencies... https://pandas.pydata.org/pandas-docs/stable/user_guide/timeseries.html#timeseries-offset-aliases\n",
    "## Either I change the data to be hourly or I try minutes\n",
    "future7 = prophetfmodel7.make_future_dataframe(periods=test_df_length, freq='H')\n",
    "future7.tail(2)\n",
    "future7['floor'] = 0\n",
    "future7['cap'] = 1400"
   ]
  },
  {
   "cell_type": "code",
   "execution_count": 185,
   "metadata": {},
   "outputs": [
    {
     "data": {
      "text/html": [
       "<div>\n",
       "<style scoped>\n",
       "    .dataframe tbody tr th:only-of-type {\n",
       "        vertical-align: middle;\n",
       "    }\n",
       "\n",
       "    .dataframe tbody tr th {\n",
       "        vertical-align: top;\n",
       "    }\n",
       "\n",
       "    .dataframe thead th {\n",
       "        text-align: right;\n",
       "    }\n",
       "</style>\n",
       "<table border=\"1\" class=\"dataframe\">\n",
       "  <thead>\n",
       "    <tr style=\"text-align: right;\">\n",
       "      <th></th>\n",
       "      <th>ds</th>\n",
       "      <th>yhat</th>\n",
       "      <th>yhat_lower</th>\n",
       "      <th>yhat_upper</th>\n",
       "    </tr>\n",
       "  </thead>\n",
       "  <tbody>\n",
       "    <tr>\n",
       "      <th>39475</th>\n",
       "      <td>2019-12-31 19:00:00</td>\n",
       "      <td>672.524763</td>\n",
       "      <td>505.761995</td>\n",
       "      <td>845.845873</td>\n",
       "    </tr>\n",
       "    <tr>\n",
       "      <th>39476</th>\n",
       "      <td>2019-12-31 20:00:00</td>\n",
       "      <td>459.073091</td>\n",
       "      <td>295.143964</td>\n",
       "      <td>623.320182</td>\n",
       "    </tr>\n",
       "    <tr>\n",
       "      <th>39477</th>\n",
       "      <td>2019-12-31 21:00:00</td>\n",
       "      <td>269.302299</td>\n",
       "      <td>95.031387</td>\n",
       "      <td>443.801427</td>\n",
       "    </tr>\n",
       "    <tr>\n",
       "      <th>39478</th>\n",
       "      <td>2019-12-31 22:00:00</td>\n",
       "      <td>160.142154</td>\n",
       "      <td>-27.260302</td>\n",
       "      <td>336.473314</td>\n",
       "    </tr>\n",
       "    <tr>\n",
       "      <th>39479</th>\n",
       "      <td>2019-12-31 23:00:00</td>\n",
       "      <td>117.652169</td>\n",
       "      <td>-55.944426</td>\n",
       "      <td>304.424394</td>\n",
       "    </tr>\n",
       "  </tbody>\n",
       "</table>\n",
       "</div>"
      ],
      "text/plain": [
       "                       ds        yhat  yhat_lower  yhat_upper\n",
       "39475 2019-12-31 19:00:00  672.524763  505.761995  845.845873\n",
       "39476 2019-12-31 20:00:00  459.073091  295.143964  623.320182\n",
       "39477 2019-12-31 21:00:00  269.302299   95.031387  443.801427\n",
       "39478 2019-12-31 22:00:00  160.142154  -27.260302  336.473314\n",
       "39479 2019-12-31 23:00:00  117.652169  -55.944426  304.424394"
      ]
     },
     "execution_count": 185,
     "metadata": {},
     "output_type": "execute_result"
    }
   ],
   "source": [
    "# basically same predictions as before \n",
    "forecast7 = prophetfmodel7.predict(future7)\n",
    "forecast7[['ds', 'yhat', 'yhat_lower', 'yhat_upper']].tail()"
   ]
  },
  {
   "cell_type": "code",
   "execution_count": 186,
   "metadata": {},
   "outputs": [
    {
     "data": {
      "text/plain": [
       "22"
      ]
     },
     "execution_count": 186,
     "metadata": {},
     "output_type": "execute_result"
    }
   ],
   "source": [
    "len(forecast.columns)"
   ]
  },
  {
   "cell_type": "code",
   "execution_count": 187,
   "metadata": {},
   "outputs": [
    {
     "data": {
      "image/png": "[encoded data removed]",
      "text/plain": [
       "<Figure size 720x432 with 1 Axes>"
      ]
     },
     "metadata": {},
     "output_type": "display_data"
    }
   ],
   "source": [
    "fig7 = prophetfmodel7.plot(forecast7)"
   ]
  },
  {
   "cell_type": "markdown",
   "metadata": {},
   "source": [
    "### Normalization and Holidays Model"
   ]
  },
  {
   "cell_type": "code",
   "execution_count": 188,
   "metadata": {},
   "outputs": [],
   "source": [
    "prophetfmodel8 = Prophet(daily_seasonality=True, yearly_seasonality = True, weekly_seasonality = True,\n",
    "                        holidays = aus_holidays_df)"
   ]
  },
  {
   "cell_type": "code",
   "execution_count": 189,
   "metadata": {},
   "outputs": [
    {
     "data": {
      "text/plain": [
       "<fbprophet.forecaster.Prophet at 0x7f90289c7d30>"
      ]
     },
     "execution_count": 189,
     "metadata": {},
     "output_type": "execute_result"
    }
   ],
   "source": [
    "prophetfmodel8.fit(train_df_days_normalized)"
   ]
  },
  {
   "cell_type": "code",
   "execution_count": 191,
   "metadata": {},
   "outputs": [
    {
     "data": {
      "text/html": [
       "<div>\n",
       "<style scoped>\n",
       "    .dataframe tbody tr th:only-of-type {\n",
       "        vertical-align: middle;\n",
       "    }\n",
       "\n",
       "    .dataframe tbody tr th {\n",
       "        vertical-align: top;\n",
       "    }\n",
       "\n",
       "    .dataframe thead th {\n",
       "        text-align: right;\n",
       "    }\n",
       "</style>\n",
       "<table border=\"1\" class=\"dataframe\">\n",
       "  <thead>\n",
       "    <tr style=\"text-align: right;\">\n",
       "      <th></th>\n",
       "      <th>ds</th>\n",
       "    </tr>\n",
       "  </thead>\n",
       "  <tbody>\n",
       "    <tr>\n",
       "      <th>39478</th>\n",
       "      <td>2019-12-31 22:00:00</td>\n",
       "    </tr>\n",
       "    <tr>\n",
       "      <th>39479</th>\n",
       "      <td>2019-12-31 23:00:00</td>\n",
       "    </tr>\n",
       "  </tbody>\n",
       "</table>\n",
       "</div>"
      ],
      "text/plain": [
       "                       ds\n",
       "39478 2019-12-31 22:00:00\n",
       "39479 2019-12-31 23:00:00"
      ]
     },
     "execution_count": 191,
     "metadata": {},
     "output_type": "execute_result"
    }
   ],
   "source": [
    "# I can only do hourly or minute frequencies... https://pandas.pydata.org/pandas-docs/stable/user_guide/timeseries.html#timeseries-offset-aliases\n",
    "## Either I change the data to be hourly or I try minutes\n",
    "future8 = prophetfmodel8.make_future_dataframe(periods=test_df_length, freq='H')\n",
    "future8.tail(2)"
   ]
  },
  {
   "cell_type": "code",
   "execution_count": 349,
   "metadata": {},
   "outputs": [
    {
     "data": {
      "text/html": [
       "<div>\n",
       "<style scoped>\n",
       "    .dataframe tbody tr th:only-of-type {\n",
       "        vertical-align: middle;\n",
       "    }\n",
       "\n",
       "    .dataframe tbody tr th {\n",
       "        vertical-align: top;\n",
       "    }\n",
       "\n",
       "    .dataframe thead th {\n",
       "        text-align: right;\n",
       "    }\n",
       "</style>\n",
       "<table border=\"1\" class=\"dataframe\">\n",
       "  <thead>\n",
       "    <tr style=\"text-align: right;\">\n",
       "      <th></th>\n",
       "      <th>ds</th>\n",
       "      <th>yhat</th>\n",
       "      <th>yhat_lower</th>\n",
       "      <th>yhat_upper</th>\n",
       "    </tr>\n",
       "  </thead>\n",
       "  <tbody>\n",
       "    <tr>\n",
       "      <th>39478</th>\n",
       "      <td>2019-12-31 22:00:00</td>\n",
       "      <td>0.122535</td>\n",
       "      <td>-0.004950</td>\n",
       "      <td>0.248829</td>\n",
       "    </tr>\n",
       "    <tr>\n",
       "      <th>39479</th>\n",
       "      <td>2019-12-31 23:00:00</td>\n",
       "      <td>0.091271</td>\n",
       "      <td>-0.037007</td>\n",
       "      <td>0.222239</td>\n",
       "    </tr>\n",
       "  </tbody>\n",
       "</table>\n",
       "</div>"
      ],
      "text/plain": [
       "                       ds      yhat  yhat_lower  yhat_upper\n",
       "39478 2019-12-31 22:00:00  0.122535   -0.004950    0.248829\n",
       "39479 2019-12-31 23:00:00  0.091271   -0.037007    0.222239"
      ]
     },
     "execution_count": 349,
     "metadata": {},
     "output_type": "execute_result"
    }
   ],
   "source": [
    "forecast8 = prophetfmodel8.predict(future8)\n",
    "forecast8[['ds', 'yhat', 'yhat_lower', 'yhat_upper']].tail(2)"
   ]
  },
  {
   "cell_type": "code",
   "execution_count": 194,
   "metadata": {},
   "outputs": [],
   "source": [
    "# rescaled predictions\n",
    "orig8_predictions = forecast8['yhat'].values\n",
    "orig8_predictions_reshaped = orig8_predictions.reshape((len(orig8_predictions), 1))\n",
    "forecast8_rescaled_predictions = scaler.inverse_transform(orig8_predictions_reshaped)"
   ]
  },
  {
   "cell_type": "code",
   "execution_count": 195,
   "metadata": {},
   "outputs": [
    {
     "data": {
      "text/plain": [
       "(39480, 1)"
      ]
     },
     "execution_count": 195,
     "metadata": {},
     "output_type": "execute_result"
    }
   ],
   "source": [
    "forecast8_rescaled_predictions.shape"
   ]
  },
  {
   "cell_type": "code",
   "execution_count": 196,
   "metadata": {},
   "outputs": [],
   "source": [
    "forecast8_reshaped = forecast8[-39480:].copy()"
   ]
  },
  {
   "cell_type": "code",
   "execution_count": 197,
   "metadata": {},
   "outputs": [
    {
     "data": {
      "text/plain": [
       "(39480, 73)"
      ]
     },
     "execution_count": 197,
     "metadata": {},
     "output_type": "execute_result"
    }
   ],
   "source": [
    "forecast8_reshaped.shape"
   ]
  },
  {
   "cell_type": "code",
   "execution_count": 198,
   "metadata": {},
   "outputs": [],
   "source": [
    "forecast8_reshaped['yhat'] = forecast8_rescaled_predictions"
   ]
  },
  {
   "cell_type": "markdown",
   "metadata": {},
   "source": [
    "# LSTM Model"
   ]
  },
  {
   "cell_type": "markdown",
   "metadata": {},
   "source": [
    "## Transform Data"
   ]
  },
  {
   "cell_type": "code",
   "execution_count": 45,
   "metadata": {},
   "outputs": [],
   "source": [
    "def add_features_for_LSTM(df):\n",
    "    df['month']=[i.month for i in df['Date_IntervalStart']]\n",
    "    df['day']=[i.day for i in df['Date_IntervalStart']]\n",
    "    df[\"hour\"]=[i.hour for i in df['Date_IntervalStart']]\n",
    "    df['target']=df['TotalVolume']\n",
    "    df=df.drop(columns=['TotalVolume','Date_IntervalStart'])\n",
    "    return df"
   ]
  },
  {
   "cell_type": "code",
   "execution_count": 47,
   "metadata": {},
   "outputs": [],
   "source": [
    "test_df_LSTM = add_features_for_LSTM(test_df_hourly)"
   ]
  },
  {
   "cell_type": "code",
   "execution_count": 48,
   "metadata": {},
   "outputs": [],
   "source": [
    "train_df.reset_index(inplace=True)\n",
    "train_df_LSTM = add_features_for_LSTM(train_df)\n",
    "# train_df_LSTM.drop(columns = ['index'])"
   ]
  },
  {
   "cell_type": "code",
   "execution_count": 51,
   "metadata": {},
   "outputs": [
    {
     "data": {
      "text/html": [
       "<div>\n",
       "<style scoped>\n",
       "    .dataframe tbody tr th:only-of-type {\n",
       "        vertical-align: middle;\n",
       "    }\n",
       "\n",
       "    .dataframe tbody tr th {\n",
       "        vertical-align: top;\n",
       "    }\n",
       "\n",
       "    .dataframe thead th {\n",
       "        text-align: right;\n",
       "    }\n",
       "</style>\n",
       "<table border=\"1\" class=\"dataframe\">\n",
       "  <thead>\n",
       "    <tr style=\"text-align: right;\">\n",
       "      <th></th>\n",
       "      <th>month</th>\n",
       "      <th>day</th>\n",
       "      <th>hour</th>\n",
       "      <th>target</th>\n",
       "    </tr>\n",
       "  </thead>\n",
       "  <tbody>\n",
       "    <tr>\n",
       "      <th>0</th>\n",
       "      <td>12</td>\n",
       "      <td>1</td>\n",
       "      <td>0</td>\n",
       "      <td>6</td>\n",
       "    </tr>\n",
       "    <tr>\n",
       "      <th>1</th>\n",
       "      <td>12</td>\n",
       "      <td>1</td>\n",
       "      <td>0</td>\n",
       "      <td>5</td>\n",
       "    </tr>\n",
       "  </tbody>\n",
       "</table>\n",
       "</div>"
      ],
      "text/plain": [
       "   month  day  hour  target\n",
       "0     12    1     0       6\n",
       "1     12    1     0       5"
      ]
     },
     "execution_count": 51,
     "metadata": {},
     "output_type": "execute_result"
    }
   ],
   "source": [
    "train_df_LSTM.head(2)"
   ]
  },
  {
   "cell_type": "markdown",
   "metadata": {},
   "source": [
    "## Reshape Data"
   ]
  },
  {
   "cell_type": "code",
   "execution_count": 52,
   "metadata": {
    "code_folding": []
   },
   "outputs": [],
   "source": [
    "# Code Source: https://machinelearningmastery.com/multivariate-time-series-forecasting-lstms-keras/\n",
    "# convert series to supervised learning\n",
    "def series_to_supervised(data, n_in=1, n_out=1, dropnan=True):\n",
    "    n_vars = 1 if type(data) is list else data.shape[1]\n",
    "    df = pd.DataFrame(data)\n",
    "    cols, names = list(), list()\n",
    "    # input sequence (t-n, ... t-1)\n",
    "    for i in range(n_in, 0, -1):\n",
    "        cols.append(df.shift(i))\n",
    "        names += [('var%d(t-%d)' % (j+1, i)) for j in range(n_vars)]\n",
    "    # forecast sequence (t, t+1, ... t+n)\n",
    "    for i in range(0, n_out):\n",
    "        cols.append(df.shift(-i))\n",
    "        if i == 0:\n",
    "            names += [('var%d(t)' % (j+1)) for j in range(n_vars)]\n",
    "        else:\n",
    "            names += [('var%d(t+%d)' % (j+1, i)) for j in range(n_vars)]\n",
    "    # put it all together\n",
    "    agg = pd.concat(cols, axis=1)\n",
    "    agg.columns = names\n",
    "    # drop rows with NaN values\n",
    "    if dropnan:\n",
    "        agg.dropna(inplace=True)\n",
    "    return agg\n",
    "\n",
    "# create the reshape function\n",
    "def reshape_data(train,test):\n",
    "    #Frame as supervised learning and drop all time t columns except PM2.5\n",
    "    reframed_train = series_to_supervised(train, 1, 1)\n",
    "    reframed_test = series_to_supervised(test, 1, 1)\n",
    "    # split into train and test sets\n",
    "    train= reframed_train.values\n",
    "    test=reframed_test.values\n",
    "    # split into input and outputs\n",
    "    train_X, y_train = train[:, :-1], train[:, -1]\n",
    "    test_X, y_test = test[:, :-1], test[:, -1]\n",
    "    # reshape input to be 3D [samples, timesteps, features]\n",
    "    x_train = train_X.reshape((train_X.shape[0], 1, train_X.shape[1]))\n",
    "    x_test = test_X.reshape((test_X.shape[0], 1, test_X.shape[1]))\n",
    "    return x_train,x_test,y_train,y_test"
   ]
  },
  {
   "cell_type": "code",
   "execution_count": 53,
   "metadata": {},
   "outputs": [],
   "source": [
    "# using the function to obtain reshaped x_train,x_test,y_train,y_test\n",
    "x_train,x_test,y_train,y_test=reshape_data(train_df_LSTM,test_df_LSTM)"
   ]
  },
  {
   "cell_type": "markdown",
   "metadata": {},
   "source": [
    "## Running Model"
   ]
  },
  {
   "cell_type": "code",
   "execution_count": 58,
   "metadata": {
    "scrolled": true
   },
   "outputs": [
    {
     "name": "stdout",
     "output_type": "stream",
     "text": [
      "Epoch 1/25\n",
      "138840/138840 [==============================] - 6s 41us/step - loss: 954.6087\n",
      "Epoch 2/25\n",
      "138840/138840 [==============================] - 5s 39us/step - loss: 455.2353\n",
      "Epoch 3/25\n",
      "138840/138840 [==============================] - 6s 41us/step - loss: 455.2521\n",
      "Epoch 4/25\n",
      "138840/138840 [==============================] - 6s 40us/step - loss: 453.9697\n",
      "Epoch 5/25\n",
      "138840/138840 [==============================] - 6s 41us/step - loss: 453.9217\n",
      "Epoch 6/25\n",
      "138840/138840 [==============================] - 6s 40us/step - loss: 456.4333\n",
      "Epoch 7/25\n",
      "138840/138840 [==============================] - 6s 41us/step - loss: 453.0464\n",
      "Epoch 8/25\n",
      "138840/138840 [==============================] - 6s 41us/step - loss: 453.5268\n",
      "Epoch 9/25\n",
      "138840/138840 [==============================] - 6s 41us/step - loss: 451.7197\n",
      "Epoch 10/25\n",
      "138840/138840 [==============================] - 6s 41us/step - loss: 449.5758\n",
      "Epoch 11/25\n",
      "138840/138840 [==============================] - 6s 42us/step - loss: 447.9301\n",
      "Epoch 12/25\n",
      "138840/138840 [==============================] - 6s 42us/step - loss: 448.4797\n",
      "Epoch 13/25\n",
      "138840/138840 [==============================] - 6s 42us/step - loss: 446.3796\n",
      "Epoch 14/25\n",
      "138840/138840 [==============================] - 6s 42us/step - loss: 442.2670\n",
      "Epoch 15/25\n",
      "138840/138840 [==============================] - 6s 42us/step - loss: 442.5917\n",
      "Epoch 16/25\n",
      "138840/138840 [==============================] - 6s 43us/step - loss: 441.7671\n",
      "Epoch 17/25\n",
      "138840/138840 [==============================] - 6s 42us/step - loss: 438.7626\n",
      "Epoch 18/25\n",
      "138840/138840 [==============================] - 6s 44us/step - loss: 438.1445\n",
      "Epoch 19/25\n",
      "138840/138840 [==============================] - 6s 42us/step - loss: 439.9093\n",
      "Epoch 20/25\n",
      "138840/138840 [==============================] - 6s 42us/step - loss: 437.0986\n",
      "Epoch 21/25\n",
      "138840/138840 [==============================] - 6s 42us/step - loss: 435.6732\n",
      "Epoch 22/25\n",
      "138840/138840 [==============================] - 6s 43us/step - loss: 433.3714: 0\n",
      "Epoch 23/25\n",
      "138840/138840 [==============================] - 6s 44us/step - loss: 432.7090\n",
      "Epoch 24/25\n",
      "138840/138840 [==============================] - 6s 45us/step - loss: 430.7236\n",
      "Epoch 25/25\n",
      "138840/138840 [==============================] - 6s 46us/step - loss: 429.7446\n"
     ]
    }
   ],
   "source": [
    "# design network for confirmed cases data \n",
    "model = Sequential()\n",
    "model.add(LSTM(60, activation='relu',input_shape=(x_train.shape[1], x_train.shape[2])))\n",
    "model.add(Dense(1))\n",
    "model.compile(loss='mean_squared_error', optimizer='adam')\n",
    "# fit network\n",
    "history = model.fit(x_train, y_train, epochs=25, batch_size=50, verbose=1, shuffle=False)"
   ]
  },
  {
   "cell_type": "markdown",
   "metadata": {},
   "source": [
    "### Visualize loss function"
   ]
  },
  {
   "cell_type": "code",
   "execution_count": 200,
   "metadata": {},
   "outputs": [
    {
     "data": {
      "text/plain": [
       "dict_keys(['loss'])"
      ]
     },
     "execution_count": 200,
     "metadata": {},
     "output_type": "execute_result"
    }
   ],
   "source": [
    "history_dict = history.history\n",
    "history_dict.keys()"
   ]
  },
  {
   "cell_type": "code",
   "execution_count": 201,
   "metadata": {},
   "outputs": [
    {
     "data": {
      "text/plain": [
       "<matplotlib.axes._subplots.AxesSubplot at 0x7f8f855ffa20>"
      ]
     },
     "execution_count": 201,
     "metadata": {},
     "output_type": "execute_result"
    },
    {
     "data": {
      "image/png": "[encoded data removed]",
      "text/plain": [
       "<Figure size 432x288 with 1 Axes>"
      ]
     },
     "metadata": {
      "needs_background": "light"
     },
     "output_type": "display_data"
    }
   ],
   "source": [
    "# Plot the loss vs the number of epoch\n",
    "sns.lineplot(x = range(len(history_dict['loss'])), y=history_dict['loss'])"
   ]
  },
  {
   "cell_type": "code",
   "execution_count": 202,
   "metadata": {},
   "outputs": [],
   "source": [
    "# make a prediction\n",
    "y_test_pre=model.predict(x_test)"
   ]
  },
  {
   "cell_type": "code",
   "execution_count": 247,
   "metadata": {},
   "outputs": [],
   "source": [
    "y_test_pre_flattened = y_test_pre.flatten()"
   ]
  },
  {
   "cell_type": "code",
   "execution_count": 348,
   "metadata": {},
   "outputs": [
    {
     "name": "stdout",
     "output_type": "stream",
     "text": [
      "(4415, 1)\n",
      "(4415,)\n"
     ]
    }
   ],
   "source": [
    "print(y_test_pre.shape)\n",
    "print(y_test_pre_flattened.shape)"
   ]
  },
  {
   "cell_type": "markdown",
   "metadata": {},
   "source": [
    "# Evaluating Models"
   ]
  },
  {
   "cell_type": "markdown",
   "metadata": {},
   "source": [
    "## Data"
   ]
  },
  {
   "cell_type": "markdown",
   "metadata": {},
   "source": [
    "### No neg values for some models"
   ]
  },
  {
   "cell_type": "code",
   "execution_count": 221,
   "metadata": {},
   "outputs": [],
   "source": [
    "def no_neg(data):\n",
    "    data_series = data[['yhat']]\n",
    "    data_series['yhat'] = [0 if x < 0 else x for x in data_series['yhat']]\n",
    "    return data_series"
   ]
  },
  {
   "cell_type": "code",
   "execution_count": 222,
   "metadata": {},
   "outputs": [],
   "source": [
    "forecast8_no_negs = no_neg(forecast8_reshaped)"
   ]
  },
  {
   "cell_type": "code",
   "execution_count": 223,
   "metadata": {},
   "outputs": [],
   "source": [
    "forecast5_no_negs = no_neg(forecast5_reshaped)"
   ]
  },
  {
   "cell_type": "code",
   "execution_count": 224,
   "metadata": {},
   "outputs": [],
   "source": [
    "forecast2_no_negs = no_neg(forecast2)"
   ]
  },
  {
   "cell_type": "code",
   "execution_count": 225,
   "metadata": {},
   "outputs": [],
   "source": [
    "forecast3_no_negs = no_neg(forecast3)"
   ]
  },
  {
   "cell_type": "markdown",
   "metadata": {},
   "source": [
    "### All Data"
   ]
  },
  {
   "cell_type": "code",
   "execution_count": 250,
   "metadata": {
    "code_folding": [],
    "scrolled": true
   },
   "outputs": [],
   "source": [
    "# these models do WAAAY better over the long term\n",
    "labels = ['Model1_15mins', 'Model2_lin', 'Model3_log', 'Model4_norm', 'Model5_norm2', 'Model6_lin_holidays',\n",
    "         \"Model7_log_holidays\", \"Model8_norm_holidays\", \"Baseline\", \"Model8_no_negs\", \"Model5_no_negs\",\n",
    "         \"Model2_no_negs\", \"Model3_no_negs\", \"LSTM_Model\"]\n",
    "preds_list = [forecast[['yhat']][35087:], \n",
    "             forecast2[['yhat']][-test_df_length:-23],\n",
    "             forecast3[['yhat']][-test_df_length:-23],\n",
    "             forecast4_reshaped[['yhat']][-test_df_length:-23],\n",
    "             forecast5_reshaped[['yhat']][-test_df_length:-23],\n",
    "             forecast6[['yhat']][-test_df_length:-23],\n",
    "             forecast7[['yhat']][-test_df_length:-23],\n",
    "             forecast8_reshaped[['yhat']][-test_df_length:-23],\n",
    "             baseline_y[-test_df_length:-23],\n",
    "             forecast8_no_negs[['yhat']][-test_df_length:-23],\n",
    "             forecast5_no_negs[['yhat']][-test_df_length:-23],\n",
    "             forecast2_no_negs[['yhat']][-test_df_length:-23],\n",
    "             forecast3_no_negs[['yhat']][-test_df_length:-23],\n",
    "             y_test_pre_flattened[:-22]] # note that LSTM model isn't consistent at this number, it varies based on random inputs "
   ]
  },
  {
   "cell_type": "markdown",
   "metadata": {},
   "source": [
    "## Functions to calculate metrics and return results as df"
   ]
  },
  {
   "cell_type": "code",
   "execution_count": 251,
   "metadata": {
    "code_folding": []
   },
   "outputs": [],
   "source": [
    "# https://medium.com/@joydeepubuntu/common-metrics-for-time-series-analysis-f3ca4b29fe42\n",
    "# https://machinelearningmastery.com/time-series-forecasting-performance-measures-with-python/\n",
    "def evaluate_models(model_name_list, predictions, test_df):\n",
    "    test_df_length = test_df.shape[0]\n",
    "    true_values = test_df['TotalVolume'].iloc[-test_df_length:-23].values\n",
    "    return_df = pd.DataFrame(index = model_name_list)\n",
    "    metric_list = []\n",
    "    for i in range(len(predictions)):\n",
    "        mse = mean_squared_error(true_values, predictions[i])\n",
    "        rmse = np.sqrt(mse)\n",
    "        mae = mean_absolute_error(true_values, predictions[i])\n",
    "        Medae = median_absolute_error(true_values, predictions[i])\n",
    "        # High R² means that the correlation between observed and predicted values is high\n",
    "        r2 = r2_score(true_values, predictions[i])\n",
    "        # https://machinelearningmastery.com/time-series-forecasting-performance-measures-with-python/\n",
    "#         prediction_reset_index = predictions[i].reset_index(drop=True)\n",
    "        if type(predictions[i]) == pd.core.frame.DataFrame:\n",
    "            mfe = [true_values[x]-predictions[i]['yhat'].iloc[x] for x in range(len(predictions[i]))]\n",
    "        elif type(predictions[i]) == np.ndarray:\n",
    "            mfe = list(true_values-predictions[i])\n",
    "        mfe_bias = (sum(mfe) * 1.0)/len(predictions[i])\n",
    "        metric_list.append([mse, rmse, mae, Medae, r2, mfe_bias])\n",
    "    return_df['MSE'] = [round(x[0], 2) for x in metric_list]\n",
    "    return_df['RMSE'] = [round(x[1],2) for x in metric_list]\n",
    "    return_df['MAE'] = [round(x[2],2) for x in metric_list]\n",
    "    return_df['MedAE'] = [round(x[3],2) for x in metric_list]\n",
    "    return_df['R2_score'] = [round(x[4], 2) for x in metric_list]\n",
    "    return_df['MFE_Bias'] = [round(x[5], 2) for x in metric_list]\n",
    "    return return_df"
   ]
  },
  {
   "cell_type": "markdown",
   "metadata": {},
   "source": [
    "## Evaluating Models"
   ]
  },
  {
   "cell_type": "code",
   "execution_count": 252,
   "metadata": {},
   "outputs": [],
   "source": [
    "model_metrics_df = evaluate_models(labels, preds_list, test_df_hourly)"
   ]
  },
  {
   "cell_type": "code",
   "execution_count": 253,
   "metadata": {},
   "outputs": [
    {
     "data": {
      "text/html": [
       "<div>\n",
       "<style scoped>\n",
       "    .dataframe tbody tr th:only-of-type {\n",
       "        vertical-align: middle;\n",
       "    }\n",
       "\n",
       "    .dataframe tbody tr th {\n",
       "        vertical-align: top;\n",
       "    }\n",
       "\n",
       "    .dataframe thead th {\n",
       "        text-align: right;\n",
       "    }\n",
       "</style>\n",
       "<table border=\"1\" class=\"dataframe\">\n",
       "  <thead>\n",
       "    <tr style=\"text-align: right;\">\n",
       "      <th></th>\n",
       "      <th>MSE</th>\n",
       "      <th>RMSE</th>\n",
       "      <th>MAE</th>\n",
       "      <th>MedAE</th>\n",
       "      <th>R2_score</th>\n",
       "      <th>MFE_Bias</th>\n",
       "    </tr>\n",
       "  </thead>\n",
       "  <tbody>\n",
       "    <tr>\n",
       "      <th>Model1_15mins</th>\n",
       "      <td>39867.83</td>\n",
       "      <td>199.67</td>\n",
       "      <td>148.11</td>\n",
       "      <td>113.28</td>\n",
       "      <td>0.76</td>\n",
       "      <td>2.95</td>\n",
       "    </tr>\n",
       "    <tr>\n",
       "      <th>Model2_lin</th>\n",
       "      <td>22882.04</td>\n",
       "      <td>151.27</td>\n",
       "      <td>112.16</td>\n",
       "      <td>83.19</td>\n",
       "      <td>0.86</td>\n",
       "      <td>2.62</td>\n",
       "    </tr>\n",
       "    <tr>\n",
       "      <th>Model3_log</th>\n",
       "      <td>22903.97</td>\n",
       "      <td>151.34</td>\n",
       "      <td>112.25</td>\n",
       "      <td>83.66</td>\n",
       "      <td>0.86</td>\n",
       "      <td>4.07</td>\n",
       "    </tr>\n",
       "    <tr>\n",
       "      <th>Model4_norm</th>\n",
       "      <td>22887.43</td>\n",
       "      <td>151.29</td>\n",
       "      <td>112.17</td>\n",
       "      <td>83.42</td>\n",
       "      <td>0.86</td>\n",
       "      <td>3.24</td>\n",
       "    </tr>\n",
       "    <tr>\n",
       "      <th>Model5_norm2</th>\n",
       "      <td>24298.85</td>\n",
       "      <td>155.88</td>\n",
       "      <td>111.53</td>\n",
       "      <td>82.00</td>\n",
       "      <td>0.85</td>\n",
       "      <td>-11.65</td>\n",
       "    </tr>\n",
       "    <tr>\n",
       "      <th>Model6_lin_holidays</th>\n",
       "      <td>22288.62</td>\n",
       "      <td>149.29</td>\n",
       "      <td>111.22</td>\n",
       "      <td>84.19</td>\n",
       "      <td>0.86</td>\n",
       "      <td>1.80</td>\n",
       "    </tr>\n",
       "    <tr>\n",
       "      <th>Model7_log_holidays</th>\n",
       "      <td>22318.67</td>\n",
       "      <td>149.39</td>\n",
       "      <td>111.28</td>\n",
       "      <td>84.84</td>\n",
       "      <td>0.86</td>\n",
       "      <td>4.55</td>\n",
       "    </tr>\n",
       "    <tr>\n",
       "      <th>Model8_norm_holidays</th>\n",
       "      <td>22284.56</td>\n",
       "      <td>149.28</td>\n",
       "      <td>111.22</td>\n",
       "      <td>84.09</td>\n",
       "      <td>0.86</td>\n",
       "      <td>1.07</td>\n",
       "    </tr>\n",
       "    <tr>\n",
       "      <th>Baseline</th>\n",
       "      <td>28281.38</td>\n",
       "      <td>168.17</td>\n",
       "      <td>103.02</td>\n",
       "      <td>63.00</td>\n",
       "      <td>0.83</td>\n",
       "      <td>26.76</td>\n",
       "    </tr>\n",
       "    <tr>\n",
       "      <th>Model8_no_negs</th>\n",
       "      <td>22096.00</td>\n",
       "      <td>148.65</td>\n",
       "      <td>110.18</td>\n",
       "      <td>81.77</td>\n",
       "      <td>0.87</td>\n",
       "      <td>0.04</td>\n",
       "    </tr>\n",
       "    <tr>\n",
       "      <th>Model5_no_negs</th>\n",
       "      <td>24298.85</td>\n",
       "      <td>155.88</td>\n",
       "      <td>111.53</td>\n",
       "      <td>82.00</td>\n",
       "      <td>0.85</td>\n",
       "      <td>-11.65</td>\n",
       "    </tr>\n",
       "    <tr>\n",
       "      <th>Model2_no_negs</th>\n",
       "      <td>22761.71</td>\n",
       "      <td>150.87</td>\n",
       "      <td>111.30</td>\n",
       "      <td>81.71</td>\n",
       "      <td>0.86</td>\n",
       "      <td>1.77</td>\n",
       "    </tr>\n",
       "    <tr>\n",
       "      <th>Model3_no_negs</th>\n",
       "      <td>22776.39</td>\n",
       "      <td>150.92</td>\n",
       "      <td>111.36</td>\n",
       "      <td>81.61</td>\n",
       "      <td>0.86</td>\n",
       "      <td>3.17</td>\n",
       "    </tr>\n",
       "    <tr>\n",
       "      <th>LSTM_Model</th>\n",
       "      <td>11995.48</td>\n",
       "      <td>109.52</td>\n",
       "      <td>88.20</td>\n",
       "      <td>101.87</td>\n",
       "      <td>0.93</td>\n",
       "      <td>83.74</td>\n",
       "    </tr>\n",
       "  </tbody>\n",
       "</table>\n",
       "</div>"
      ],
      "text/plain": [
       "                           MSE    RMSE     MAE   MedAE  R2_score  MFE_Bias\n",
       "Model1_15mins         39867.83  199.67  148.11  113.28      0.76      2.95\n",
       "Model2_lin            22882.04  151.27  112.16   83.19      0.86      2.62\n",
       "Model3_log            22903.97  151.34  112.25   83.66      0.86      4.07\n",
       "Model4_norm           22887.43  151.29  112.17   83.42      0.86      3.24\n",
       "Model5_norm2          24298.85  155.88  111.53   82.00      0.85    -11.65\n",
       "Model6_lin_holidays   22288.62  149.29  111.22   84.19      0.86      1.80\n",
       "Model7_log_holidays   22318.67  149.39  111.28   84.84      0.86      4.55\n",
       "Model8_norm_holidays  22284.56  149.28  111.22   84.09      0.86      1.07\n",
       "Baseline              28281.38  168.17  103.02   63.00      0.83     26.76\n",
       "Model8_no_negs        22096.00  148.65  110.18   81.77      0.87      0.04\n",
       "Model5_no_negs        24298.85  155.88  111.53   82.00      0.85    -11.65\n",
       "Model2_no_negs        22761.71  150.87  111.30   81.71      0.86      1.77\n",
       "Model3_no_negs        22776.39  150.92  111.36   81.61      0.86      3.17\n",
       "LSTM_Model            11995.48  109.52   88.20  101.87      0.93     83.74"
      ]
     },
     "execution_count": 253,
     "metadata": {},
     "output_type": "execute_result"
    }
   ],
   "source": [
    "# low medAE for baseline b/c no negative guesses\n",
    "model_metrics_df"
   ]
  },
  {
   "cell_type": "markdown",
   "metadata": {},
   "source": [
    "### Picking best values for each row"
   ]
  },
  {
   "cell_type": "code",
   "execution_count": 323,
   "metadata": {},
   "outputs": [
    {
     "name": "stdout",
     "output_type": "stream",
     "text": [
      "The min for MSE is LSTM_Model\n",
      "The min for RMSE is LSTM_Model\n",
      "The min for MAE is LSTM_Model\n",
      "The min for MedAE is Baseline\n",
      "The max for R2_score is LSTM_Model\n",
      "The lowest absolute value for MFE_Bias is Model8_no_negs\n"
     ]
    }
   ],
   "source": [
    "# LSTM is best in 4 of the 6 categories\n",
    "for col in model_metrics_df.columns:\n",
    "    if col in ['MAE', \"MedAE\", 'MSE', 'RMSE']: # min cols \n",
    "        min_col = model_metrics_df[col].min()\n",
    "        min_col_model = model_metrics_df.index[list(model_metrics_df[col]).index(min_col)]\n",
    "        print(f\"The min for {col} is {min_col_model}\")\n",
    "    elif col in ['R2_score']: # max cols\n",
    "        max_col = model_metrics_df[col].max()\n",
    "        max_col_model = model_metrics_df.index[list(model_metrics_df[col]).index(max_col)]\n",
    "        print(f\"The max for {col} is {max_col_model}\")\n",
    "    elif col in ['MFE_Bias']:\n",
    "        low_abs = min(model_metrics_df.MFE_Bias, key=abs)\n",
    "        low_abs_col = model_metrics_df.index[list(model_metrics_df[col]).index(low_abs)]\n",
    "        print(f\"The lowest absolute value for {col} is {low_abs_col}\")"
   ]
  },
  {
   "cell_type": "markdown",
   "metadata": {},
   "source": [
    "### Visualize the best performing models"
   ]
  },
  {
   "cell_type": "code",
   "execution_count": 326,
   "metadata": {},
   "outputs": [],
   "source": [
    "# until 12-31-2019 midnight\n",
    "test_df_model_comparisons = test_df_hourly[:-23].copy()"
   ]
  },
  {
   "cell_type": "code",
   "execution_count": 329,
   "metadata": {},
   "outputs": [],
   "source": [
    "test_df_model_comparisons['LSTM'] = y_test_pre_flattened[:-22]\n",
    "test_df_model_comparisons['Baseline'] =  baseline_y[-test_df_length:-23]\n",
    "test_df_model_comparisons['Model8_no_negs'] = forecast8_no_negs[['yhat']][-test_df_length:-23].values"
   ]
  },
  {
   "cell_type": "code",
   "execution_count": 347,
   "metadata": {},
   "outputs": [
    {
     "data": {
      "text/html": [
       "<div>\n",
       "<style scoped>\n",
       "    .dataframe tbody tr th:only-of-type {\n",
       "        vertical-align: middle;\n",
       "    }\n",
       "\n",
       "    .dataframe tbody tr th {\n",
       "        vertical-align: top;\n",
       "    }\n",
       "\n",
       "    .dataframe thead th {\n",
       "        text-align: right;\n",
       "    }\n",
       "</style>\n",
       "<table border=\"1\" class=\"dataframe\">\n",
       "  <thead>\n",
       "    <tr style=\"text-align: right;\">\n",
       "      <th></th>\n",
       "      <th>Date_IntervalStart</th>\n",
       "      <th>TotalVolume</th>\n",
       "      <th>LSTM</th>\n",
       "      <th>Baseline</th>\n",
       "      <th>Model8_no_negs</th>\n",
       "    </tr>\n",
       "  </thead>\n",
       "  <tbody>\n",
       "    <tr>\n",
       "      <th>0</th>\n",
       "      <td>2019-07-01 00:00:00</td>\n",
       "      <td>29</td>\n",
       "      <td>25.939886</td>\n",
       "      <td>148</td>\n",
       "      <td>94.998608</td>\n",
       "    </tr>\n",
       "    <tr>\n",
       "      <th>1</th>\n",
       "      <td>2019-07-01 01:00:00</td>\n",
       "      <td>15</td>\n",
       "      <td>12.512138</td>\n",
       "      <td>74</td>\n",
       "      <td>28.402235</td>\n",
       "    </tr>\n",
       "  </tbody>\n",
       "</table>\n",
       "</div>"
      ],
      "text/plain": [
       "   Date_IntervalStart  TotalVolume       LSTM  Baseline  Model8_no_negs\n",
       "0 2019-07-01 00:00:00           29  25.939886       148       94.998608\n",
       "1 2019-07-01 01:00:00           15  12.512138        74       28.402235"
      ]
     },
     "execution_count": 347,
     "metadata": {},
     "output_type": "execute_result"
    }
   ],
   "source": [
    "test_df_model_comparisons.head(2)"
   ]
  },
  {
   "cell_type": "code",
   "execution_count": 334,
   "metadata": {},
   "outputs": [],
   "source": [
    "small_test_df_model_comparisons = test_df_model_comparisons[4200:]"
   ]
  },
  {
   "cell_type": "code",
   "execution_count": 341,
   "metadata": {},
   "outputs": [
    {
     "data": {
      "text/plain": [
       "<matplotlib.legend.Legend at 0x7f8f93bd0630>"
      ]
     },
     "execution_count": 341,
     "metadata": {},
     "output_type": "execute_result"
    },
    {
     "data": {
      "image/png": "[encoded data removed]",
      "text/plain": [
       "<Figure size 1440x288 with 1 Axes>"
      ]
     },
     "metadata": {
      "needs_background": "light"
     },
     "output_type": "display_data"
    }
   ],
   "source": [
    "plt.figure(figsize=(20,4))\n",
    "plt.plot(small_test_df_model_comparisons.Date_IntervalStart,small_test_df_model_comparisons.LSTM,label='LSTM')\n",
    "plt.plot(small_test_df_model_comparisons.Date_IntervalStart,small_test_df_model_comparisons.Baseline,label='Baseline')\n",
    "plt.plot(small_test_df_model_comparisons.Date_IntervalStart,small_test_df_model_comparisons.Model8_no_negs,label='Model8_no_negs')\n",
    "plt.plot(small_test_df_model_comparisons.Date_IntervalStart,small_test_df_model_comparisons['TotalVolume'],label='Actual Values', linewidth=3.5)\n",
    "plt.title('Prediction VS Actual Values for Test Data',fontsize=20)\n",
    "plt.legend()"
   ]
  },
  {
   "cell_type": "markdown",
   "metadata": {},
   "source": [
    "# Conclusions "
   ]
  },
  {
   "cell_type": "markdown",
   "metadata": {},
   "source": [
    "- This project aimed to model the traffic patterns on the Eastern Distributor Highway (M1) in Sydney, Australia. This effort would benefit any business that uses this highway regularly, and the Australian Government in controlling the influx of cars leading into Sydney from the south. Additionally, people in the southern suburbs can use this data to plan their trips to avoid as much traffic as possible, both on a daily and weekly time scale. \n",
    "- The models are varied in their predictions but there are clear winners depending on the type of prediction required:\n",
    "    - Baseline Model: Best for singular predictions. The low median absolute error score showed that for all of its predictions, on the whole, the baseline model is closest to the true number of cars on the road.\n",
    "    - LSTM Model: The overall winner for predictions. If one is looking to know how many cars are on the road over a substantial period of time, this model is the most accurate (individual guess will vary, especially as an undercount of the true number of cars)\n",
    "    - Model 8 (no lag): This model is best for guessing in equal proportion above and below the true number of cars on the road. This will be helpful for businesses that are equally biased in guesses. This makes the model more stable than the other ones created."
   ]
  }
 ],
 "metadata": {
  "kernelspec": {
   "display_name": "Python [conda env:learn-env] *",
   "language": "python",
   "name": "conda-env-learn-env-py"
  },
  "language_info": {
   "codemirror_mode": {
    "name": "ipython",
    "version": 3
   },
   "file_extension": ".py",
   "mimetype": "text/x-python",
   "name": "python",
   "nbconvert_exporter": "python",
   "pygments_lexer": "ipython3",
   "version": "3.6.9"
  },
  "toc": {
   "base_numbering": 1,
   "nav_menu": {},
   "number_sections": true,
   "sideBar": true,
   "skip_h1_title": false,
   "title_cell": "Table of Contents",
   "title_sidebar": "Contents",
   "toc_cell": false,
   "toc_position": {
    "height": "calc(100% - 180px)",
    "left": "10px",
    "top": "150px",
    "width": "245.796875px"
   },
   "toc_section_display": true,
   "toc_window_display": true
  },
  "varInspector": {
   "cols": {
    "lenName": 16,
    "lenType": 16,
    "lenVar": 40
   },
   "kernels_config": {
    "python": {
     "delete_cmd_postfix": "",
     "delete_cmd_prefix": "del ",
     "library": "var_list.py",
     "varRefreshCmd": "print(var_dic_list())"
    },
    "r": {
     "delete_cmd_postfix": ") ",
     "delete_cmd_prefix": "rm(",
     "library": "var_list.r",
     "varRefreshCmd": "cat(var_dic_list()) "
    }
   },
   "types_to_exclude": [
    "module",
    "function",
    "builtin_function_or_method",
    "instance",
    "_Feature"
   ],
   "window_display": false
  }
 },
 "nbformat": 4,
 "nbformat_minor": 2
}
